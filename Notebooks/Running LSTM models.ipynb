{
 "cells": [
  {
   "cell_type": "markdown",
   "metadata": {},
   "source": [
    "# Exploring LSTM models \n",
    "\n",
    "In this notebook we run lstm models on Infodengue data."
   ]
  },
  {
   "cell_type": "code",
   "execution_count": 1,
   "metadata": {},
   "outputs": [
    {
     "name": "stderr",
     "output_type": "stream",
     "text": [
      "Using TensorFlow backend.\n"
     ]
    },
    {
     "name": "stdout",
     "output_type": "stream",
     "text": [
      "PSQL_USER not found. Declare it as envvar or define a default value.\n"
     ]
    }
   ],
   "source": [
    "%load_ext autoreload\n",
    "%autoreload 2\n",
    "import numpy as np\n",
    "import pandas as pd\n",
    "import matplotlib.pyplot as plt\n",
    "#import os\n",
    "#os.chdir(\"..\")\n",
    "\n",
    "import sys\n",
    "sys.path.append('../')\n",
    "from infodenguepredict.models.deeplearning.lstm import *\n",
    "#plot_predicted_vs_data, loss_and_metrics, evaluate, calculate_metrics, train_evaluate_model, \n",
    "#from infodenguepredict.models.deeplearning.preprocessing import *\n",
    "#from infodenguepredict.models.deeplearning.lstm import lstm.build_model\n",
    "#try:\n",
    "#    from infodenguepredict.models.deeplearning.lstm import *\n",
    "#except Exception as e:\n",
    "#    print(e)\n",
    "#from infodengue import get_temperature_data, get_alerta_table, get_tweet_data, combined_data, get_cluster_data\n",
    "import pickle\n",
    "import getpass, os\n",
    "from keras.layers.core import Dense, Activation, Dropout\n",
    "from keras.layers.recurrent import LSTM\n",
    "from keras.models import Sequential\n",
    "from keras.utils.vis_utils import plot_model\n",
    "from keras.callbacks import TensorBoard, EarlyStopping\n",
    "from keras import backend as K\n",
    "from sklearn.metrics import *\n",
    "import pandas as pd\n",
    "from time import time"
   ]
  },
  {
   "cell_type": "markdown",
   "metadata": {},
   "source": [
    "## Loading the data"
   ]
  },
  {
   "cell_type": "markdown",
   "metadata": {},
   "source": [
    "To download the data we follow the instructions in the [README.rst](https://github.com/fccoelho/InfoDenguePredict/blob/master/README.rst) file."
   ]
  },
  {
   "cell_type": "markdown",
   "metadata": {},
   "source": [
    "We perform our experiments on data from Rio de Janeiro. Let us first read all our data."
   ]
  },
  {
   "cell_type": "code",
   "execution_count": 2,
   "metadata": {},
   "outputs": [
    {
     "data": {
      "text/html": [
       "<div>\n",
       "<style scoped>\n",
       "    .dataframe tbody tr th:only-of-type {\n",
       "        vertical-align: middle;\n",
       "    }\n",
       "\n",
       "    .dataframe tbody tr th {\n",
       "        vertical-align: top;\n",
       "    }\n",
       "\n",
       "    .dataframe thead th {\n",
       "        text-align: right;\n",
       "    }\n",
       "</style>\n",
       "<table border=\"1\" class=\"dataframe\">\n",
       "  <thead>\n",
       "    <tr style=\"text-align: right;\">\n",
       "      <th></th>\n",
       "      <th>casos_3306206</th>\n",
       "      <th>casos_est_3306206</th>\n",
       "      <th>casos_est_min_3306206</th>\n",
       "      <th>casos_est_max_3306206</th>\n",
       "      <th>p_rt1_3306206</th>\n",
       "      <th>p_inc100k_3306206</th>\n",
       "      <th>temp_min_3306206</th>\n",
       "      <th>temp_max_3306206</th>\n",
       "      <th>umid_min_3306206</th>\n",
       "      <th>pressao_min_3306206</th>\n",
       "      <th>...</th>\n",
       "      <th>casos_3300456</th>\n",
       "      <th>casos_est_3300456</th>\n",
       "      <th>casos_est_min_3300456</th>\n",
       "      <th>casos_est_max_3300456</th>\n",
       "      <th>p_rt1_3300456</th>\n",
       "      <th>p_inc100k_3300456</th>\n",
       "      <th>temp_min_3300456</th>\n",
       "      <th>temp_max_3300456</th>\n",
       "      <th>umid_min_3300456</th>\n",
       "      <th>pressao_min_3300456</th>\n",
       "    </tr>\n",
       "  </thead>\n",
       "  <tbody>\n",
       "    <tr>\n",
       "      <th>2010-01-03</th>\n",
       "      <td>1</td>\n",
       "      <td>1.0</td>\n",
       "      <td>1</td>\n",
       "      <td>1</td>\n",
       "      <td>0.0</td>\n",
       "      <td>2.80725</td>\n",
       "      <td>24.333333</td>\n",
       "      <td>33.000000</td>\n",
       "      <td>42.000000</td>\n",
       "      <td>1009.666667</td>\n",
       "      <td>...</td>\n",
       "      <td>3</td>\n",
       "      <td>3.0</td>\n",
       "      <td>3</td>\n",
       "      <td>3</td>\n",
       "      <td>0.0</td>\n",
       "      <td>0.607114</td>\n",
       "      <td>24.333333</td>\n",
       "      <td>33.000000</td>\n",
       "      <td>42.000000</td>\n",
       "      <td>1009.666667</td>\n",
       "    </tr>\n",
       "    <tr>\n",
       "      <th>2010-01-10</th>\n",
       "      <td>0</td>\n",
       "      <td>0.0</td>\n",
       "      <td>0</td>\n",
       "      <td>0</td>\n",
       "      <td>0.0</td>\n",
       "      <td>0.00000</td>\n",
       "      <td>25.428571</td>\n",
       "      <td>34.000000</td>\n",
       "      <td>43.285714</td>\n",
       "      <td>1008.000000</td>\n",
       "      <td>...</td>\n",
       "      <td>6</td>\n",
       "      <td>6.0</td>\n",
       "      <td>6</td>\n",
       "      <td>6</td>\n",
       "      <td>0.0</td>\n",
       "      <td>1.214230</td>\n",
       "      <td>25.428571</td>\n",
       "      <td>34.000000</td>\n",
       "      <td>43.285714</td>\n",
       "      <td>1008.000000</td>\n",
       "    </tr>\n",
       "    <tr>\n",
       "      <th>2010-01-17</th>\n",
       "      <td>0</td>\n",
       "      <td>0.0</td>\n",
       "      <td>0</td>\n",
       "      <td>0</td>\n",
       "      <td>0.0</td>\n",
       "      <td>0.00000</td>\n",
       "      <td>24.142857</td>\n",
       "      <td>34.000000</td>\n",
       "      <td>43.857143</td>\n",
       "      <td>1010.285714</td>\n",
       "      <td>...</td>\n",
       "      <td>1</td>\n",
       "      <td>1.0</td>\n",
       "      <td>1</td>\n",
       "      <td>1</td>\n",
       "      <td>0.0</td>\n",
       "      <td>0.202371</td>\n",
       "      <td>24.142857</td>\n",
       "      <td>34.000000</td>\n",
       "      <td>43.857143</td>\n",
       "      <td>1010.285714</td>\n",
       "    </tr>\n",
       "    <tr>\n",
       "      <th>2010-01-24</th>\n",
       "      <td>0</td>\n",
       "      <td>0.0</td>\n",
       "      <td>0</td>\n",
       "      <td>0</td>\n",
       "      <td>0.0</td>\n",
       "      <td>0.00000</td>\n",
       "      <td>23.714286</td>\n",
       "      <td>34.285714</td>\n",
       "      <td>39.285714</td>\n",
       "      <td>1009.000000</td>\n",
       "      <td>...</td>\n",
       "      <td>4</td>\n",
       "      <td>4.0</td>\n",
       "      <td>4</td>\n",
       "      <td>4</td>\n",
       "      <td>0.0</td>\n",
       "      <td>0.809486</td>\n",
       "      <td>23.714286</td>\n",
       "      <td>34.285714</td>\n",
       "      <td>39.285714</td>\n",
       "      <td>1009.000000</td>\n",
       "    </tr>\n",
       "    <tr>\n",
       "      <th>2010-01-31</th>\n",
       "      <td>0</td>\n",
       "      <td>0.0</td>\n",
       "      <td>0</td>\n",
       "      <td>0</td>\n",
       "      <td>0.0</td>\n",
       "      <td>0.00000</td>\n",
       "      <td>23.857143</td>\n",
       "      <td>33.857143</td>\n",
       "      <td>41.285714</td>\n",
       "      <td>1009.857143</td>\n",
       "      <td>...</td>\n",
       "      <td>9</td>\n",
       "      <td>9.0</td>\n",
       "      <td>9</td>\n",
       "      <td>9</td>\n",
       "      <td>0.0</td>\n",
       "      <td>1.821340</td>\n",
       "      <td>23.857143</td>\n",
       "      <td>33.857143</td>\n",
       "      <td>41.285714</td>\n",
       "      <td>1009.857143</td>\n",
       "    </tr>\n",
       "  </tbody>\n",
       "</table>\n",
       "<p>5 rows × 230 columns</p>\n",
       "</div>"
      ],
      "text/plain": [
       "            casos_3306206  casos_est_3306206  casos_est_min_3306206  \\\n",
       "2010-01-03              1                1.0                      1   \n",
       "2010-01-10              0                0.0                      0   \n",
       "2010-01-17              0                0.0                      0   \n",
       "2010-01-24              0                0.0                      0   \n",
       "2010-01-31              0                0.0                      0   \n",
       "\n",
       "            casos_est_max_3306206  p_rt1_3306206  p_inc100k_3306206  \\\n",
       "2010-01-03                      1            0.0            2.80725   \n",
       "2010-01-10                      0            0.0            0.00000   \n",
       "2010-01-17                      0            0.0            0.00000   \n",
       "2010-01-24                      0            0.0            0.00000   \n",
       "2010-01-31                      0            0.0            0.00000   \n",
       "\n",
       "            temp_min_3306206  temp_max_3306206  umid_min_3306206  \\\n",
       "2010-01-03         24.333333         33.000000         42.000000   \n",
       "2010-01-10         25.428571         34.000000         43.285714   \n",
       "2010-01-17         24.142857         34.000000         43.857143   \n",
       "2010-01-24         23.714286         34.285714         39.285714   \n",
       "2010-01-31         23.857143         33.857143         41.285714   \n",
       "\n",
       "            pressao_min_3306206  ...  casos_3300456  casos_est_3300456  \\\n",
       "2010-01-03          1009.666667  ...              3                3.0   \n",
       "2010-01-10          1008.000000  ...              6                6.0   \n",
       "2010-01-17          1010.285714  ...              1                1.0   \n",
       "2010-01-24          1009.000000  ...              4                4.0   \n",
       "2010-01-31          1009.857143  ...              9                9.0   \n",
       "\n",
       "            casos_est_min_3300456  casos_est_max_3300456  p_rt1_3300456  \\\n",
       "2010-01-03                      3                      3            0.0   \n",
       "2010-01-10                      6                      6            0.0   \n",
       "2010-01-17                      1                      1            0.0   \n",
       "2010-01-24                      4                      4            0.0   \n",
       "2010-01-31                      9                      9            0.0   \n",
       "\n",
       "            p_inc100k_3300456  temp_min_3300456  temp_max_3300456  \\\n",
       "2010-01-03           0.607114         24.333333         33.000000   \n",
       "2010-01-10           1.214230         25.428571         34.000000   \n",
       "2010-01-17           0.202371         24.142857         34.000000   \n",
       "2010-01-24           0.809486         23.714286         34.285714   \n",
       "2010-01-31           1.821340         23.857143         33.857143   \n",
       "\n",
       "            umid_min_3300456  pressao_min_3300456  \n",
       "2010-01-03         42.000000          1009.666667  \n",
       "2010-01-10         43.285714          1008.000000  \n",
       "2010-01-17         43.857143          1010.285714  \n",
       "2010-01-24         39.285714          1009.000000  \n",
       "2010-01-31         41.285714          1009.857143  \n",
       "\n",
       "[5 rows x 230 columns]"
      ]
     },
     "execution_count": 2,
     "metadata": {},
     "output_type": "execute_result"
    }
   ],
   "source": [
    "data_cluster = pd.read_csv(\"~/data/infodengue/3304557_cluster.csv\",index_col=0)\n",
    "data_cluster.head()"
   ]
  },
  {
   "cell_type": "markdown",
   "metadata": {},
   "source": [
    "The city of Rio is coded as cluster `3304557`. We can easily filter the dataframe above to get only the data corresponding to this cluster."
   ]
  },
  {
   "cell_type": "code",
   "execution_count": 3,
   "metadata": {},
   "outputs": [
    {
     "data": {
      "text/html": [
       "<div>\n",
       "<style scoped>\n",
       "    .dataframe tbody tr th:only-of-type {\n",
       "        vertical-align: middle;\n",
       "    }\n",
       "\n",
       "    .dataframe tbody tr th {\n",
       "        vertical-align: top;\n",
       "    }\n",
       "\n",
       "    .dataframe thead th {\n",
       "        text-align: right;\n",
       "    }\n",
       "</style>\n",
       "<table border=\"1\" class=\"dataframe\">\n",
       "  <thead>\n",
       "    <tr style=\"text-align: right;\">\n",
       "      <th></th>\n",
       "      <th>casos_3306206</th>\n",
       "      <th>casos_est_3306206</th>\n",
       "      <th>casos_est_min_3306206</th>\n",
       "      <th>casos_est_max_3306206</th>\n",
       "      <th>p_rt1_3306206</th>\n",
       "      <th>p_inc100k_3306206</th>\n",
       "      <th>temp_min_3306206</th>\n",
       "      <th>temp_max_3306206</th>\n",
       "      <th>umid_min_3306206</th>\n",
       "      <th>pressao_min_3306206</th>\n",
       "      <th>...</th>\n",
       "      <th>casos_3300456</th>\n",
       "      <th>casos_est_3300456</th>\n",
       "      <th>casos_est_min_3300456</th>\n",
       "      <th>casos_est_max_3300456</th>\n",
       "      <th>p_rt1_3300456</th>\n",
       "      <th>p_inc100k_3300456</th>\n",
       "      <th>temp_min_3300456</th>\n",
       "      <th>temp_max_3300456</th>\n",
       "      <th>umid_min_3300456</th>\n",
       "      <th>pressao_min_3300456</th>\n",
       "    </tr>\n",
       "  </thead>\n",
       "  <tbody>\n",
       "    <tr>\n",
       "      <th>2019-04-14</th>\n",
       "      <td>3</td>\n",
       "      <td>3.0</td>\n",
       "      <td>3</td>\n",
       "      <td>3</td>\n",
       "      <td>0.123280</td>\n",
       "      <td>8.42176</td>\n",
       "      <td>23.428571</td>\n",
       "      <td>25.285714</td>\n",
       "      <td>85.986071</td>\n",
       "      <td>1012.857143</td>\n",
       "      <td>...</td>\n",
       "      <td>4</td>\n",
       "      <td>4.0</td>\n",
       "      <td>4</td>\n",
       "      <td>4</td>\n",
       "      <td>0.015841</td>\n",
       "      <td>0.809486</td>\n",
       "      <td>23.428571</td>\n",
       "      <td>25.285714</td>\n",
       "      <td>85.986071</td>\n",
       "      <td>1012.857143</td>\n",
       "    </tr>\n",
       "    <tr>\n",
       "      <th>2019-04-21</th>\n",
       "      <td>3</td>\n",
       "      <td>3.0</td>\n",
       "      <td>3</td>\n",
       "      <td>3</td>\n",
       "      <td>0.173497</td>\n",
       "      <td>8.42176</td>\n",
       "      <td>22.571429</td>\n",
       "      <td>25.571429</td>\n",
       "      <td>76.046814</td>\n",
       "      <td>1011.857143</td>\n",
       "      <td>...</td>\n",
       "      <td>0</td>\n",
       "      <td>0.0</td>\n",
       "      <td>0</td>\n",
       "      <td>0</td>\n",
       "      <td>0.000000</td>\n",
       "      <td>0.000000</td>\n",
       "      <td>22.571429</td>\n",
       "      <td>25.571429</td>\n",
       "      <td>76.046814</td>\n",
       "      <td>1011.857143</td>\n",
       "    </tr>\n",
       "    <tr>\n",
       "      <th>2019-04-28</th>\n",
       "      <td>11</td>\n",
       "      <td>12.0</td>\n",
       "      <td>11</td>\n",
       "      <td>13</td>\n",
       "      <td>0.958076</td>\n",
       "      <td>33.68700</td>\n",
       "      <td>23.857143</td>\n",
       "      <td>26.857143</td>\n",
       "      <td>78.433171</td>\n",
       "      <td>1013.428571</td>\n",
       "      <td>...</td>\n",
       "      <td>0</td>\n",
       "      <td>0.0</td>\n",
       "      <td>0</td>\n",
       "      <td>0</td>\n",
       "      <td>0.000000</td>\n",
       "      <td>0.000000</td>\n",
       "      <td>23.857143</td>\n",
       "      <td>26.857143</td>\n",
       "      <td>78.433171</td>\n",
       "      <td>1013.428571</td>\n",
       "    </tr>\n",
       "    <tr>\n",
       "      <th>2019-05-05</th>\n",
       "      <td>15</td>\n",
       "      <td>20.0</td>\n",
       "      <td>16</td>\n",
       "      <td>21</td>\n",
       "      <td>0.995579</td>\n",
       "      <td>56.14510</td>\n",
       "      <td>23.142857</td>\n",
       "      <td>25.857143</td>\n",
       "      <td>80.172271</td>\n",
       "      <td>1013.000000</td>\n",
       "      <td>...</td>\n",
       "      <td>0</td>\n",
       "      <td>0.0</td>\n",
       "      <td>0</td>\n",
       "      <td>0</td>\n",
       "      <td>0.000000</td>\n",
       "      <td>0.000000</td>\n",
       "      <td>23.142857</td>\n",
       "      <td>25.857143</td>\n",
       "      <td>80.172271</td>\n",
       "      <td>1013.000000</td>\n",
       "    </tr>\n",
       "    <tr>\n",
       "      <th>2019-05-12</th>\n",
       "      <td>8</td>\n",
       "      <td>14.0</td>\n",
       "      <td>10</td>\n",
       "      <td>15</td>\n",
       "      <td>0.734682</td>\n",
       "      <td>39.30160</td>\n",
       "      <td>22.142857</td>\n",
       "      <td>24.857143</td>\n",
       "      <td>77.838957</td>\n",
       "      <td>1014.000000</td>\n",
       "      <td>...</td>\n",
       "      <td>0</td>\n",
       "      <td>0.0</td>\n",
       "      <td>0</td>\n",
       "      <td>0</td>\n",
       "      <td>0.000000</td>\n",
       "      <td>0.000000</td>\n",
       "      <td>22.142857</td>\n",
       "      <td>24.857143</td>\n",
       "      <td>77.838957</td>\n",
       "      <td>1014.000000</td>\n",
       "    </tr>\n",
       "  </tbody>\n",
       "</table>\n",
       "<p>5 rows × 230 columns</p>\n",
       "</div>"
      ],
      "text/plain": [
       "            casos_3306206  casos_est_3306206  casos_est_min_3306206  \\\n",
       "2019-04-14              3                3.0                      3   \n",
       "2019-04-21              3                3.0                      3   \n",
       "2019-04-28             11               12.0                     11   \n",
       "2019-05-05             15               20.0                     16   \n",
       "2019-05-12              8               14.0                     10   \n",
       "\n",
       "            casos_est_max_3306206  p_rt1_3306206  p_inc100k_3306206  \\\n",
       "2019-04-14                      3       0.123280            8.42176   \n",
       "2019-04-21                      3       0.173497            8.42176   \n",
       "2019-04-28                     13       0.958076           33.68700   \n",
       "2019-05-05                     21       0.995579           56.14510   \n",
       "2019-05-12                     15       0.734682           39.30160   \n",
       "\n",
       "            temp_min_3306206  temp_max_3306206  umid_min_3306206  \\\n",
       "2019-04-14         23.428571         25.285714         85.986071   \n",
       "2019-04-21         22.571429         25.571429         76.046814   \n",
       "2019-04-28         23.857143         26.857143         78.433171   \n",
       "2019-05-05         23.142857         25.857143         80.172271   \n",
       "2019-05-12         22.142857         24.857143         77.838957   \n",
       "\n",
       "            pressao_min_3306206  ...  casos_3300456  casos_est_3300456  \\\n",
       "2019-04-14          1012.857143  ...              4                4.0   \n",
       "2019-04-21          1011.857143  ...              0                0.0   \n",
       "2019-04-28          1013.428571  ...              0                0.0   \n",
       "2019-05-05          1013.000000  ...              0                0.0   \n",
       "2019-05-12          1014.000000  ...              0                0.0   \n",
       "\n",
       "            casos_est_min_3300456  casos_est_max_3300456  p_rt1_3300456  \\\n",
       "2019-04-14                      4                      4       0.015841   \n",
       "2019-04-21                      0                      0       0.000000   \n",
       "2019-04-28                      0                      0       0.000000   \n",
       "2019-05-05                      0                      0       0.000000   \n",
       "2019-05-12                      0                      0       0.000000   \n",
       "\n",
       "            p_inc100k_3300456  temp_min_3300456  temp_max_3300456  \\\n",
       "2019-04-14           0.809486         23.428571         25.285714   \n",
       "2019-04-21           0.000000         22.571429         25.571429   \n",
       "2019-04-28           0.000000         23.857143         26.857143   \n",
       "2019-05-05           0.000000         23.142857         25.857143   \n",
       "2019-05-12           0.000000         22.142857         24.857143   \n",
       "\n",
       "            umid_min_3300456  pressao_min_3300456  \n",
       "2019-04-14         85.986071          1012.857143  \n",
       "2019-04-21         76.046814          1011.857143  \n",
       "2019-04-28         78.433171          1013.428571  \n",
       "2019-05-05         80.172271          1013.000000  \n",
       "2019-05-12         77.838957          1014.000000  \n",
       "\n",
       "[5 rows x 230 columns]"
      ]
     },
     "execution_count": 3,
     "metadata": {},
     "output_type": "execute_result"
    }
   ],
   "source": [
    "data_cluster.tail()"
   ]
  },
  {
   "cell_type": "code",
   "execution_count": 4,
   "metadata": {},
   "outputs": [
    {
     "name": "stdout",
     "output_type": "stream",
     "text": [
      "(488, 10)\n",
      "Index(['casos_3304557', 'casos_est_3304557', 'casos_est_min_3304557',\n",
      "       'casos_est_max_3304557', 'p_rt1_3304557', 'p_inc100k_3304557',\n",
      "       'temp_min_3304557', 'temp_max_3304557', 'umid_min_3304557',\n",
      "       'pressao_min_3304557'],\n",
      "      dtype='object')\n"
     ]
    },
    {
     "data": {
      "text/html": [
       "<div>\n",
       "<style scoped>\n",
       "    .dataframe tbody tr th:only-of-type {\n",
       "        vertical-align: middle;\n",
       "    }\n",
       "\n",
       "    .dataframe tbody tr th {\n",
       "        vertical-align: top;\n",
       "    }\n",
       "\n",
       "    .dataframe thead th {\n",
       "        text-align: right;\n",
       "    }\n",
       "</style>\n",
       "<table border=\"1\" class=\"dataframe\">\n",
       "  <thead>\n",
       "    <tr style=\"text-align: right;\">\n",
       "      <th></th>\n",
       "      <th>casos_3304557</th>\n",
       "      <th>casos_est_3304557</th>\n",
       "      <th>casos_est_min_3304557</th>\n",
       "      <th>casos_est_max_3304557</th>\n",
       "      <th>p_rt1_3304557</th>\n",
       "      <th>p_inc100k_3304557</th>\n",
       "      <th>temp_min_3304557</th>\n",
       "      <th>temp_max_3304557</th>\n",
       "      <th>umid_min_3304557</th>\n",
       "      <th>pressao_min_3304557</th>\n",
       "    </tr>\n",
       "  </thead>\n",
       "  <tbody>\n",
       "    <tr>\n",
       "      <th>2010-01-03</th>\n",
       "      <td>30</td>\n",
       "      <td>30.0</td>\n",
       "      <td>30</td>\n",
       "      <td>30</td>\n",
       "      <td>0.0</td>\n",
       "      <td>0.461621</td>\n",
       "      <td>24.333333</td>\n",
       "      <td>33.000000</td>\n",
       "      <td>42.000000</td>\n",
       "      <td>1009.666667</td>\n",
       "    </tr>\n",
       "    <tr>\n",
       "      <th>2010-01-10</th>\n",
       "      <td>46</td>\n",
       "      <td>46.0</td>\n",
       "      <td>46</td>\n",
       "      <td>46</td>\n",
       "      <td>0.0</td>\n",
       "      <td>0.707819</td>\n",
       "      <td>25.428571</td>\n",
       "      <td>34.000000</td>\n",
       "      <td>43.285714</td>\n",
       "      <td>1008.000000</td>\n",
       "    </tr>\n",
       "    <tr>\n",
       "      <th>2010-01-17</th>\n",
       "      <td>30</td>\n",
       "      <td>30.0</td>\n",
       "      <td>30</td>\n",
       "      <td>30</td>\n",
       "      <td>0.0</td>\n",
       "      <td>0.461621</td>\n",
       "      <td>24.142857</td>\n",
       "      <td>34.000000</td>\n",
       "      <td>43.857143</td>\n",
       "      <td>1010.285714</td>\n",
       "    </tr>\n",
       "    <tr>\n",
       "      <th>2010-01-24</th>\n",
       "      <td>51</td>\n",
       "      <td>51.0</td>\n",
       "      <td>51</td>\n",
       "      <td>51</td>\n",
       "      <td>0.0</td>\n",
       "      <td>0.784756</td>\n",
       "      <td>23.714286</td>\n",
       "      <td>34.285714</td>\n",
       "      <td>39.285714</td>\n",
       "      <td>1009.000000</td>\n",
       "    </tr>\n",
       "    <tr>\n",
       "      <th>2010-01-31</th>\n",
       "      <td>58</td>\n",
       "      <td>58.0</td>\n",
       "      <td>58</td>\n",
       "      <td>58</td>\n",
       "      <td>0.0</td>\n",
       "      <td>0.892467</td>\n",
       "      <td>23.857143</td>\n",
       "      <td>33.857143</td>\n",
       "      <td>41.285714</td>\n",
       "      <td>1009.857143</td>\n",
       "    </tr>\n",
       "  </tbody>\n",
       "</table>\n",
       "</div>"
      ],
      "text/plain": [
       "            casos_3304557  casos_est_3304557  casos_est_min_3304557  \\\n",
       "2010-01-03             30               30.0                     30   \n",
       "2010-01-10             46               46.0                     46   \n",
       "2010-01-17             30               30.0                     30   \n",
       "2010-01-24             51               51.0                     51   \n",
       "2010-01-31             58               58.0                     58   \n",
       "\n",
       "            casos_est_max_3304557  p_rt1_3304557  p_inc100k_3304557  \\\n",
       "2010-01-03                     30            0.0           0.461621   \n",
       "2010-01-10                     46            0.0           0.707819   \n",
       "2010-01-17                     30            0.0           0.461621   \n",
       "2010-01-24                     51            0.0           0.784756   \n",
       "2010-01-31                     58            0.0           0.892467   \n",
       "\n",
       "            temp_min_3304557  temp_max_3304557  umid_min_3304557  \\\n",
       "2010-01-03         24.333333         33.000000         42.000000   \n",
       "2010-01-10         25.428571         34.000000         43.285714   \n",
       "2010-01-17         24.142857         34.000000         43.857143   \n",
       "2010-01-24         23.714286         34.285714         39.285714   \n",
       "2010-01-31         23.857143         33.857143         41.285714   \n",
       "\n",
       "            pressao_min_3304557  \n",
       "2010-01-03          1009.666667  \n",
       "2010-01-10          1008.000000  \n",
       "2010-01-17          1010.285714  \n",
       "2010-01-24          1009.000000  \n",
       "2010-01-31          1009.857143  "
      ]
     },
     "execution_count": 4,
     "metadata": {},
     "output_type": "execute_result"
    }
   ],
   "source": [
    "cluster_rj = data_cluster[[c for c in data_cluster.columns if \"3304557\" in c.split(\"_\")]]\n",
    "print(cluster_rj.shape)\n",
    "print(cluster_rj.columns)\n",
    "cluster_rj.head()"
   ]
  },
  {
   "cell_type": "markdown",
   "metadata": {},
   "source": [
    "Our goal is to predict the first column, `casos_3304557` from the columns `p_rt1_3304557`, `p_inc100k_3304557`, `temp_min_3304557`, `temp_max_3304557`, `umid_min_3304557`, `pressao_min_3304557`."
   ]
  },
  {
   "cell_type": "code",
   "execution_count": 5,
   "metadata": {},
   "outputs": [
    {
     "data": {
      "text/html": [
       "<div>\n",
       "<style scoped>\n",
       "    .dataframe tbody tr th:only-of-type {\n",
       "        vertical-align: middle;\n",
       "    }\n",
       "\n",
       "    .dataframe tbody tr th {\n",
       "        vertical-align: top;\n",
       "    }\n",
       "\n",
       "    .dataframe thead th {\n",
       "        text-align: right;\n",
       "    }\n",
       "</style>\n",
       "<table border=\"1\" class=\"dataframe\">\n",
       "  <thead>\n",
       "    <tr style=\"text-align: right;\">\n",
       "      <th></th>\n",
       "      <th>casos_3304557</th>\n",
       "      <th>p_rt1_3304557</th>\n",
       "      <th>p_inc100k_3304557</th>\n",
       "      <th>temp_min_3304557</th>\n",
       "      <th>temp_max_3304557</th>\n",
       "      <th>umid_min_3304557</th>\n",
       "      <th>pressao_min_3304557</th>\n",
       "    </tr>\n",
       "  </thead>\n",
       "  <tbody>\n",
       "    <tr>\n",
       "      <th>2010-01-03</th>\n",
       "      <td>30</td>\n",
       "      <td>0.0</td>\n",
       "      <td>0.461621</td>\n",
       "      <td>24.333333</td>\n",
       "      <td>33.000000</td>\n",
       "      <td>42.000000</td>\n",
       "      <td>1009.666667</td>\n",
       "    </tr>\n",
       "    <tr>\n",
       "      <th>2010-01-10</th>\n",
       "      <td>46</td>\n",
       "      <td>0.0</td>\n",
       "      <td>0.707819</td>\n",
       "      <td>25.428571</td>\n",
       "      <td>34.000000</td>\n",
       "      <td>43.285714</td>\n",
       "      <td>1008.000000</td>\n",
       "    </tr>\n",
       "    <tr>\n",
       "      <th>2010-01-17</th>\n",
       "      <td>30</td>\n",
       "      <td>0.0</td>\n",
       "      <td>0.461621</td>\n",
       "      <td>24.142857</td>\n",
       "      <td>34.000000</td>\n",
       "      <td>43.857143</td>\n",
       "      <td>1010.285714</td>\n",
       "    </tr>\n",
       "    <tr>\n",
       "      <th>2010-01-24</th>\n",
       "      <td>51</td>\n",
       "      <td>0.0</td>\n",
       "      <td>0.784756</td>\n",
       "      <td>23.714286</td>\n",
       "      <td>34.285714</td>\n",
       "      <td>39.285714</td>\n",
       "      <td>1009.000000</td>\n",
       "    </tr>\n",
       "    <tr>\n",
       "      <th>2010-01-31</th>\n",
       "      <td>58</td>\n",
       "      <td>0.0</td>\n",
       "      <td>0.892467</td>\n",
       "      <td>23.857143</td>\n",
       "      <td>33.857143</td>\n",
       "      <td>41.285714</td>\n",
       "      <td>1009.857143</td>\n",
       "    </tr>\n",
       "  </tbody>\n",
       "</table>\n",
       "</div>"
      ],
      "text/plain": [
       "            casos_3304557  p_rt1_3304557  p_inc100k_3304557  temp_min_3304557  \\\n",
       "2010-01-03             30            0.0           0.461621         24.333333   \n",
       "2010-01-10             46            0.0           0.707819         25.428571   \n",
       "2010-01-17             30            0.0           0.461621         24.142857   \n",
       "2010-01-24             51            0.0           0.784756         23.714286   \n",
       "2010-01-31             58            0.0           0.892467         23.857143   \n",
       "\n",
       "            temp_max_3304557  umid_min_3304557  pressao_min_3304557  \n",
       "2010-01-03         33.000000         42.000000          1009.666667  \n",
       "2010-01-10         34.000000         43.285714          1008.000000  \n",
       "2010-01-17         34.000000         43.857143          1010.285714  \n",
       "2010-01-24         34.285714         39.285714          1009.000000  \n",
       "2010-01-31         33.857143         41.285714          1009.857143  "
      ]
     },
     "execution_count": 5,
     "metadata": {},
     "output_type": "execute_result"
    }
   ],
   "source": [
    "usecols = ['casos_3304557', 'p_rt1_3304557', 'p_inc100k_3304557',\n",
    "       'temp_min_3304557', 'temp_max_3304557', 'umid_min_3304557',\n",
    "       'pressao_min_3304557']\n",
    "data = cluster_rj[usecols]\n",
    "timestamps = pd.to_datetime(data.index)\n",
    "data.head()\n"
   ]
  },
  {
   "cell_type": "code",
   "execution_count": 6,
   "metadata": {},
   "outputs": [
    {
     "data": {
      "text/plain": [
       "DatetimeIndex(['2010-01-03', '2010-01-10', '2010-01-17', '2010-01-24',\n",
       "               '2010-01-31', '2010-02-07', '2010-02-14', '2010-02-21',\n",
       "               '2010-02-28', '2010-03-07',\n",
       "               ...\n",
       "               '2019-03-10', '2019-03-17', '2019-03-24', '2019-03-31',\n",
       "               '2019-04-07', '2019-04-14', '2019-04-21', '2019-04-28',\n",
       "               '2019-05-05', '2019-05-12'],\n",
       "              dtype='datetime64[ns]', length=488, freq=None)"
      ]
     },
     "execution_count": 6,
     "metadata": {},
     "output_type": "execute_result"
    }
   ],
   "source": [
    "timestamps"
   ]
  },
  {
   "cell_type": "markdown",
   "metadata": {},
   "source": [
    "Let us plot the features of our dataset."
   ]
  },
  {
   "cell_type": "code",
   "execution_count": 7,
   "metadata": {},
   "outputs": [
    {
     "data": {
      "text/plain": [
       "<matplotlib.axes._subplots.AxesSubplot at 0x7f117a416860>"
      ]
     },
     "execution_count": 7,
     "metadata": {},
     "output_type": "execute_result"
    },
    {
     "data": {
      "image/png": "[encoded data removed]",
      "text/plain": [
       "<Figure size 432x288 with 1 Axes>"
      ]
     },
     "metadata": {
      "needs_background": "light"
     },
     "output_type": "display_data"
    }
   ],
   "source": [
    "data.plot()"
   ]
  },
  {
   "cell_type": "markdown",
   "metadata": {},
   "source": [
    "## Normalizing and splitting train/tests sets"
   ]
  },
  {
   "cell_type": "code",
   "execution_count": 8,
   "metadata": {},
   "outputs": [
    {
     "data": {
      "text/html": [
       "<div>\n",
       "<style scoped>\n",
       "    .dataframe tbody tr th:only-of-type {\n",
       "        vertical-align: middle;\n",
       "    }\n",
       "\n",
       "    .dataframe tbody tr th {\n",
       "        vertical-align: top;\n",
       "    }\n",
       "\n",
       "    .dataframe thead th {\n",
       "        text-align: right;\n",
       "    }\n",
       "</style>\n",
       "<table border=\"1\" class=\"dataframe\">\n",
       "  <thead>\n",
       "    <tr style=\"text-align: right;\">\n",
       "      <th></th>\n",
       "      <th>casos_3304557</th>\n",
       "      <th>p_rt1_3304557</th>\n",
       "      <th>p_inc100k_3304557</th>\n",
       "      <th>temp_min_3304557</th>\n",
       "      <th>temp_max_3304557</th>\n",
       "      <th>umid_min_3304557</th>\n",
       "      <th>pressao_min_3304557</th>\n",
       "    </tr>\n",
       "  </thead>\n",
       "  <tbody>\n",
       "    <tr>\n",
       "      <th>1970-01-01 00:00:00.000000000</th>\n",
       "      <td>0.002018</td>\n",
       "      <td>0.0</td>\n",
       "      <td>0.002018</td>\n",
       "      <td>0.920721</td>\n",
       "      <td>0.891892</td>\n",
       "      <td>0.488451</td>\n",
       "      <td>0.982712</td>\n",
       "    </tr>\n",
       "    <tr>\n",
       "      <th>1970-01-01 00:00:00.000000001</th>\n",
       "      <td>0.003094</td>\n",
       "      <td>0.0</td>\n",
       "      <td>0.003094</td>\n",
       "      <td>0.962162</td>\n",
       "      <td>0.918919</td>\n",
       "      <td>0.503404</td>\n",
       "      <td>0.981090</td>\n",
       "    </tr>\n",
       "    <tr>\n",
       "      <th>1970-01-01 00:00:00.000000002</th>\n",
       "      <td>0.002018</td>\n",
       "      <td>0.0</td>\n",
       "      <td>0.002018</td>\n",
       "      <td>0.913514</td>\n",
       "      <td>0.918919</td>\n",
       "      <td>0.510049</td>\n",
       "      <td>0.983315</td>\n",
       "    </tr>\n",
       "    <tr>\n",
       "      <th>1970-01-01 00:00:00.000000003</th>\n",
       "      <td>0.003430</td>\n",
       "      <td>0.0</td>\n",
       "      <td>0.003430</td>\n",
       "      <td>0.897297</td>\n",
       "      <td>0.926641</td>\n",
       "      <td>0.456885</td>\n",
       "      <td>0.982063</td>\n",
       "    </tr>\n",
       "    <tr>\n",
       "      <th>1970-01-01 00:00:00.000000004</th>\n",
       "      <td>0.003901</td>\n",
       "      <td>0.0</td>\n",
       "      <td>0.003901</td>\n",
       "      <td>0.902703</td>\n",
       "      <td>0.915058</td>\n",
       "      <td>0.480144</td>\n",
       "      <td>0.982898</td>\n",
       "    </tr>\n",
       "  </tbody>\n",
       "</table>\n",
       "</div>"
      ],
      "text/plain": [
       "                               casos_3304557  p_rt1_3304557  \\\n",
       "1970-01-01 00:00:00.000000000       0.002018            0.0   \n",
       "1970-01-01 00:00:00.000000001       0.003094            0.0   \n",
       "1970-01-01 00:00:00.000000002       0.002018            0.0   \n",
       "1970-01-01 00:00:00.000000003       0.003430            0.0   \n",
       "1970-01-01 00:00:00.000000004       0.003901            0.0   \n",
       "\n",
       "                               p_inc100k_3304557  temp_min_3304557  \\\n",
       "1970-01-01 00:00:00.000000000           0.002018          0.920721   \n",
       "1970-01-01 00:00:00.000000001           0.003094          0.962162   \n",
       "1970-01-01 00:00:00.000000002           0.002018          0.913514   \n",
       "1970-01-01 00:00:00.000000003           0.003430          0.897297   \n",
       "1970-01-01 00:00:00.000000004           0.003901          0.902703   \n",
       "\n",
       "                               temp_max_3304557  umid_min_3304557  \\\n",
       "1970-01-01 00:00:00.000000000          0.891892          0.488451   \n",
       "1970-01-01 00:00:00.000000001          0.918919          0.503404   \n",
       "1970-01-01 00:00:00.000000002          0.918919          0.510049   \n",
       "1970-01-01 00:00:00.000000003          0.926641          0.456885   \n",
       "1970-01-01 00:00:00.000000004          0.915058          0.480144   \n",
       "\n",
       "                               pressao_min_3304557  \n",
       "1970-01-01 00:00:00.000000000             0.982712  \n",
       "1970-01-01 00:00:00.000000001             0.981090  \n",
       "1970-01-01 00:00:00.000000002             0.983315  \n",
       "1970-01-01 00:00:00.000000003             0.982063  \n",
       "1970-01-01 00:00:00.000000004             0.982898  "
      ]
     },
     "execution_count": 8,
     "metadata": {},
     "output_type": "execute_result"
    }
   ],
   "source": [
    "### Normalizing data\n",
    "min_values = np.min(data,axis=0)\n",
    "max_values = np.max(data,axis=0)\n",
    "data, _ = normalize_data(data)\n",
    "data.index=pd.to_datetime(data.index)\n",
    "data.head()"
   ]
  },
  {
   "cell_type": "code",
   "execution_count": 9,
   "metadata": {},
   "outputs": [
    {
     "data": {
      "text/plain": [
       "casos_3304557          14868.000000\n",
       "p_rt1_3304557              1.000000\n",
       "p_inc100k_3304557        228.779000\n",
       "temp_min_3304557          26.428571\n",
       "temp_max_3304557          37.000000\n",
       "umid_min_3304557          85.986071\n",
       "pressao_min_3304557     1027.428571\n",
       "dtype: float64"
      ]
     },
     "execution_count": 9,
     "metadata": {},
     "output_type": "execute_result"
    }
   ],
   "source": [
    "max_values"
   ]
  },
  {
   "cell_type": "code",
   "execution_count": 10,
   "metadata": {},
   "outputs": [
    {
     "data": {
      "text/plain": [
       "casos_3304557           17.000000\n",
       "p_rt1_3304557            0.000000\n",
       "p_inc100k_3304557        0.261585\n",
       "temp_min_3304557        14.285714\n",
       "temp_max_3304557        17.714286\n",
       "umid_min_3304557        20.428571\n",
       "pressao_min_3304557    752.714286\n",
       "dtype: float64"
      ]
     },
     "execution_count": 10,
     "metadata": {},
     "output_type": "execute_result"
    }
   ],
   "source": [
    "min_values"
   ]
  },
  {
   "cell_type": "code",
   "execution_count": 11,
   "metadata": {},
   "outputs": [
    {
     "data": {
      "text/plain": [
       "casos_3304557          0.001143\n",
       "p_rt1_3304557          0.000000\n",
       "p_inc100k_3304557      0.001143\n",
       "temp_min_3304557       0.540541\n",
       "temp_max_3304557       0.478764\n",
       "umid_min_3304557       0.237580\n",
       "pressao_min_3304557    0.732620\n",
       "dtype: float64"
      ]
     },
     "execution_count": 11,
     "metadata": {},
     "output_type": "execute_result"
    }
   ],
   "source": [
    "np.min(data,axis=0)"
   ]
  },
  {
   "cell_type": "code",
   "execution_count": 12,
   "metadata": {},
   "outputs": [
    {
     "data": {
      "text/plain": [
       "17.0"
      ]
     },
     "execution_count": 12,
     "metadata": {},
     "output_type": "execute_result"
    }
   ],
   "source": [
    "np.min(data,axis=0).iloc[0]*max_values.iloc[0]"
   ]
  },
  {
   "cell_type": "code",
   "execution_count": 13,
   "metadata": {},
   "outputs": [],
   "source": [
    "data.index = timestamps"
   ]
  },
  {
   "cell_type": "code",
   "execution_count": 14,
   "metadata": {},
   "outputs": [
    {
     "data": {
      "text/plain": [
       "DatetimeIndex(['2010-01-03', '2010-01-10', '2010-01-17', '2010-01-24',\n",
       "               '2010-01-31', '2010-02-07', '2010-02-14', '2010-02-21',\n",
       "               '2010-02-28', '2010-03-07',\n",
       "               ...\n",
       "               '2019-03-10', '2019-03-17', '2019-03-24', '2019-03-31',\n",
       "               '2019-04-07', '2019-04-14', '2019-04-21', '2019-04-28',\n",
       "               '2019-05-05', '2019-05-12'],\n",
       "              dtype='datetime64[ns]', length=488, freq=None)"
      ]
     },
     "execution_count": 14,
     "metadata": {},
     "output_type": "execute_result"
    }
   ],
   "source": [
    "data.index"
   ]
  },
  {
   "cell_type": "code",
   "execution_count": 15,
   "metadata": {},
   "outputs": [
    {
     "name": "stdout",
     "output_type": "stream",
     "text": [
      "234\n"
     ]
    }
   ],
   "source": [
    "### Splitting train/test sets\n",
    "X_train, y_train, X_test, y_test = split_data(data, look_back=10, ratio=0.5, predict_n=1, Y_column=0)\n",
    "#timestamps_train = "
   ]
  },
  {
   "cell_type": "markdown",
   "metadata": {},
   "source": [
    "We are looking back 10 weeks to get our training data:"
   ]
  },
  {
   "cell_type": "code",
   "execution_count": 16,
   "metadata": {},
   "outputs": [
    {
     "data": {
      "text/plain": [
       "(234, 10, 7)"
      ]
     },
     "execution_count": 16,
     "metadata": {},
     "output_type": "execute_result"
    }
   ],
   "source": [
    "X_train.shape"
   ]
  },
  {
   "cell_type": "code",
   "execution_count": 17,
   "metadata": {},
   "outputs": [
    {
     "data": {
      "text/plain": [
       "(244, 10, 7)"
      ]
     },
     "execution_count": 17,
     "metadata": {},
     "output_type": "execute_result"
    }
   ],
   "source": [
    "X_test.shape"
   ]
  },
  {
   "cell_type": "code",
   "execution_count": 18,
   "metadata": {},
   "outputs": [
    {
     "data": {
      "text/plain": [
       "(234, 1)"
      ]
     },
     "execution_count": 18,
     "metadata": {},
     "output_type": "execute_result"
    }
   ],
   "source": [
    "y_train.shape"
   ]
  },
  {
   "cell_type": "code",
   "execution_count": 19,
   "metadata": {},
   "outputs": [
    {
     "data": {
      "text/plain": [
       "(244, 1)"
      ]
     },
     "execution_count": 19,
     "metadata": {},
     "output_type": "execute_result"
    }
   ],
   "source": [
    "y_test.shape"
   ]
  },
  {
   "cell_type": "markdown",
   "metadata": {},
   "source": [
    "## LSTM model\n",
    "An LSTM model can be retrieved from `lstm.py`."
   ]
  },
  {
   "cell_type": "code",
   "execution_count": 183,
   "metadata": {},
   "outputs": [
    {
     "name": "stdout",
     "output_type": "stream",
     "text": [
      "Compilation Time :  0.025264978408813477\n",
      "_________________________________________________________________\n",
      "Layer (type)                 Output Shape              Param #   \n",
      "=================================================================\n",
      "input_15 (InputLayer)        (39, 10, 7)               0         \n",
      "_________________________________________________________________\n",
      "lstm_43 (LSTM)               (39, 10, 4)               192       \n",
      "_________________________________________________________________\n",
      "dropout_43 (Dropout)         (39, 10, 4)               0         \n",
      "_________________________________________________________________\n",
      "lstm_44 (LSTM)               (39, 10, 4)               144       \n",
      "_________________________________________________________________\n",
      "dropout_44 (Dropout)         (39, 10, 4)               0         \n",
      "_________________________________________________________________\n",
      "lstm_45 (LSTM)               (39, 4)                   144       \n",
      "_________________________________________________________________\n",
      "dropout_45 (Dropout)         (39, 4)                   0         \n",
      "_________________________________________________________________\n",
      "dense_15 (Dense)             (39, 1)                   5         \n",
      "=================================================================\n",
      "Total params: 485\n",
      "Trainable params: 485\n",
      "Non-trainable params: 0\n",
      "_________________________________________________________________\n",
      "None\n"
     ]
    }
   ],
   "source": [
    "model = build_model(hidden=4, features=7, predict_n=1, look_back=10, batch_size=39)"
   ]
  },
  {
   "cell_type": "markdown",
   "metadata": {},
   "source": [
    "### Training model"
   ]
  },
  {
   "cell_type": "code",
   "execution_count": 184,
   "metadata": {},
   "outputs": [
    {
     "name": "stderr",
     "output_type": "stream",
     "text": [
      "../infodenguepredict/models/deeplearning/lstm.py:114: UserWarning: The `nb_epoch` argument in `fit` has been renamed `epochs`.\n",
      "  callbacks=[TB_callback, EarlyStopping(patience=15)]\n"
     ]
    },
    {
     "name": "stdout",
     "output_type": "stream",
     "text": [
      "Train on 198 samples, validate on 36 samples\n",
      "Epoch 1/20\n",
      "198/198 [==============================] - 10s 50ms/step - loss: 0.0223 - acc: 0.0000e+00 - mean_absolute_percentage_error: 495.2042 - mean_squared_error: 0.0382 - val_loss: 0.0056 - val_acc: 0.0000e+00 - val_mean_absolute_percentage_error: 1302.0920 - val_mean_squared_error: 0.0063\n",
      "Epoch 2/20\n",
      "198/198 [==============================] - 7s 36ms/step - loss: 0.0145 - acc: 0.0000e+00 - mean_absolute_percentage_error: 407.1885 - mean_squared_error: 0.0258 - val_loss: 0.0046 - val_acc: 0.0000e+00 - val_mean_absolute_percentage_error: 921.9156 - val_mean_squared_error: 0.0054\n",
      "Epoch 3/20\n",
      "198/198 [==============================] - 6s 30ms/step - loss: 0.0111 - acc: 5.1800e-04 - mean_absolute_percentage_error: 316.0347 - mean_squared_error: 0.0197 - val_loss: 0.0018 - val_acc: 0.0000e+00 - val_mean_absolute_percentage_error: 663.8745 - val_mean_squared_error: 0.0020\n",
      "Epoch 4/20\n",
      "198/198 [==============================] - 4s 22ms/step - loss: 0.0095 - acc: 0.0012 - mean_absolute_percentage_error: 265.7764 - mean_squared_error: 0.0173 - val_loss: 0.0035 - val_acc: 0.0000e+00 - val_mean_absolute_percentage_error: 971.3918 - val_mean_squared_error: 0.0039\n",
      "Epoch 5/20\n",
      "198/198 [==============================] - 7s 34ms/step - loss: 0.0082 - acc: 0.0022 - mean_absolute_percentage_error: 249.5858 - mean_squared_error: 0.0149 - val_loss: 0.0018 - val_acc: 0.0000e+00 - val_mean_absolute_percentage_error: 690.4736 - val_mean_squared_error: 0.0019\n",
      "Epoch 6/20\n",
      "198/198 [==============================] - 6s 28ms/step - loss: 0.0073 - acc: 0.0018 - mean_absolute_percentage_error: 217.1735 - mean_squared_error: 0.0136 - val_loss: 0.0020 - val_acc: 0.0000e+00 - val_mean_absolute_percentage_error: 704.0028 - val_mean_squared_error: 0.0021\n",
      "Epoch 7/20\n",
      "198/198 [==============================] - 8s 39ms/step - loss: 0.0066 - acc: 0.0039 - mean_absolute_percentage_error: 202.2848 - mean_squared_error: 0.0121 - val_loss: 0.0011 - val_acc: 0.0000e+00 - val_mean_absolute_percentage_error: 495.4360 - val_mean_squared_error: 0.0012\n",
      "Epoch 8/20\n",
      "198/198 [==============================] - 5s 27ms/step - loss: 0.0065 - acc: 0.0027 - mean_absolute_percentage_error: 194.4462 - mean_squared_error: 0.0123 - val_loss: 0.0013 - val_acc: 0.0000e+00 - val_mean_absolute_percentage_error: 565.6202 - val_mean_squared_error: 0.0014\n",
      "Epoch 9/20\n",
      "198/198 [==============================] - 5s 25ms/step - loss: 0.0059 - acc: 0.0027 - mean_absolute_percentage_error: 184.7089 - mean_squared_error: 0.0113 - val_loss: 9.2899e-04 - val_acc: 0.0000e+00 - val_mean_absolute_percentage_error: 448.8481 - val_mean_squared_error: 9.9435e-04\n",
      "Epoch 10/20\n",
      "198/198 [==============================] - 4s 20ms/step - loss: 0.0058 - acc: 0.0032 - mean_absolute_percentage_error: 189.0163 - mean_squared_error: 0.0109 - val_loss: 0.0010 - val_acc: 0.0000e+00 - val_mean_absolute_percentage_error: 470.9170 - val_mean_squared_error: 0.0011\n",
      "Epoch 11/20\n",
      "198/198 [==============================] - 7s 35ms/step - loss: 0.0057 - acc: 0.0036 - mean_absolute_percentage_error: 154.6413 - mean_squared_error: 0.0109 - val_loss: 9.3643e-04 - val_acc: 0.0000e+00 - val_mean_absolute_percentage_error: 448.0396 - val_mean_squared_error: 0.0010\n",
      "Epoch 12/20\n",
      "198/198 [==============================] - 6s 33ms/step - loss: 0.0053 - acc: 0.0038 - mean_absolute_percentage_error: 163.6117 - mean_squared_error: 0.0101 - val_loss: 8.4502e-04 - val_acc: 0.0000e+00 - val_mean_absolute_percentage_error: 404.9078 - val_mean_squared_error: 9.0703e-04\n",
      "Epoch 13/20\n",
      "198/198 [==============================] - 6s 30ms/step - loss: 0.0056 - acc: 0.0031 - mean_absolute_percentage_error: 154.9088 - mean_squared_error: 0.0108 - val_loss: 0.0014 - val_acc: 0.0000e+00 - val_mean_absolute_percentage_error: 571.8087 - val_mean_squared_error: 0.0015\n",
      "Epoch 14/20\n",
      "198/198 [==============================] - 8s 43ms/step - loss: 0.0054 - acc: 0.0025 - mean_absolute_percentage_error: 172.4889 - mean_squared_error: 0.0104 - val_loss: 4.1717e-04 - val_acc: 0.0000e+00 - val_mean_absolute_percentage_error: 267.8750 - val_mean_squared_error: 4.4351e-04\n",
      "Epoch 15/20\n",
      "198/198 [==============================] - 6s 32ms/step - loss: 0.0053 - acc: 0.0034 - mean_absolute_percentage_error: 155.6515 - mean_squared_error: 0.0105 - val_loss: 3.5178e-04 - val_acc: 0.0000e+00 - val_mean_absolute_percentage_error: 237.6765 - val_mean_squared_error: 3.7391e-04\n",
      "Epoch 16/20\n",
      "198/198 [==============================] - 6s 32ms/step - loss: 0.0050 - acc: 0.0036 - mean_absolute_percentage_error: 146.6514 - mean_squared_error: 0.0098 - val_loss: 7.9236e-04 - val_acc: 0.0000e+00 - val_mean_absolute_percentage_error: 375.6945 - val_mean_squared_error: 8.5408e-04\n",
      "Epoch 17/20\n",
      "198/198 [==============================] - 9s 44ms/step - loss: 0.0049 - acc: 0.0038 - mean_absolute_percentage_error: 145.4197 - mean_squared_error: 0.0096 - val_loss: 4.8049e-04 - val_acc: 0.0000e+00 - val_mean_absolute_percentage_error: 270.9176 - val_mean_squared_error: 5.1363e-04\n",
      "Epoch 18/20\n",
      "198/198 [==============================] - 5s 26ms/step - loss: 0.0050 - acc: 0.0027 - mean_absolute_percentage_error: 144.2395 - mean_squared_error: 0.0099 - val_loss: 4.7455e-04 - val_acc: 0.0000e+00 - val_mean_absolute_percentage_error: 274.2653 - val_mean_squared_error: 5.0819e-04\n",
      "Epoch 19/20\n",
      "198/198 [==============================] - 6s 29ms/step - loss: 0.0048 - acc: 0.0034 - mean_absolute_percentage_error: 141.7639 - mean_squared_error: 0.0093 - val_loss: 6.9723e-04 - val_acc: 0.0000e+00 - val_mean_absolute_percentage_error: 339.4326 - val_mean_squared_error: 7.5008e-04\n",
      "Epoch 20/20\n",
      "198/198 [==============================] - 5s 26ms/step - loss: 0.0045 - acc: 0.0041 - mean_absolute_percentage_error: 141.8069 - mean_squared_error: 0.0086 - val_loss: 4.2926e-04 - val_acc: 0.0000e+00 - val_mean_absolute_percentage_error: 268.1382 - val_mean_squared_error: 4.5637e-04\n"
     ]
    }
   ],
   "source": [
    "hist = train(model, X_train, y_train, batch_size=1, epochs=20, geocode=3304557, overwrite=True)"
   ]
  },
  {
   "cell_type": "markdown",
   "metadata": {},
   "source": [
    "#### Training history"
   ]
  },
  {
   "cell_type": "code",
   "execution_count": 220,
   "metadata": {},
   "outputs": [
    {
     "data": {
      "image/png": "[encoded data removed]",
      "text/plain": [
       "<Figure size 432x288 with 1 Axes>"
      ]
     },
     "metadata": {
      "needs_background": "light"
     },
     "output_type": "display_data"
    }
   ],
   "source": [
    "plot_training_history(hist)"
   ]
  },
  {
   "cell_type": "markdown",
   "metadata": {},
   "source": [
    "#### Plotting predictions "
   ]
  },
  {
   "cell_type": "code",
   "execution_count": 231,
   "metadata": {},
   "outputs": [
    {
     "name": "stdout",
     "output_type": "stream",
     "text": [
      "The autoreload extension is already loaded. To reload it, use:\n",
      "  %reload_ext autoreload\n"
     ]
    }
   ],
   "source": [
    "%load_ext autoreload\n",
    "%autoreload 2\n",
    "import numpy as np\n",
    "import pandas as pd\n",
    "import matplotlib.pyplot as plt\n",
    "#import os\n",
    "#os.chdir(\"..\")\n",
    "\n",
    "import sys\n",
    "sys.path.append('../')\n",
    "from infodenguepredict.models.deeplearning.lstm import *\n",
    "#plot_predicted_vs_data, loss_and_metrics, evaluate, calculate_metrics, train_evaluate_model, \n",
    "#from infodenguepredict.models.deeplearning.preprocessing import *\n",
    "#from infodenguepredict.models.deeplearning.lstm import lstm.build_model\n",
    "#try:\n",
    "#    from infodenguepredict.models.deeplearning.lstm import *\n",
    "#except Exception as e:\n",
    "#    print(e)\n",
    "#from infodengue import get_temperature_data, get_alerta_table, get_tweet_data, combined_data, get_cluster_data\n",
    "import pickle\n",
    "import getpass, os\n",
    "from keras.layers.core import Dense, Activation, Dropout\n",
    "from keras.layers.recurrent import LSTM\n",
    "from keras.models import Sequential\n",
    "from keras.utils.vis_utils import plot_model\n",
    "from keras.callbacks import TensorBoard, EarlyStopping\n",
    "from keras import backend as K\n",
    "from sklearn.metrics import *\n",
    "import pandas as pd\n",
    "from time import time"
   ]
  },
  {
   "cell_type": "code",
   "execution_count": 232,
   "metadata": {},
   "outputs": [
    {
     "data": {
      "text/plain": [
       "Timestamp('2014-09-07 00:00:00')"
      ]
     },
     "execution_count": 232,
     "metadata": {},
     "output_type": "execute_result"
    }
   ],
   "source": [
    "index[split_point]"
   ]
  },
  {
   "cell_type": "code",
   "execution_count": 233,
   "metadata": {},
   "outputs": [],
   "source": [
    "#Xdata = np.concatenate((X_train,X_test))\n",
    "#n_predictions=10\n",
    "#a = predict_with_dropout(model,Xdata,n_predictions,batch_size=1)\n",
    "#Xdata.shape"
   ]
  },
  {
   "cell_type": "code",
   "execution_count": 234,
   "metadata": {},
   "outputs": [
    {
     "data": {
      "text/plain": [
       "array([[[-0.        , -0.        , -0.        , ..., -0.        ,\n",
       "         -0.        , -0.        ]],\n",
       "\n",
       "       [[-0.        , -0.        , -0.        , ..., -0.        ,\n",
       "         -0.        , -0.        ]],\n",
       "\n",
       "       [[-0.        , -0.        , -0.        , ..., -0.        ,\n",
       "         -0.        , -0.        ]],\n",
       "\n",
       "       ...,\n",
       "\n",
       "       [[-0.        , -0.        , -0.        , ..., -0.        ,\n",
       "         -0.        , -0.        ]],\n",
       "\n",
       "       [[-0.        , -0.        , -0.        , ..., -0.        ,\n",
       "         -0.        , -0.        ]],\n",
       "\n",
       "       [[-0.        , -0.        , -0.        , ...,  0.02637035,\n",
       "         -0.        , -0.        ]]], dtype=float32)"
      ]
     },
     "execution_count": 234,
     "metadata": {},
     "output_type": "execute_result"
    }
   ],
   "source": [
    "a"
   ]
  },
  {
   "cell_type": "code",
   "execution_count": 236,
   "metadata": {},
   "outputs": [
    {
     "name": "stdout",
     "output_type": "stream",
     "text": [
      "Compilation Time :  0.025307893753051758\n",
      "_________________________________________________________________\n",
      "Layer (type)                 Output Shape              Param #   \n",
      "=================================================================\n",
      "input_27 (InputLayer)        (478, 10, 7)              0         \n",
      "_________________________________________________________________\n",
      "lstm_79 (LSTM)               (478, 10, 4)              192       \n",
      "_________________________________________________________________\n",
      "dropout_79 (Dropout)         (478, 10, 4)              0         \n",
      "_________________________________________________________________\n",
      "lstm_80 (LSTM)               (478, 10, 4)              144       \n",
      "_________________________________________________________________\n",
      "dropout_80 (Dropout)         (478, 10, 4)              0         \n",
      "_________________________________________________________________\n",
      "lstm_81 (LSTM)               (478, 4)                  144       \n",
      "_________________________________________________________________\n",
      "dropout_81 (Dropout)         (478, 4)                  0         \n",
      "_________________________________________________________________\n",
      "dense_27 (Dense)             (478, 1)                  5         \n",
      "=================================================================\n",
      "Total params: 485\n",
      "Trainable params: 485\n",
      "Non-trainable params: 0\n",
      "_________________________________________________________________\n",
      "None\n"
     ]
    },
    {
     "name": "stderr",
     "output_type": "stream",
     "text": [
      "100%|██████████| 10/10 [00:03<00:00,  3.11it/s]\n"
     ]
    }
   ],
   "source": [
    "n_predictions=10\n",
    "Xdata = np.concatenate((X_train,X_test))\n",
    "predicted = predict_with_dropout(model,Xdata,n_predictions,hidden=4,features=7,predict_n=1,look_back=10,\\\n",
    "                         batch_size=478)\n",
    "Ydata = np.concatenate((y_train,y_test))\n",
    "index = data.index\n"
   ]
  },
  {
   "cell_type": "code",
   "execution_count": 238,
   "metadata": {},
   "outputs": [
    {
     "data": {
      "text/plain": [
       "(10, 478, 1)"
      ]
     },
     "execution_count": 238,
     "metadata": {},
     "output_type": "execute_result"
    }
   ],
   "source": [
    "predicted.shape"
   ]
  },
  {
   "cell_type": "code",
   "execution_count": 239,
   "metadata": {},
   "outputs": [
    {
     "name": "stdout",
     "output_type": "stream",
     "text": [
      "df_predicted_shape:  (478, 1)\n",
      "df_predicted:              0\n",
      "0   -0.000000\n",
      "1    0.004358\n",
      "2    0.000655\n",
      "3   -0.000000\n",
      "4   -0.000000\n",
      "5    0.009776\n",
      "6   -0.000000\n",
      "7    0.007594\n",
      "8   -0.000000\n",
      "9   -0.000000\n",
      "10  -0.000000\n",
      "11  -0.000000\n",
      "12   0.012383\n",
      "13   0.011392\n",
      "14  -0.000000\n",
      "15  -0.000000\n",
      "16  -0.000000\n",
      "17  -0.000000\n",
      "18  -0.000000\n",
      "19  -0.000000\n",
      "20   0.002686\n",
      "21   0.002404\n",
      "22  -0.000000\n",
      "23  -0.000000\n",
      "24  -0.000000\n",
      "25  -0.000000\n",
      "26   0.010608\n",
      "27  -0.000000\n",
      "28  -0.000000\n",
      "29  -0.000000\n",
      "..        ...\n",
      "448 -0.000000\n",
      "449 -0.000000\n",
      "450 -0.000000\n",
      "451  0.003529\n",
      "452 -0.000000\n",
      "453 -0.000000\n",
      "454  0.010925\n",
      "455 -0.000000\n",
      "456  0.002162\n",
      "457  0.002062\n",
      "458  0.017100\n",
      "459  0.008986\n",
      "460 -0.000000\n",
      "461 -0.000000\n",
      "462  0.002140\n",
      "463 -0.000000\n",
      "464 -0.000000\n",
      "465 -0.000000\n",
      "466 -0.000000\n",
      "467 -0.000000\n",
      "468 -0.000000\n",
      "469  0.003970\n",
      "470 -0.000000\n",
      "471  0.014657\n",
      "472 -0.000000\n",
      "473  0.046470\n",
      "474  0.047272\n",
      "475  0.060118\n",
      "476  0.076488\n",
      "477  0.080955\n",
      "\n",
      "[478 rows x 1 columns]\n",
      "CPU times: user 9.91 ms, sys: 10.6 ms, total: 20.5 ms\n",
      "Wall time: 20.1 ms\n"
     ]
    },
    {
     "data": {
      "image/png": "[encoded data removed]",
      "text/plain": [
       "<Figure size 432x288 with 1 Axes>"
      ]
     },
     "metadata": {
      "needs_background": "light"
     },
     "output_type": "display_data"
    }
   ],
   "source": [
    "%%time\n",
    "#y_pred_train = model.predict(X_train,batch_size=1)\n",
    "#y_pred_test = model.predict(X_test,batch_size=1)\n",
    "#predicted = np.concatenate((y_pred_train,y_pred_test))\n",
    "#Xdata = np.concatenate((X_train,X_test))\n",
    "#predicted = predict_with_dropout(model,Xdata,n_predictions,batch_size=1)\n",
    "#Ydata = np.concatenate((y_train,y_test))\n",
    "#index = data.index\n",
    "label=\"Rio de Janeiro\"\n",
    "pred_window=1\n",
    "factor=1\n",
    "#split_point = int(len(indice)*0.5)\n",
    "ratio = 0.5\n",
    "plot_predicted_vs_data(predicted, Ydata, index, label, ratio, factor=1, look_back =10,\\\n",
    "                           pred_window =1)"
   ]
  },
  {
   "cell_type": "code",
   "execution_count": 209,
   "metadata": {},
   "outputs": [
    {
     "ename": "ValueError",
     "evalue": "could not broadcast input array from shape (39,1) into shape (1,1)",
     "output_type": "error",
     "traceback": [
      "\u001b[0;31m---------------------------------------------------------------------------\u001b[0m",
      "\u001b[0;31mValueError\u001b[0m                                Traceback (most recent call last)",
      "\u001b[0;32m<ipython-input-209-b84cfa2bec9b>\u001b[0m in \u001b[0;36m<module>\u001b[0;34m\u001b[0m\n\u001b[0;32m----> 1\u001b[0;31m \u001b[0mmodel\u001b[0m\u001b[0;34m.\u001b[0m\u001b[0mpredict\u001b[0m\u001b[0;34m(\u001b[0m\u001b[0mX_train\u001b[0m\u001b[0;34m,\u001b[0m\u001b[0mbatch_size\u001b[0m\u001b[0;34m=\u001b[0m\u001b[0;36m1\u001b[0m\u001b[0;34m)\u001b[0m\u001b[0;34m\u001b[0m\u001b[0;34m\u001b[0m\u001b[0m\n\u001b[0m",
      "\u001b[0;32m~/anaconda3/envs/infodengue/lib/python3.7/site-packages/keras/engine/training.py\u001b[0m in \u001b[0;36mpredict\u001b[0;34m(self, x, batch_size, verbose, steps)\u001b[0m\n\u001b[1;32m   1167\u001b[0m                                             \u001b[0mbatch_size\u001b[0m\u001b[0;34m=\u001b[0m\u001b[0mbatch_size\u001b[0m\u001b[0;34m,\u001b[0m\u001b[0;34m\u001b[0m\u001b[0;34m\u001b[0m\u001b[0m\n\u001b[1;32m   1168\u001b[0m                                             \u001b[0mverbose\u001b[0m\u001b[0;34m=\u001b[0m\u001b[0mverbose\u001b[0m\u001b[0;34m,\u001b[0m\u001b[0;34m\u001b[0m\u001b[0;34m\u001b[0m\u001b[0m\n\u001b[0;32m-> 1169\u001b[0;31m                                             steps=steps)\n\u001b[0m\u001b[1;32m   1170\u001b[0m \u001b[0;34m\u001b[0m\u001b[0m\n\u001b[1;32m   1171\u001b[0m     def train_on_batch(self, x, y,\n",
      "\u001b[0;32m~/anaconda3/envs/infodengue/lib/python3.7/site-packages/keras/engine/training_arrays.py\u001b[0m in \u001b[0;36mpredict_loop\u001b[0;34m(model, f, ins, batch_size, verbose, steps)\u001b[0m\n\u001b[1;32m    300\u001b[0m                     \u001b[0mouts\u001b[0m\u001b[0;34m.\u001b[0m\u001b[0mappend\u001b[0m\u001b[0;34m(\u001b[0m\u001b[0mnp\u001b[0m\u001b[0;34m.\u001b[0m\u001b[0mzeros\u001b[0m\u001b[0;34m(\u001b[0m\u001b[0mshape\u001b[0m\u001b[0;34m,\u001b[0m \u001b[0mdtype\u001b[0m\u001b[0;34m=\u001b[0m\u001b[0mbatch_out\u001b[0m\u001b[0;34m.\u001b[0m\u001b[0mdtype\u001b[0m\u001b[0;34m)\u001b[0m\u001b[0;34m)\u001b[0m\u001b[0;34m\u001b[0m\u001b[0;34m\u001b[0m\u001b[0m\n\u001b[1;32m    301\u001b[0m             \u001b[0;32mfor\u001b[0m \u001b[0mi\u001b[0m\u001b[0;34m,\u001b[0m \u001b[0mbatch_out\u001b[0m \u001b[0;32min\u001b[0m \u001b[0menumerate\u001b[0m\u001b[0;34m(\u001b[0m\u001b[0mbatch_outs\u001b[0m\u001b[0;34m)\u001b[0m\u001b[0;34m:\u001b[0m\u001b[0;34m\u001b[0m\u001b[0;34m\u001b[0m\u001b[0m\n\u001b[0;32m--> 302\u001b[0;31m                 \u001b[0mouts\u001b[0m\u001b[0;34m[\u001b[0m\u001b[0mi\u001b[0m\u001b[0;34m]\u001b[0m\u001b[0;34m[\u001b[0m\u001b[0mbatch_start\u001b[0m\u001b[0;34m:\u001b[0m\u001b[0mbatch_end\u001b[0m\u001b[0;34m]\u001b[0m \u001b[0;34m=\u001b[0m \u001b[0mbatch_out\u001b[0m\u001b[0;34m\u001b[0m\u001b[0;34m\u001b[0m\u001b[0m\n\u001b[0m\u001b[1;32m    303\u001b[0m             \u001b[0;32mif\u001b[0m \u001b[0mverbose\u001b[0m \u001b[0;34m==\u001b[0m \u001b[0;36m1\u001b[0m\u001b[0;34m:\u001b[0m\u001b[0;34m\u001b[0m\u001b[0;34m\u001b[0m\u001b[0m\n\u001b[1;32m    304\u001b[0m                 \u001b[0mprogbar\u001b[0m\u001b[0;34m.\u001b[0m\u001b[0mupdate\u001b[0m\u001b[0;34m(\u001b[0m\u001b[0mbatch_end\u001b[0m\u001b[0;34m)\u001b[0m\u001b[0;34m\u001b[0m\u001b[0;34m\u001b[0m\u001b[0m\n",
      "\u001b[0;31mValueError\u001b[0m: could not broadcast input array from shape (39,1) into shape (1,1)"
     ]
    }
   ],
   "source": [
    "model.predict(X_train,batch_size=1)"
   ]
  },
  {
   "cell_type": "code",
   "execution_count": null,
   "metadata": {},
   "outputs": [],
   "source": [
    "Ydata.shape"
   ]
  },
  {
   "cell_type": "code",
   "execution_count": null,
   "metadata": {},
   "outputs": [],
   "source": [
    "a.shape"
   ]
  },
  {
   "cell_type": "code",
   "execution_count": null,
   "metadata": {},
   "outputs": [],
   "source": [
    "Ydata.shape"
   ]
  },
  {
   "cell_type": "code",
   "execution_count": 24,
   "metadata": {},
   "outputs": [
    {
     "ename": "NameError",
     "evalue": "name 'make_predictions_batch' is not defined",
     "output_type": "error",
     "traceback": [
      "\u001b[0;31m---------------------------------------------------------------------------\u001b[0m",
      "\u001b[0;31mNameError\u001b[0m                                 Traceback (most recent call last)",
      "\u001b[0;32m<ipython-input-24-37f28958d89f>\u001b[0m in \u001b[0;36m<module>\u001b[0;34m\u001b[0m\n\u001b[1;32m      2\u001b[0m \u001b[0;34m\u001b[0m\u001b[0m\n\u001b[1;32m      3\u001b[0m \u001b[0mtimestamps\u001b[0m \u001b[0;34m=\u001b[0m \u001b[0mdata\u001b[0m\u001b[0;34m.\u001b[0m\u001b[0mindex\u001b[0m\u001b[0;34m[\u001b[0m\u001b[0;34m:\u001b[0m\u001b[0mlen\u001b[0m\u001b[0;34m(\u001b[0m\u001b[0mX\u001b[0m\u001b[0;34m)\u001b[0m\u001b[0;34m]\u001b[0m\u001b[0;34m\u001b[0m\u001b[0;34m\u001b[0m\u001b[0m\n\u001b[0;32m----> 4\u001b[0;31m predictions = make_predictions_batch(X, model, hidden=4, features=7, predict_n = 1, look_back=10,\\\n\u001b[0m\u001b[1;32m      5\u001b[0m                                           batch_size=478,n_pred = 100)*max_values.iloc[0]\n\u001b[1;32m      6\u001b[0m \u001b[0mfig\u001b[0m\u001b[0;34m,\u001b[0m \u001b[0max\u001b[0m \u001b[0;34m=\u001b[0m \u001b[0mplt\u001b[0m\u001b[0;34m.\u001b[0m\u001b[0msubplots\u001b[0m\u001b[0;34m(\u001b[0m\u001b[0mfigsize\u001b[0m\u001b[0;34m=\u001b[0m\u001b[0;34m(\u001b[0m\u001b[0;36m16\u001b[0m\u001b[0;34m,\u001b[0m\u001b[0;36m8\u001b[0m\u001b[0;34m)\u001b[0m\u001b[0;34m)\u001b[0m\u001b[0;34m\u001b[0m\u001b[0;34m\u001b[0m\u001b[0m\n",
      "\u001b[0;31mNameError\u001b[0m: name 'make_predictions_batch' is not defined"
     ]
    }
   ],
   "source": [
    "X, y = np.concatenate((X_train,X_test), axis=0), np.concatenate((y_train,y_test),axis=0)*max_values.iloc[0]\n",
    "\n",
    "timestamps = data.index[:len(X)]\n",
    "predictions = make_predictions_batch(X, model, hidden=4, features=7, predict_n = 1, look_back=10,\\\n",
    "                                          batch_size=478,n_pred = 100)*max_values.iloc[0]\n",
    "fig, ax = plt.subplots(figsize=(16,8))\n",
    "plot_quantiles(ax,timestamps, predictions[:,:,0],y[:,0],\\\n",
    "               axvline_kw={\"x\": timestamps[len(X_train)], \"linestyle\": \"dashdot\", \"ymin\":0.05,\"ymax\":1, \"color\": \"g\", \"label\":\"train/test split\"})\n",
    "fig.savefig(\"../figures/LSTM_dropout.png\")"
   ]
  },
  {
   "cell_type": "markdown",
   "metadata": {},
   "source": [
    "## Nova Iguaçu\n",
    "\n",
    "Let us now train a model for Nova Iguaçu"
   ]
  },
  {
   "cell_type": "code",
   "execution_count": 60,
   "metadata": {},
   "outputs": [
    {
     "name": "stdout",
     "output_type": "stream",
     "text": [
      "Enter the database password: ········\n"
     ]
    }
   ],
   "source": [
    "os.environ['PSQL_USER']='dengue_ro'\n",
    "os.environ['PSQL_HOST']='localhost'\n",
    "os.environ['PSQL_DB']='dengue_ro'\n",
    "os.environ['PSQL_PASSWORD']=getpass.getpass(\"Enter the database password: \")"
   ]
  },
  {
   "cell_type": "markdown",
   "metadata": {},
   "source": [
    "#### Getting and normalizing  dengue data"
   ]
  },
  {
   "cell_type": "code",
   "execution_count": 61,
   "metadata": {},
   "outputs": [
    {
     "name": "stdout",
     "output_type": "stream",
     "text": [
      "Shape of data:  (282, 7)\n"
     ]
    },
    {
     "data": {
      "text/html": [
       "<div>\n",
       "<style scoped>\n",
       "    .dataframe tbody tr th:only-of-type {\n",
       "        vertical-align: middle;\n",
       "    }\n",
       "\n",
       "    .dataframe tbody tr th {\n",
       "        vertical-align: top;\n",
       "    }\n",
       "\n",
       "    .dataframe thead th {\n",
       "        text-align: right;\n",
       "    }\n",
       "</style>\n",
       "<table border=\"1\" class=\"dataframe\">\n",
       "  <thead>\n",
       "    <tr style=\"text-align: right;\">\n",
       "      <th></th>\n",
       "      <th>casos_3303500</th>\n",
       "      <th>p_rt1_3303500</th>\n",
       "      <th>p_inc100k_3303500</th>\n",
       "      <th>temp_min_3303500</th>\n",
       "      <th>temp_max_3303500</th>\n",
       "      <th>umid_min_3303500</th>\n",
       "      <th>pressao_min_3303500</th>\n",
       "    </tr>\n",
       "  </thead>\n",
       "  <tbody>\n",
       "    <tr>\n",
       "      <th>2012-01-01</th>\n",
       "      <td>0.129338</td>\n",
       "      <td>0.996510</td>\n",
       "      <td>0.129337</td>\n",
       "      <td>0.863720</td>\n",
       "      <td>0.780804</td>\n",
       "      <td>0.715183</td>\n",
       "      <td>0.982919</td>\n",
       "    </tr>\n",
       "    <tr>\n",
       "      <th>2012-01-08</th>\n",
       "      <td>0.201893</td>\n",
       "      <td>0.999718</td>\n",
       "      <td>0.201892</td>\n",
       "      <td>0.839779</td>\n",
       "      <td>0.782101</td>\n",
       "      <td>0.645548</td>\n",
       "      <td>0.986736</td>\n",
       "    </tr>\n",
       "    <tr>\n",
       "      <th>2012-01-15</th>\n",
       "      <td>0.160883</td>\n",
       "      <td>0.814445</td>\n",
       "      <td>0.160883</td>\n",
       "      <td>0.895028</td>\n",
       "      <td>0.856031</td>\n",
       "      <td>0.535959</td>\n",
       "      <td>0.988271</td>\n",
       "    </tr>\n",
       "    <tr>\n",
       "      <th>2012-01-22</th>\n",
       "      <td>0.274448</td>\n",
       "      <td>0.997989</td>\n",
       "      <td>0.274448</td>\n",
       "      <td>0.906077</td>\n",
       "      <td>0.871595</td>\n",
       "      <td>0.537671</td>\n",
       "      <td>0.987434</td>\n",
       "    </tr>\n",
       "    <tr>\n",
       "      <th>2012-01-29</th>\n",
       "      <td>0.315457</td>\n",
       "      <td>0.997224</td>\n",
       "      <td>0.315457</td>\n",
       "      <td>0.856354</td>\n",
       "      <td>0.809339</td>\n",
       "      <td>0.611301</td>\n",
       "      <td>0.987154</td>\n",
       "    </tr>\n",
       "  </tbody>\n",
       "</table>\n",
       "</div>"
      ],
      "text/plain": [
       "            casos_3303500  p_rt1_3303500  p_inc100k_3303500  temp_min_3303500  \\\n",
       "2012-01-01       0.129338       0.996510           0.129337          0.863720   \n",
       "2012-01-08       0.201893       0.999718           0.201892          0.839779   \n",
       "2012-01-15       0.160883       0.814445           0.160883          0.895028   \n",
       "2012-01-22       0.274448       0.997989           0.274448          0.906077   \n",
       "2012-01-29       0.315457       0.997224           0.315457          0.856354   \n",
       "\n",
       "            temp_max_3303500  umid_min_3303500  pressao_min_3303500  \n",
       "2012-01-01          0.780804          0.715183             0.982919  \n",
       "2012-01-08          0.782101          0.645548             0.986736  \n",
       "2012-01-15          0.856031          0.535959             0.988271  \n",
       "2012-01-22          0.871595          0.537671             0.987434  \n",
       "2012-01-29          0.809339          0.611301             0.987154  "
      ]
     },
     "execution_count": 61,
     "metadata": {},
     "output_type": "execute_result"
    }
   ],
   "source": [
    "geocodes = {\"rio\": 3304557, \"n_iguacu\": 3303500}\n",
    "features = ['casos_', 'p_rt1_', 'p_inc100k_',\n",
    "       'temp_min_', 'temp_max_', 'umid_min_',\n",
    "       'pressao_min_']\n",
    "usecols = [f + str(geocodes[\"n_iguacu\"]) for f in features]\n",
    "df, _ = get_cluster_data(geocodes[\"n_iguacu\"], clusters=[], data_types=[\"alerta\", \"weather\"], \\\n",
    "                 cols=None, save=False, doenca='dengue')\n",
    "data=df.loc[:,usecols]\n",
    "timestamps=data.index\n",
    "#data = df[usecols]\n",
    "### Normalizing data\n",
    "min_values = np.min(data,axis=0)\n",
    "max_values = np.max(data,axis=0)\n",
    "data, _ = normalize_data(data)\n",
    "data.index=timestamps\n",
    "print(\"Shape of data: \", data.shape)\n",
    "data.head()\n",
    "#df"
   ]
  },
  {
   "cell_type": "markdown",
   "metadata": {},
   "source": [
    "#### Splitting train/test sets"
   ]
  },
  {
   "cell_type": "code",
   "execution_count": 62,
   "metadata": {},
   "outputs": [
    {
     "name": "stdout",
     "output_type": "stream",
     "text": [
      "train size:  201\n",
      "X_train shape: (201, 10, 7)\t y_train shape: (201, 1)\n",
      "\n",
      "X_test shape: (71, 10, 7)\t y_test shape: (71, 1)\n",
      "\n"
     ]
    }
   ],
   "source": [
    "X_train, y_train, X_test, y_test = split_data(data, look_back=10, ratio=0.75, predict_n=1, Y_column=0)\n",
    "print(\"X_train shape: {}\\t y_train shape: {}\\n\".format(X_train.shape,y_train.shape))\n",
    "print(\"X_test shape: {}\\t y_test shape: {}\\n\".format(X_test.shape,y_test.shape))"
   ]
  },
  {
   "cell_type": "markdown",
   "metadata": {},
   "source": [
    "#### Running model"
   ]
  },
  {
   "cell_type": "code",
   "execution_count": 63,
   "metadata": {},
   "outputs": [
    {
     "name": "stdout",
     "output_type": "stream",
     "text": [
      "Compilation Time :  0.024903059005737305\n",
      "_________________________________________________________________\n",
      "Layer (type)                 Output Shape              Param #   \n",
      "=================================================================\n",
      "input_11 (InputLayer)        (67, 10, 7)               0         \n",
      "_________________________________________________________________\n",
      "lstm_31 (LSTM)               (67, 10, 4)               192       \n",
      "_________________________________________________________________\n",
      "dropout_31 (Dropout)         (67, 10, 4)               0         \n",
      "_________________________________________________________________\n",
      "lstm_32 (LSTM)               (67, 10, 4)               144       \n",
      "_________________________________________________________________\n",
      "dropout_32 (Dropout)         (67, 10, 4)               0         \n",
      "_________________________________________________________________\n",
      "lstm_33 (LSTM)               (67, 4)                   144       \n",
      "_________________________________________________________________\n",
      "dropout_33 (Dropout)         (67, 4)                   0         \n",
      "_________________________________________________________________\n",
      "dense_11 (Dense)             (67, 1)                   5         \n",
      "=================================================================\n",
      "Total params: 485\n",
      "Trainable params: 485\n",
      "Non-trainable params: 0\n",
      "_________________________________________________________________\n",
      "None\n"
     ]
    },
    {
     "name": "stderr",
     "output_type": "stream",
     "text": [
      "/home/rio/geomed/Analysis/lstm.py:173: UserWarning: The `nb_epoch` argument in `fit` has been renamed `epochs`.\n",
      "  callbacks=[TB_callback, es, cp]\n"
     ]
    },
    {
     "name": "stdout",
     "output_type": "stream",
     "text": [
      "Train on 170 samples, validate on 31 samples\n",
      "Epoch 1/20\n",
      "170/170 [==============================] - 8s 46ms/step - loss: 0.0299 - acc: 0.0059 - mean_absolute_percentage_error: 790620.7878 - mean_squared_error: 0.0529 - val_loss: 0.0108 - val_acc: 0.0000e+00 - val_mean_absolute_percentage_error: 268.6704 - val_mean_squared_error: 0.0147\n",
      "Epoch 2/20\n",
      "170/170 [==============================] - 5s 32ms/step - loss: 0.0255 - acc: 0.0059 - mean_absolute_percentage_error: 547584.9587 - mean_squared_error: 0.0460 - val_loss: 0.0101 - val_acc: 0.0000e+00 - val_mean_absolute_percentage_error: 159.8642 - val_mean_squared_error: 0.0141\n",
      "Epoch 3/20\n",
      "170/170 [==============================] - 6s 37ms/step - loss: 0.0186 - acc: 0.0059 - mean_absolute_percentage_error: 247072.2046 - mean_squared_error: 0.0349 - val_loss: 0.0105 - val_acc: 0.0000e+00 - val_mean_absolute_percentage_error: 168.2371 - val_mean_squared_error: 0.0151\n",
      "Epoch 4/20\n",
      "170/170 [==============================] - 4s 24ms/step - loss: 0.0158 - acc: 0.0069 - mean_absolute_percentage_error: 296579.5175 - mean_squared_error: 0.0300 - val_loss: 0.0098 - val_acc: 0.0000e+00 - val_mean_absolute_percentage_error: 131.3079 - val_mean_squared_error: 0.0147\n",
      "Epoch 5/20\n",
      "170/170 [==============================] - 7s 39ms/step - loss: 0.0133 - acc: 0.0069 - mean_absolute_percentage_error: 180064.2673 - mean_squared_error: 0.0255 - val_loss: 0.0079 - val_acc: 0.0000e+00 - val_mean_absolute_percentage_error: 100.1567 - val_mean_squared_error: 0.0119\n",
      "Epoch 6/20\n",
      "170/170 [==============================] - 8s 48ms/step - loss: 0.0116 - acc: 0.0089 - mean_absolute_percentage_error: 211415.2503 - mean_squared_error: 0.0226 - val_loss: 0.0078 - val_acc: 0.0000e+00 - val_mean_absolute_percentage_error: 87.8171 - val_mean_squared_error: 0.0121\n",
      "Epoch 7/20\n",
      "170/170 [==============================] - 5s 31ms/step - loss: 0.0106 - acc: 0.0092 - mean_absolute_percentage_error: 301621.5825 - mean_squared_error: 0.0206 - val_loss: 0.0056 - val_acc: 0.0000e+00 - val_mean_absolute_percentage_error: 99.5479 - val_mean_squared_error: 0.0086\n",
      "Epoch 8/20\n",
      "170/170 [==============================] - 7s 42ms/step - loss: 0.0101 - acc: 0.0083 - mean_absolute_percentage_error: 195771.8253 - mean_squared_error: 0.0201 - val_loss: 0.0079 - val_acc: 0.0000e+00 - val_mean_absolute_percentage_error: 114.0185 - val_mean_squared_error: 0.0130\n",
      "Epoch 9/20\n",
      "170/170 [==============================] - 8s 45ms/step - loss: 0.0095 - acc: 0.0101 - mean_absolute_percentage_error: 150063.7425 - mean_squared_error: 0.0189 - val_loss: 0.0064 - val_acc: 0.0000e+00 - val_mean_absolute_percentage_error: 78.7991 - val_mean_squared_error: 0.0095\n",
      "Epoch 10/20\n",
      "170/170 [==============================] - 5s 31ms/step - loss: 0.0095 - acc: 0.0093 - mean_absolute_percentage_error: 271078.9131 - mean_squared_error: 0.0189 - val_loss: 0.0058 - val_acc: 0.0000e+00 - val_mean_absolute_percentage_error: 79.0541 - val_mean_squared_error: 0.0091\n",
      "Epoch 11/20\n",
      "170/170 [==============================] - 7s 43ms/step - loss: 0.0091 - acc: 0.0095 - mean_absolute_percentage_error: 182977.7113 - mean_squared_error: 0.0181 - val_loss: 0.0058 - val_acc: 0.0000e+00 - val_mean_absolute_percentage_error: 73.7375 - val_mean_squared_error: 0.0086\n",
      "Epoch 12/20\n",
      "170/170 [==============================] - 8s 49ms/step - loss: 0.0086 - acc: 0.0081 - mean_absolute_percentage_error: 205519.3837 - mean_squared_error: 0.0174 - val_loss: 0.0062 - val_acc: 0.0000e+00 - val_mean_absolute_percentage_error: 74.1279 - val_mean_squared_error: 0.0092\n",
      "Epoch 13/20\n",
      "170/170 [==============================] - 4s 26ms/step - loss: 0.0086 - acc: 0.0090 - mean_absolute_percentage_error: 206444.5603 - mean_squared_error: 0.0172 - val_loss: 0.0059 - val_acc: 0.0000e+00 - val_mean_absolute_percentage_error: 78.7665 - val_mean_squared_error: 0.0090\n",
      "Epoch 14/20\n",
      "170/170 [==============================] - 7s 43ms/step - loss: 0.0085 - acc: 0.0097 - mean_absolute_percentage_error: 189241.8691 - mean_squared_error: 0.0173 - val_loss: 0.0069 - val_acc: 0.0000e+00 - val_mean_absolute_percentage_error: 86.2477 - val_mean_squared_error: 0.0113\n",
      "Epoch 15/20\n",
      "170/170 [==============================] - 6s 36ms/step - loss: 0.0086 - acc: 0.0095 - mean_absolute_percentage_error: 271350.0797 - mean_squared_error: 0.0172 - val_loss: 0.0055 - val_acc: 0.0000e+00 - val_mean_absolute_percentage_error: 82.1337 - val_mean_squared_error: 0.0086\n",
      "Epoch 16/20\n",
      "170/170 [==============================] - 4s 26ms/step - loss: 0.0085 - acc: 0.0095 - mean_absolute_percentage_error: 154236.2091 - mean_squared_error: 0.0172 - val_loss: 0.0064 - val_acc: 0.0000e+00 - val_mean_absolute_percentage_error: 92.0426 - val_mean_squared_error: 0.0107\n",
      "Epoch 17/20\n",
      "170/170 [==============================] - 7s 42ms/step - loss: 0.0083 - acc: 0.0083 - mean_absolute_percentage_error: 214376.7579 - mean_squared_error: 0.0168 - val_loss: 0.0065 - val_acc: 0.0000e+00 - val_mean_absolute_percentage_error: 79.7383 - val_mean_squared_error: 0.0105\n",
      "Epoch 18/20\n",
      "170/170 [==============================] - 5s 32ms/step - loss: 0.0081 - acc: 0.0096 - mean_absolute_percentage_error: 134739.7201 - mean_squared_error: 0.0162 - val_loss: 0.0065 - val_acc: 0.0000e+00 - val_mean_absolute_percentage_error: 80.6366 - val_mean_squared_error: 0.0104\n",
      "Epoch 19/20\n",
      "170/170 [==============================] - 6s 33ms/step - loss: 0.0079 - acc: 0.0096 - mean_absolute_percentage_error: 219401.1965 - mean_squared_error: 0.0162 - val_loss: 0.0074 - val_acc: 0.0000e+00 - val_mean_absolute_percentage_error: 98.4899 - val_mean_squared_error: 0.0127\n",
      "Epoch 20/20\n",
      "170/170 [==============================] - 7s 40ms/step - loss: 0.0078 - acc: 0.0097 - mean_absolute_percentage_error: 104832.2795 - mean_squared_error: 0.0158 - val_loss: 0.0063 - val_acc: 0.0000e+00 - val_mean_absolute_percentage_error: 82.4946 - val_mean_squared_error: 0.0102\n"
     ]
    }
   ],
   "source": [
    "batch_size=67\n",
    "model = build_model(hidden=4, features=7, predict_n=1, look_back=10, batch_size=batch_size)\n",
    "hist = train(model, X_train, y_train, batch_size=1, epochs=20, geocode=geocodes[\"n_iguacu\"], overwrite=True)"
   ]
  },
  {
   "cell_type": "markdown",
   "metadata": {},
   "source": [
    "#### Plotting results \n",
    "Note that we reload and recompile the trained model."
   ]
  },
  {
   "cell_type": "code",
   "execution_count": 68,
   "metadata": {},
   "outputs": [
    {
     "name": "stdout",
     "output_type": "stream",
     "text": [
      "Compilation Time :  0.02573227882385254\n",
      "_________________________________________________________________\n",
      "Layer (type)                 Output Shape              Param #   \n",
      "=================================================================\n",
      "input_14 (InputLayer)        (1, 10, 7)                0         \n",
      "_________________________________________________________________\n",
      "lstm_40 (LSTM)               (1, 10, 4)                192       \n",
      "_________________________________________________________________\n",
      "dropout_40 (Dropout)         (1, 10, 4)                0         \n",
      "_________________________________________________________________\n",
      "lstm_41 (LSTM)               (1, 10, 4)                144       \n",
      "_________________________________________________________________\n",
      "dropout_41 (Dropout)         (1, 10, 4)                0         \n",
      "_________________________________________________________________\n",
      "lstm_42 (LSTM)               (1, 4)                    144       \n",
      "_________________________________________________________________\n",
      "dropout_42 (Dropout)         (1, 4)                    0         \n",
      "_________________________________________________________________\n",
      "dense_14 (Dense)             (1, 1)                    5         \n",
      "=================================================================\n",
      "Total params: 485\n",
      "Trainable params: 485\n",
      "Non-trainable params: 0\n",
      "_________________________________________________________________\n",
      "None\n"
     ]
    },
    {
     "data": {
      "image/png": "[encoded data removed]",
      "text/plain": [
       "<Figure size 1152x576 with 1 Axes>"
      ]
     },
     "metadata": {
      "needs_background": "light"
     },
     "output_type": "display_data"
    }
   ],
   "source": [
    "### formatting data and loading model\n",
    "X, y = np.concatenate((X_train,X_test), axis=0), np.concatenate((y_train,y_test),axis=0)*max_values.iloc[0]\n",
    "\n",
    "timestamps = data.index[:len(X)]\n",
    "predictions = make_predictions_batch(X, model, hidden=4, features=7, predict_n = 1, look_back=10,\\\n",
    "                                          batch_size=1,n_pred = 100)*max_values.iloc[0]\n",
    "\n",
    "### Plotting\n",
    "plot=\"median\"\n",
    "confidence=95\n",
    "data_kw={\"label\": \"data\",\"color\":\"black\"}\n",
    "pred_kw = {\"color\":\"red\"}\n",
    "fill_kw={\"color\":\"blue\",\"alpha\":0.3,\"label\": \"{} confidence interval\".format(confidence)}\n",
    "title_kw={\"label\": \"Predictions for Nova Iguaçu\",\"fontsize\":20}\n",
    "xlabel_kw = {\"xlabel\": \"time\",\"fontsize\":14}\n",
    "ylabel_kw={\"ylabel\":\"Incidence\",\"fontsize\":14}\n",
    "axvline_kw={\"x\": timestamps[len(X_train)], \"linestyle\": \"dashdot\", \"ymin\":0.05,\"ymax\":1, \"color\": \"g\", \"label\":\"train/test split\"}\n",
    "grid_params={}\n",
    "\n",
    "fig, ax = plt.subplots(figsize=(16,8))\n",
    "plot_quantiles(ax,timestamps, predictions[:,:,0],y[:,0],plot,confidence,data_kw,pred_kw,fill_kw,\\\n",
    "               title_kw,xlabel_kw,ylabel_kw,axvline_kw)\n",
    "### saving figure\n",
    "fig.savefig(\"../figures/LSTM_{}_dropout.png\".format(geocodes[\"n_iguacu\"]))"
   ]
  }
 ],
 "metadata": {
  "kernelspec": {
   "display_name": "Python 3",
   "language": "python",
   "name": "python3"
  },
  "language_info": {
   "codemirror_mode": {
    "name": "ipython",
    "version": 3
   },
   "file_extension": ".py",
   "mimetype": "text/x-python",
   "name": "python",
   "nbconvert_exporter": "python",
   "pygments_lexer": "ipython3",
   "version": "3.7.3"
  },
  "varInspector": {
   "cols": {
    "lenName": 16,
    "lenType": 16,
    "lenVar": 40
   },
   "kernels_config": {
    "python": {
     "delete_cmd_postfix": "",
     "delete_cmd_prefix": "del ",
     "library": "var_list.py",
     "varRefreshCmd": "print(var_dic_list())"
    },
    "r": {
     "delete_cmd_postfix": ") ",
     "delete_cmd_prefix": "rm(",
     "library": "var_list.r",
     "varRefreshCmd": "cat(var_dic_list()) "
    }
   },
   "types_to_exclude": [
    "module",
    "function",
    "builtin_function_or_method",
    "instance",
    "_Feature"
   ],
   "window_display": false
  }
 },
 "nbformat": 4,
 "nbformat_minor": 2
}
