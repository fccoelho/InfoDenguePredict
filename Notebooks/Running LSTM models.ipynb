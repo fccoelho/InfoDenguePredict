{
 "cells": [
  {
   "cell_type": "markdown",
   "metadata": {},
   "source": [
    "# Exploring LSTM models \n",
    "\n",
    "In this notebook we run lstm models on Infodengue data."
   ]
  },
  {
   "cell_type": "code",
   "execution_count": 78,
   "metadata": {},
   "outputs": [
    {
     "name": "stdout",
     "output_type": "stream",
     "text": [
      "The autoreload extension is already loaded. To reload it, use:\n",
      "  %reload_ext autoreload\n"
     ]
    }
   ],
   "source": [
    "%load_ext autoreload\n",
    "%autoreload 2\n",
    "import numpy as np\n",
    "import pandas as pd\n",
    "import matplotlib.pyplot as plt\n",
    "#import os\n",
    "#os.chdir(\"..\")\n",
    "\n",
    "import sys\n",
    "sys.path.append('../')\n",
    "from infodenguepredict.models.deeplearning.lstm import *\n",
    "from infodenguepredict.metrics.metrics import *\n",
    "#plot_predicted_vs_data, loss_and_metrics, evaluate, calculate_metrics, train_evaluate_model, \n",
    "#from infodenguepredict.models.deeplearning.preprocessing import *\n",
    "#from infodenguepredict.models.deeplearning.lstm import lstm.build_model\n",
    "#try:\n",
    "#    from infodenguepredict.models.deeplearning.lstm import *\n",
    "#except Exception as e:\n",
    "#    print(e)\n",
    "#from infodengue import get_temperature_data, get_alerta_table, get_tweet_data, combined_data, get_cluster_data\n",
    "import pickle\n",
    "import getpass, os\n",
    "from keras.layers.core import Dense, Activation, Dropout\n",
    "from keras.layers.recurrent import LSTM\n",
    "from keras.models import Sequential\n",
    "from keras.utils.vis_utils import plot_model\n",
    "from keras.callbacks import TensorBoard, EarlyStopping\n",
    "from keras import backend as K\n",
    "from sklearn.metrics import *\n",
    "import pandas as pd\n",
    "from time import time"
   ]
  },
  {
   "cell_type": "code",
   "execution_count": null,
   "metadata": {},
   "outputs": [],
   "source": []
  },
  {
   "cell_type": "markdown",
   "metadata": {},
   "source": [
    "## Loading the data"
   ]
  },
  {
   "cell_type": "markdown",
   "metadata": {},
   "source": [
    "To download the data we follow the instructions in the [README.rst](https://github.com/fccoelho/InfoDenguePredict/blob/master/README.rst) file."
   ]
  },
  {
   "cell_type": "markdown",
   "metadata": {},
   "source": [
    "We perform our experiments on data from Rio de Janeiro. Let us first read all our data."
   ]
  },
  {
   "cell_type": "code",
   "execution_count": 39,
   "metadata": {},
   "outputs": [
    {
     "data": {
      "text/html": [
       "<div>\n",
       "<style scoped>\n",
       "    .dataframe tbody tr th:only-of-type {\n",
       "        vertical-align: middle;\n",
       "    }\n",
       "\n",
       "    .dataframe tbody tr th {\n",
       "        vertical-align: top;\n",
       "    }\n",
       "\n",
       "    .dataframe thead th {\n",
       "        text-align: right;\n",
       "    }\n",
       "</style>\n",
       "<table border=\"1\" class=\"dataframe\">\n",
       "  <thead>\n",
       "    <tr style=\"text-align: right;\">\n",
       "      <th></th>\n",
       "      <th>casos_3306206</th>\n",
       "      <th>casos_est_3306206</th>\n",
       "      <th>casos_est_min_3306206</th>\n",
       "      <th>casos_est_max_3306206</th>\n",
       "      <th>p_rt1_3306206</th>\n",
       "      <th>p_inc100k_3306206</th>\n",
       "      <th>temp_min_3306206</th>\n",
       "      <th>temp_max_3306206</th>\n",
       "      <th>umid_min_3306206</th>\n",
       "      <th>pressao_min_3306206</th>\n",
       "      <th>...</th>\n",
       "      <th>casos_3300456</th>\n",
       "      <th>casos_est_3300456</th>\n",
       "      <th>casos_est_min_3300456</th>\n",
       "      <th>casos_est_max_3300456</th>\n",
       "      <th>p_rt1_3300456</th>\n",
       "      <th>p_inc100k_3300456</th>\n",
       "      <th>temp_min_3300456</th>\n",
       "      <th>temp_max_3300456</th>\n",
       "      <th>umid_min_3300456</th>\n",
       "      <th>pressao_min_3300456</th>\n",
       "    </tr>\n",
       "  </thead>\n",
       "  <tbody>\n",
       "    <tr>\n",
       "      <th>2010-01-03</th>\n",
       "      <td>1</td>\n",
       "      <td>1.0</td>\n",
       "      <td>1</td>\n",
       "      <td>1</td>\n",
       "      <td>0.0</td>\n",
       "      <td>2.80725</td>\n",
       "      <td>24.333333</td>\n",
       "      <td>33.000000</td>\n",
       "      <td>42.000000</td>\n",
       "      <td>1009.666667</td>\n",
       "      <td>...</td>\n",
       "      <td>3</td>\n",
       "      <td>3.0</td>\n",
       "      <td>3</td>\n",
       "      <td>3</td>\n",
       "      <td>0.0</td>\n",
       "      <td>0.607114</td>\n",
       "      <td>24.333333</td>\n",
       "      <td>33.000000</td>\n",
       "      <td>42.000000</td>\n",
       "      <td>1009.666667</td>\n",
       "    </tr>\n",
       "    <tr>\n",
       "      <th>2010-01-10</th>\n",
       "      <td>0</td>\n",
       "      <td>0.0</td>\n",
       "      <td>0</td>\n",
       "      <td>0</td>\n",
       "      <td>0.0</td>\n",
       "      <td>0.00000</td>\n",
       "      <td>25.428571</td>\n",
       "      <td>34.000000</td>\n",
       "      <td>43.285714</td>\n",
       "      <td>1008.000000</td>\n",
       "      <td>...</td>\n",
       "      <td>6</td>\n",
       "      <td>6.0</td>\n",
       "      <td>6</td>\n",
       "      <td>6</td>\n",
       "      <td>0.0</td>\n",
       "      <td>1.214230</td>\n",
       "      <td>25.428571</td>\n",
       "      <td>34.000000</td>\n",
       "      <td>43.285714</td>\n",
       "      <td>1008.000000</td>\n",
       "    </tr>\n",
       "    <tr>\n",
       "      <th>2010-01-17</th>\n",
       "      <td>0</td>\n",
       "      <td>0.0</td>\n",
       "      <td>0</td>\n",
       "      <td>0</td>\n",
       "      <td>0.0</td>\n",
       "      <td>0.00000</td>\n",
       "      <td>24.142857</td>\n",
       "      <td>34.000000</td>\n",
       "      <td>43.857143</td>\n",
       "      <td>1010.285714</td>\n",
       "      <td>...</td>\n",
       "      <td>1</td>\n",
       "      <td>1.0</td>\n",
       "      <td>1</td>\n",
       "      <td>1</td>\n",
       "      <td>0.0</td>\n",
       "      <td>0.202371</td>\n",
       "      <td>24.142857</td>\n",
       "      <td>34.000000</td>\n",
       "      <td>43.857143</td>\n",
       "      <td>1010.285714</td>\n",
       "    </tr>\n",
       "    <tr>\n",
       "      <th>2010-01-24</th>\n",
       "      <td>0</td>\n",
       "      <td>0.0</td>\n",
       "      <td>0</td>\n",
       "      <td>0</td>\n",
       "      <td>0.0</td>\n",
       "      <td>0.00000</td>\n",
       "      <td>23.714286</td>\n",
       "      <td>34.285714</td>\n",
       "      <td>39.285714</td>\n",
       "      <td>1009.000000</td>\n",
       "      <td>...</td>\n",
       "      <td>4</td>\n",
       "      <td>4.0</td>\n",
       "      <td>4</td>\n",
       "      <td>4</td>\n",
       "      <td>0.0</td>\n",
       "      <td>0.809486</td>\n",
       "      <td>23.714286</td>\n",
       "      <td>34.285714</td>\n",
       "      <td>39.285714</td>\n",
       "      <td>1009.000000</td>\n",
       "    </tr>\n",
       "    <tr>\n",
       "      <th>2010-01-31</th>\n",
       "      <td>0</td>\n",
       "      <td>0.0</td>\n",
       "      <td>0</td>\n",
       "      <td>0</td>\n",
       "      <td>0.0</td>\n",
       "      <td>0.00000</td>\n",
       "      <td>23.857143</td>\n",
       "      <td>33.857143</td>\n",
       "      <td>41.285714</td>\n",
       "      <td>1009.857143</td>\n",
       "      <td>...</td>\n",
       "      <td>9</td>\n",
       "      <td>9.0</td>\n",
       "      <td>9</td>\n",
       "      <td>9</td>\n",
       "      <td>0.0</td>\n",
       "      <td>1.821340</td>\n",
       "      <td>23.857143</td>\n",
       "      <td>33.857143</td>\n",
       "      <td>41.285714</td>\n",
       "      <td>1009.857143</td>\n",
       "    </tr>\n",
       "  </tbody>\n",
       "</table>\n",
       "<p>5 rows × 230 columns</p>\n",
       "</div>"
      ],
      "text/plain": [
       "            casos_3306206  casos_est_3306206  casos_est_min_3306206  \\\n",
       "2010-01-03              1                1.0                      1   \n",
       "2010-01-10              0                0.0                      0   \n",
       "2010-01-17              0                0.0                      0   \n",
       "2010-01-24              0                0.0                      0   \n",
       "2010-01-31              0                0.0                      0   \n",
       "\n",
       "            casos_est_max_3306206  p_rt1_3306206  p_inc100k_3306206  \\\n",
       "2010-01-03                      1            0.0            2.80725   \n",
       "2010-01-10                      0            0.0            0.00000   \n",
       "2010-01-17                      0            0.0            0.00000   \n",
       "2010-01-24                      0            0.0            0.00000   \n",
       "2010-01-31                      0            0.0            0.00000   \n",
       "\n",
       "            temp_min_3306206  temp_max_3306206  umid_min_3306206  \\\n",
       "2010-01-03         24.333333         33.000000         42.000000   \n",
       "2010-01-10         25.428571         34.000000         43.285714   \n",
       "2010-01-17         24.142857         34.000000         43.857143   \n",
       "2010-01-24         23.714286         34.285714         39.285714   \n",
       "2010-01-31         23.857143         33.857143         41.285714   \n",
       "\n",
       "            pressao_min_3306206  ...  casos_3300456  casos_est_3300456  \\\n",
       "2010-01-03          1009.666667  ...              3                3.0   \n",
       "2010-01-10          1008.000000  ...              6                6.0   \n",
       "2010-01-17          1010.285714  ...              1                1.0   \n",
       "2010-01-24          1009.000000  ...              4                4.0   \n",
       "2010-01-31          1009.857143  ...              9                9.0   \n",
       "\n",
       "            casos_est_min_3300456  casos_est_max_3300456  p_rt1_3300456  \\\n",
       "2010-01-03                      3                      3            0.0   \n",
       "2010-01-10                      6                      6            0.0   \n",
       "2010-01-17                      1                      1            0.0   \n",
       "2010-01-24                      4                      4            0.0   \n",
       "2010-01-31                      9                      9            0.0   \n",
       "\n",
       "            p_inc100k_3300456  temp_min_3300456  temp_max_3300456  \\\n",
       "2010-01-03           0.607114         24.333333         33.000000   \n",
       "2010-01-10           1.214230         25.428571         34.000000   \n",
       "2010-01-17           0.202371         24.142857         34.000000   \n",
       "2010-01-24           0.809486         23.714286         34.285714   \n",
       "2010-01-31           1.821340         23.857143         33.857143   \n",
       "\n",
       "            umid_min_3300456  pressao_min_3300456  \n",
       "2010-01-03         42.000000          1009.666667  \n",
       "2010-01-10         43.285714          1008.000000  \n",
       "2010-01-17         43.857143          1010.285714  \n",
       "2010-01-24         39.285714          1009.000000  \n",
       "2010-01-31         41.285714          1009.857143  \n",
       "\n",
       "[5 rows x 230 columns]"
      ]
     },
     "execution_count": 39,
     "metadata": {},
     "output_type": "execute_result"
    }
   ],
   "source": [
    "data_cluster = pd.read_csv(\"./sample_data/3304557_cluster.csv\",index_col=0)\n",
    "data_cluster.head()"
   ]
  },
  {
   "cell_type": "markdown",
   "metadata": {},
   "source": [
    "The city of Rio is coded as cluster `3304557`. We can easily filter the dataframe above to get only the data corresponding to this cluster."
   ]
  },
  {
   "cell_type": "code",
   "execution_count": 40,
   "metadata": {},
   "outputs": [
    {
     "data": {
      "text/html": [
       "<div>\n",
       "<style scoped>\n",
       "    .dataframe tbody tr th:only-of-type {\n",
       "        vertical-align: middle;\n",
       "    }\n",
       "\n",
       "    .dataframe tbody tr th {\n",
       "        vertical-align: top;\n",
       "    }\n",
       "\n",
       "    .dataframe thead th {\n",
       "        text-align: right;\n",
       "    }\n",
       "</style>\n",
       "<table border=\"1\" class=\"dataframe\">\n",
       "  <thead>\n",
       "    <tr style=\"text-align: right;\">\n",
       "      <th></th>\n",
       "      <th>casos_3306206</th>\n",
       "      <th>casos_est_3306206</th>\n",
       "      <th>casos_est_min_3306206</th>\n",
       "      <th>casos_est_max_3306206</th>\n",
       "      <th>p_rt1_3306206</th>\n",
       "      <th>p_inc100k_3306206</th>\n",
       "      <th>temp_min_3306206</th>\n",
       "      <th>temp_max_3306206</th>\n",
       "      <th>umid_min_3306206</th>\n",
       "      <th>pressao_min_3306206</th>\n",
       "      <th>...</th>\n",
       "      <th>casos_3300456</th>\n",
       "      <th>casos_est_3300456</th>\n",
       "      <th>casos_est_min_3300456</th>\n",
       "      <th>casos_est_max_3300456</th>\n",
       "      <th>p_rt1_3300456</th>\n",
       "      <th>p_inc100k_3300456</th>\n",
       "      <th>temp_min_3300456</th>\n",
       "      <th>temp_max_3300456</th>\n",
       "      <th>umid_min_3300456</th>\n",
       "      <th>pressao_min_3300456</th>\n",
       "    </tr>\n",
       "  </thead>\n",
       "  <tbody>\n",
       "    <tr>\n",
       "      <th>2019-04-14</th>\n",
       "      <td>3</td>\n",
       "      <td>3.0</td>\n",
       "      <td>3</td>\n",
       "      <td>3</td>\n",
       "      <td>0.123280</td>\n",
       "      <td>8.42176</td>\n",
       "      <td>23.428571</td>\n",
       "      <td>25.285714</td>\n",
       "      <td>85.986071</td>\n",
       "      <td>1012.857143</td>\n",
       "      <td>...</td>\n",
       "      <td>4</td>\n",
       "      <td>4.0</td>\n",
       "      <td>4</td>\n",
       "      <td>4</td>\n",
       "      <td>0.015841</td>\n",
       "      <td>0.809486</td>\n",
       "      <td>23.428571</td>\n",
       "      <td>25.285714</td>\n",
       "      <td>85.986071</td>\n",
       "      <td>1012.857143</td>\n",
       "    </tr>\n",
       "    <tr>\n",
       "      <th>2019-04-21</th>\n",
       "      <td>3</td>\n",
       "      <td>3.0</td>\n",
       "      <td>3</td>\n",
       "      <td>3</td>\n",
       "      <td>0.173497</td>\n",
       "      <td>8.42176</td>\n",
       "      <td>22.571429</td>\n",
       "      <td>25.571429</td>\n",
       "      <td>76.046814</td>\n",
       "      <td>1011.857143</td>\n",
       "      <td>...</td>\n",
       "      <td>0</td>\n",
       "      <td>0.0</td>\n",
       "      <td>0</td>\n",
       "      <td>0</td>\n",
       "      <td>0.000000</td>\n",
       "      <td>0.000000</td>\n",
       "      <td>22.571429</td>\n",
       "      <td>25.571429</td>\n",
       "      <td>76.046814</td>\n",
       "      <td>1011.857143</td>\n",
       "    </tr>\n",
       "    <tr>\n",
       "      <th>2019-04-28</th>\n",
       "      <td>11</td>\n",
       "      <td>12.0</td>\n",
       "      <td>11</td>\n",
       "      <td>13</td>\n",
       "      <td>0.958076</td>\n",
       "      <td>33.68700</td>\n",
       "      <td>23.857143</td>\n",
       "      <td>26.857143</td>\n",
       "      <td>78.433171</td>\n",
       "      <td>1013.428571</td>\n",
       "      <td>...</td>\n",
       "      <td>0</td>\n",
       "      <td>0.0</td>\n",
       "      <td>0</td>\n",
       "      <td>0</td>\n",
       "      <td>0.000000</td>\n",
       "      <td>0.000000</td>\n",
       "      <td>23.857143</td>\n",
       "      <td>26.857143</td>\n",
       "      <td>78.433171</td>\n",
       "      <td>1013.428571</td>\n",
       "    </tr>\n",
       "    <tr>\n",
       "      <th>2019-05-05</th>\n",
       "      <td>15</td>\n",
       "      <td>20.0</td>\n",
       "      <td>16</td>\n",
       "      <td>21</td>\n",
       "      <td>0.995579</td>\n",
       "      <td>56.14510</td>\n",
       "      <td>23.142857</td>\n",
       "      <td>25.857143</td>\n",
       "      <td>80.172271</td>\n",
       "      <td>1013.000000</td>\n",
       "      <td>...</td>\n",
       "      <td>0</td>\n",
       "      <td>0.0</td>\n",
       "      <td>0</td>\n",
       "      <td>0</td>\n",
       "      <td>0.000000</td>\n",
       "      <td>0.000000</td>\n",
       "      <td>23.142857</td>\n",
       "      <td>25.857143</td>\n",
       "      <td>80.172271</td>\n",
       "      <td>1013.000000</td>\n",
       "    </tr>\n",
       "    <tr>\n",
       "      <th>2019-05-12</th>\n",
       "      <td>8</td>\n",
       "      <td>14.0</td>\n",
       "      <td>10</td>\n",
       "      <td>15</td>\n",
       "      <td>0.734682</td>\n",
       "      <td>39.30160</td>\n",
       "      <td>22.142857</td>\n",
       "      <td>24.857143</td>\n",
       "      <td>77.838957</td>\n",
       "      <td>1014.000000</td>\n",
       "      <td>...</td>\n",
       "      <td>0</td>\n",
       "      <td>0.0</td>\n",
       "      <td>0</td>\n",
       "      <td>0</td>\n",
       "      <td>0.000000</td>\n",
       "      <td>0.000000</td>\n",
       "      <td>22.142857</td>\n",
       "      <td>24.857143</td>\n",
       "      <td>77.838957</td>\n",
       "      <td>1014.000000</td>\n",
       "    </tr>\n",
       "  </tbody>\n",
       "</table>\n",
       "<p>5 rows × 230 columns</p>\n",
       "</div>"
      ],
      "text/plain": [
       "            casos_3306206  casos_est_3306206  casos_est_min_3306206  \\\n",
       "2019-04-14              3                3.0                      3   \n",
       "2019-04-21              3                3.0                      3   \n",
       "2019-04-28             11               12.0                     11   \n",
       "2019-05-05             15               20.0                     16   \n",
       "2019-05-12              8               14.0                     10   \n",
       "\n",
       "            casos_est_max_3306206  p_rt1_3306206  p_inc100k_3306206  \\\n",
       "2019-04-14                      3       0.123280            8.42176   \n",
       "2019-04-21                      3       0.173497            8.42176   \n",
       "2019-04-28                     13       0.958076           33.68700   \n",
       "2019-05-05                     21       0.995579           56.14510   \n",
       "2019-05-12                     15       0.734682           39.30160   \n",
       "\n",
       "            temp_min_3306206  temp_max_3306206  umid_min_3306206  \\\n",
       "2019-04-14         23.428571         25.285714         85.986071   \n",
       "2019-04-21         22.571429         25.571429         76.046814   \n",
       "2019-04-28         23.857143         26.857143         78.433171   \n",
       "2019-05-05         23.142857         25.857143         80.172271   \n",
       "2019-05-12         22.142857         24.857143         77.838957   \n",
       "\n",
       "            pressao_min_3306206  ...  casos_3300456  casos_est_3300456  \\\n",
       "2019-04-14          1012.857143  ...              4                4.0   \n",
       "2019-04-21          1011.857143  ...              0                0.0   \n",
       "2019-04-28          1013.428571  ...              0                0.0   \n",
       "2019-05-05          1013.000000  ...              0                0.0   \n",
       "2019-05-12          1014.000000  ...              0                0.0   \n",
       "\n",
       "            casos_est_min_3300456  casos_est_max_3300456  p_rt1_3300456  \\\n",
       "2019-04-14                      4                      4       0.015841   \n",
       "2019-04-21                      0                      0       0.000000   \n",
       "2019-04-28                      0                      0       0.000000   \n",
       "2019-05-05                      0                      0       0.000000   \n",
       "2019-05-12                      0                      0       0.000000   \n",
       "\n",
       "            p_inc100k_3300456  temp_min_3300456  temp_max_3300456  \\\n",
       "2019-04-14           0.809486         23.428571         25.285714   \n",
       "2019-04-21           0.000000         22.571429         25.571429   \n",
       "2019-04-28           0.000000         23.857143         26.857143   \n",
       "2019-05-05           0.000000         23.142857         25.857143   \n",
       "2019-05-12           0.000000         22.142857         24.857143   \n",
       "\n",
       "            umid_min_3300456  pressao_min_3300456  \n",
       "2019-04-14         85.986071          1012.857143  \n",
       "2019-04-21         76.046814          1011.857143  \n",
       "2019-04-28         78.433171          1013.428571  \n",
       "2019-05-05         80.172271          1013.000000  \n",
       "2019-05-12         77.838957          1014.000000  \n",
       "\n",
       "[5 rows x 230 columns]"
      ]
     },
     "execution_count": 40,
     "metadata": {},
     "output_type": "execute_result"
    }
   ],
   "source": [
    "data_cluster.tail()"
   ]
  },
  {
   "cell_type": "code",
   "execution_count": 41,
   "metadata": {},
   "outputs": [
    {
     "name": "stdout",
     "output_type": "stream",
     "text": [
      "(488, 10)\n",
      "Index(['casos_3304557', 'casos_est_3304557', 'casos_est_min_3304557',\n",
      "       'casos_est_max_3304557', 'p_rt1_3304557', 'p_inc100k_3304557',\n",
      "       'temp_min_3304557', 'temp_max_3304557', 'umid_min_3304557',\n",
      "       'pressao_min_3304557'],\n",
      "      dtype='object')\n"
     ]
    },
    {
     "data": {
      "text/html": [
       "<div>\n",
       "<style scoped>\n",
       "    .dataframe tbody tr th:only-of-type {\n",
       "        vertical-align: middle;\n",
       "    }\n",
       "\n",
       "    .dataframe tbody tr th {\n",
       "        vertical-align: top;\n",
       "    }\n",
       "\n",
       "    .dataframe thead th {\n",
       "        text-align: right;\n",
       "    }\n",
       "</style>\n",
       "<table border=\"1\" class=\"dataframe\">\n",
       "  <thead>\n",
       "    <tr style=\"text-align: right;\">\n",
       "      <th></th>\n",
       "      <th>casos_3304557</th>\n",
       "      <th>casos_est_3304557</th>\n",
       "      <th>casos_est_min_3304557</th>\n",
       "      <th>casos_est_max_3304557</th>\n",
       "      <th>p_rt1_3304557</th>\n",
       "      <th>p_inc100k_3304557</th>\n",
       "      <th>temp_min_3304557</th>\n",
       "      <th>temp_max_3304557</th>\n",
       "      <th>umid_min_3304557</th>\n",
       "      <th>pressao_min_3304557</th>\n",
       "    </tr>\n",
       "  </thead>\n",
       "  <tbody>\n",
       "    <tr>\n",
       "      <th>2010-01-03</th>\n",
       "      <td>30</td>\n",
       "      <td>30.0</td>\n",
       "      <td>30</td>\n",
       "      <td>30</td>\n",
       "      <td>0.0</td>\n",
       "      <td>0.461621</td>\n",
       "      <td>24.333333</td>\n",
       "      <td>33.000000</td>\n",
       "      <td>42.000000</td>\n",
       "      <td>1009.666667</td>\n",
       "    </tr>\n",
       "    <tr>\n",
       "      <th>2010-01-10</th>\n",
       "      <td>46</td>\n",
       "      <td>46.0</td>\n",
       "      <td>46</td>\n",
       "      <td>46</td>\n",
       "      <td>0.0</td>\n",
       "      <td>0.707819</td>\n",
       "      <td>25.428571</td>\n",
       "      <td>34.000000</td>\n",
       "      <td>43.285714</td>\n",
       "      <td>1008.000000</td>\n",
       "    </tr>\n",
       "    <tr>\n",
       "      <th>2010-01-17</th>\n",
       "      <td>30</td>\n",
       "      <td>30.0</td>\n",
       "      <td>30</td>\n",
       "      <td>30</td>\n",
       "      <td>0.0</td>\n",
       "      <td>0.461621</td>\n",
       "      <td>24.142857</td>\n",
       "      <td>34.000000</td>\n",
       "      <td>43.857143</td>\n",
       "      <td>1010.285714</td>\n",
       "    </tr>\n",
       "    <tr>\n",
       "      <th>2010-01-24</th>\n",
       "      <td>51</td>\n",
       "      <td>51.0</td>\n",
       "      <td>51</td>\n",
       "      <td>51</td>\n",
       "      <td>0.0</td>\n",
       "      <td>0.784756</td>\n",
       "      <td>23.714286</td>\n",
       "      <td>34.285714</td>\n",
       "      <td>39.285714</td>\n",
       "      <td>1009.000000</td>\n",
       "    </tr>\n",
       "    <tr>\n",
       "      <th>2010-01-31</th>\n",
       "      <td>58</td>\n",
       "      <td>58.0</td>\n",
       "      <td>58</td>\n",
       "      <td>58</td>\n",
       "      <td>0.0</td>\n",
       "      <td>0.892467</td>\n",
       "      <td>23.857143</td>\n",
       "      <td>33.857143</td>\n",
       "      <td>41.285714</td>\n",
       "      <td>1009.857143</td>\n",
       "    </tr>\n",
       "  </tbody>\n",
       "</table>\n",
       "</div>"
      ],
      "text/plain": [
       "            casos_3304557  casos_est_3304557  casos_est_min_3304557  \\\n",
       "2010-01-03             30               30.0                     30   \n",
       "2010-01-10             46               46.0                     46   \n",
       "2010-01-17             30               30.0                     30   \n",
       "2010-01-24             51               51.0                     51   \n",
       "2010-01-31             58               58.0                     58   \n",
       "\n",
       "            casos_est_max_3304557  p_rt1_3304557  p_inc100k_3304557  \\\n",
       "2010-01-03                     30            0.0           0.461621   \n",
       "2010-01-10                     46            0.0           0.707819   \n",
       "2010-01-17                     30            0.0           0.461621   \n",
       "2010-01-24                     51            0.0           0.784756   \n",
       "2010-01-31                     58            0.0           0.892467   \n",
       "\n",
       "            temp_min_3304557  temp_max_3304557  umid_min_3304557  \\\n",
       "2010-01-03         24.333333         33.000000         42.000000   \n",
       "2010-01-10         25.428571         34.000000         43.285714   \n",
       "2010-01-17         24.142857         34.000000         43.857143   \n",
       "2010-01-24         23.714286         34.285714         39.285714   \n",
       "2010-01-31         23.857143         33.857143         41.285714   \n",
       "\n",
       "            pressao_min_3304557  \n",
       "2010-01-03          1009.666667  \n",
       "2010-01-10          1008.000000  \n",
       "2010-01-17          1010.285714  \n",
       "2010-01-24          1009.000000  \n",
       "2010-01-31          1009.857143  "
      ]
     },
     "execution_count": 41,
     "metadata": {},
     "output_type": "execute_result"
    }
   ],
   "source": [
    "cluster_rj = data_cluster[[c for c in data_cluster.columns if \"3304557\" in c.split(\"_\")]]\n",
    "print(cluster_rj.shape)\n",
    "print(cluster_rj.columns)\n",
    "cluster_rj.head()"
   ]
  },
  {
   "cell_type": "markdown",
   "metadata": {},
   "source": [
    "Our goal is to predict the first column, `casos_3304557` from the columns `p_rt1_3304557`, `p_inc100k_3304557`, `temp_min_3304557`, `temp_max_3304557`, `umid_min_3304557`, `pressao_min_3304557`."
   ]
  },
  {
   "cell_type": "code",
   "execution_count": 42,
   "metadata": {},
   "outputs": [
    {
     "data": {
      "text/html": [
       "<div>\n",
       "<style scoped>\n",
       "    .dataframe tbody tr th:only-of-type {\n",
       "        vertical-align: middle;\n",
       "    }\n",
       "\n",
       "    .dataframe tbody tr th {\n",
       "        vertical-align: top;\n",
       "    }\n",
       "\n",
       "    .dataframe thead th {\n",
       "        text-align: right;\n",
       "    }\n",
       "</style>\n",
       "<table border=\"1\" class=\"dataframe\">\n",
       "  <thead>\n",
       "    <tr style=\"text-align: right;\">\n",
       "      <th></th>\n",
       "      <th>casos_3304557</th>\n",
       "      <th>p_rt1_3304557</th>\n",
       "      <th>p_inc100k_3304557</th>\n",
       "      <th>temp_min_3304557</th>\n",
       "      <th>temp_max_3304557</th>\n",
       "      <th>umid_min_3304557</th>\n",
       "      <th>pressao_min_3304557</th>\n",
       "    </tr>\n",
       "  </thead>\n",
       "  <tbody>\n",
       "    <tr>\n",
       "      <th>2010-01-03</th>\n",
       "      <td>30</td>\n",
       "      <td>0.0</td>\n",
       "      <td>0.461621</td>\n",
       "      <td>24.333333</td>\n",
       "      <td>33.000000</td>\n",
       "      <td>42.000000</td>\n",
       "      <td>1009.666667</td>\n",
       "    </tr>\n",
       "    <tr>\n",
       "      <th>2010-01-10</th>\n",
       "      <td>46</td>\n",
       "      <td>0.0</td>\n",
       "      <td>0.707819</td>\n",
       "      <td>25.428571</td>\n",
       "      <td>34.000000</td>\n",
       "      <td>43.285714</td>\n",
       "      <td>1008.000000</td>\n",
       "    </tr>\n",
       "    <tr>\n",
       "      <th>2010-01-17</th>\n",
       "      <td>30</td>\n",
       "      <td>0.0</td>\n",
       "      <td>0.461621</td>\n",
       "      <td>24.142857</td>\n",
       "      <td>34.000000</td>\n",
       "      <td>43.857143</td>\n",
       "      <td>1010.285714</td>\n",
       "    </tr>\n",
       "    <tr>\n",
       "      <th>2010-01-24</th>\n",
       "      <td>51</td>\n",
       "      <td>0.0</td>\n",
       "      <td>0.784756</td>\n",
       "      <td>23.714286</td>\n",
       "      <td>34.285714</td>\n",
       "      <td>39.285714</td>\n",
       "      <td>1009.000000</td>\n",
       "    </tr>\n",
       "    <tr>\n",
       "      <th>2010-01-31</th>\n",
       "      <td>58</td>\n",
       "      <td>0.0</td>\n",
       "      <td>0.892467</td>\n",
       "      <td>23.857143</td>\n",
       "      <td>33.857143</td>\n",
       "      <td>41.285714</td>\n",
       "      <td>1009.857143</td>\n",
       "    </tr>\n",
       "  </tbody>\n",
       "</table>\n",
       "</div>"
      ],
      "text/plain": [
       "            casos_3304557  p_rt1_3304557  p_inc100k_3304557  temp_min_3304557  \\\n",
       "2010-01-03             30            0.0           0.461621         24.333333   \n",
       "2010-01-10             46            0.0           0.707819         25.428571   \n",
       "2010-01-17             30            0.0           0.461621         24.142857   \n",
       "2010-01-24             51            0.0           0.784756         23.714286   \n",
       "2010-01-31             58            0.0           0.892467         23.857143   \n",
       "\n",
       "            temp_max_3304557  umid_min_3304557  pressao_min_3304557  \n",
       "2010-01-03         33.000000         42.000000          1009.666667  \n",
       "2010-01-10         34.000000         43.285714          1008.000000  \n",
       "2010-01-17         34.000000         43.857143          1010.285714  \n",
       "2010-01-24         34.285714         39.285714          1009.000000  \n",
       "2010-01-31         33.857143         41.285714          1009.857143  "
      ]
     },
     "execution_count": 42,
     "metadata": {},
     "output_type": "execute_result"
    }
   ],
   "source": [
    "usecols = ['casos_3304557', 'p_rt1_3304557', 'p_inc100k_3304557',\n",
    "       'temp_min_3304557', 'temp_max_3304557', 'umid_min_3304557',\n",
    "       'pressao_min_3304557']\n",
    "data = cluster_rj[usecols]\n",
    "timestamps = pd.to_datetime(data.index)\n",
    "data.head()\n"
   ]
  },
  {
   "cell_type": "code",
   "execution_count": 43,
   "metadata": {},
   "outputs": [
    {
     "data": {
      "text/plain": [
       "DatetimeIndex(['2010-01-03', '2010-01-10', '2010-01-17', '2010-01-24',\n",
       "               '2010-01-31', '2010-02-07', '2010-02-14', '2010-02-21',\n",
       "               '2010-02-28', '2010-03-07',\n",
       "               ...\n",
       "               '2019-03-10', '2019-03-17', '2019-03-24', '2019-03-31',\n",
       "               '2019-04-07', '2019-04-14', '2019-04-21', '2019-04-28',\n",
       "               '2019-05-05', '2019-05-12'],\n",
       "              dtype='datetime64[ns]', length=488, freq=None)"
      ]
     },
     "execution_count": 43,
     "metadata": {},
     "output_type": "execute_result"
    }
   ],
   "source": [
    "timestamps"
   ]
  },
  {
   "cell_type": "markdown",
   "metadata": {},
   "source": [
    "Let us plot the features of our dataset."
   ]
  },
  {
   "cell_type": "code",
   "execution_count": 44,
   "metadata": {},
   "outputs": [
    {
     "data": {
      "text/plain": [
       "<matplotlib.axes._subplots.AxesSubplot at 0x7f2c3c192e80>"
      ]
     },
     "execution_count": 44,
     "metadata": {},
     "output_type": "execute_result"
    },
    {
     "data": {
      "image/png": "[encoded data removed]",
      "text/plain": [
       "<Figure size 432x288 with 1 Axes>"
      ]
     },
     "metadata": {
      "needs_background": "light"
     },
     "output_type": "display_data"
    }
   ],
   "source": [
    "data.plot()"
   ]
  },
  {
   "cell_type": "markdown",
   "metadata": {},
   "source": [
    "## Normalizing and splitting train/tests sets"
   ]
  },
  {
   "cell_type": "code",
   "execution_count": 45,
   "metadata": {},
   "outputs": [
    {
     "data": {
      "text/html": [
       "<div>\n",
       "<style scoped>\n",
       "    .dataframe tbody tr th:only-of-type {\n",
       "        vertical-align: middle;\n",
       "    }\n",
       "\n",
       "    .dataframe tbody tr th {\n",
       "        vertical-align: top;\n",
       "    }\n",
       "\n",
       "    .dataframe thead th {\n",
       "        text-align: right;\n",
       "    }\n",
       "</style>\n",
       "<table border=\"1\" class=\"dataframe\">\n",
       "  <thead>\n",
       "    <tr style=\"text-align: right;\">\n",
       "      <th></th>\n",
       "      <th>casos_3304557</th>\n",
       "      <th>p_rt1_3304557</th>\n",
       "      <th>p_inc100k_3304557</th>\n",
       "      <th>temp_min_3304557</th>\n",
       "      <th>temp_max_3304557</th>\n",
       "      <th>umid_min_3304557</th>\n",
       "      <th>pressao_min_3304557</th>\n",
       "    </tr>\n",
       "  </thead>\n",
       "  <tbody>\n",
       "    <tr>\n",
       "      <th>1970-01-01 00:00:00.000000000</th>\n",
       "      <td>0.002018</td>\n",
       "      <td>0.0</td>\n",
       "      <td>0.002018</td>\n",
       "      <td>0.920721</td>\n",
       "      <td>0.891892</td>\n",
       "      <td>0.488451</td>\n",
       "      <td>0.982712</td>\n",
       "    </tr>\n",
       "    <tr>\n",
       "      <th>1970-01-01 00:00:00.000000001</th>\n",
       "      <td>0.003094</td>\n",
       "      <td>0.0</td>\n",
       "      <td>0.003094</td>\n",
       "      <td>0.962162</td>\n",
       "      <td>0.918919</td>\n",
       "      <td>0.503404</td>\n",
       "      <td>0.981090</td>\n",
       "    </tr>\n",
       "    <tr>\n",
       "      <th>1970-01-01 00:00:00.000000002</th>\n",
       "      <td>0.002018</td>\n",
       "      <td>0.0</td>\n",
       "      <td>0.002018</td>\n",
       "      <td>0.913514</td>\n",
       "      <td>0.918919</td>\n",
       "      <td>0.510049</td>\n",
       "      <td>0.983315</td>\n",
       "    </tr>\n",
       "    <tr>\n",
       "      <th>1970-01-01 00:00:00.000000003</th>\n",
       "      <td>0.003430</td>\n",
       "      <td>0.0</td>\n",
       "      <td>0.003430</td>\n",
       "      <td>0.897297</td>\n",
       "      <td>0.926641</td>\n",
       "      <td>0.456885</td>\n",
       "      <td>0.982063</td>\n",
       "    </tr>\n",
       "    <tr>\n",
       "      <th>1970-01-01 00:00:00.000000004</th>\n",
       "      <td>0.003901</td>\n",
       "      <td>0.0</td>\n",
       "      <td>0.003901</td>\n",
       "      <td>0.902703</td>\n",
       "      <td>0.915058</td>\n",
       "      <td>0.480144</td>\n",
       "      <td>0.982898</td>\n",
       "    </tr>\n",
       "  </tbody>\n",
       "</table>\n",
       "</div>"
      ],
      "text/plain": [
       "                               casos_3304557  p_rt1_3304557  \\\n",
       "1970-01-01 00:00:00.000000000       0.002018            0.0   \n",
       "1970-01-01 00:00:00.000000001       0.003094            0.0   \n",
       "1970-01-01 00:00:00.000000002       0.002018            0.0   \n",
       "1970-01-01 00:00:00.000000003       0.003430            0.0   \n",
       "1970-01-01 00:00:00.000000004       0.003901            0.0   \n",
       "\n",
       "                               p_inc100k_3304557  temp_min_3304557  \\\n",
       "1970-01-01 00:00:00.000000000           0.002018          0.920721   \n",
       "1970-01-01 00:00:00.000000001           0.003094          0.962162   \n",
       "1970-01-01 00:00:00.000000002           0.002018          0.913514   \n",
       "1970-01-01 00:00:00.000000003           0.003430          0.897297   \n",
       "1970-01-01 00:00:00.000000004           0.003901          0.902703   \n",
       "\n",
       "                               temp_max_3304557  umid_min_3304557  \\\n",
       "1970-01-01 00:00:00.000000000          0.891892          0.488451   \n",
       "1970-01-01 00:00:00.000000001          0.918919          0.503404   \n",
       "1970-01-01 00:00:00.000000002          0.918919          0.510049   \n",
       "1970-01-01 00:00:00.000000003          0.926641          0.456885   \n",
       "1970-01-01 00:00:00.000000004          0.915058          0.480144   \n",
       "\n",
       "                               pressao_min_3304557  \n",
       "1970-01-01 00:00:00.000000000             0.982712  \n",
       "1970-01-01 00:00:00.000000001             0.981090  \n",
       "1970-01-01 00:00:00.000000002             0.983315  \n",
       "1970-01-01 00:00:00.000000003             0.982063  \n",
       "1970-01-01 00:00:00.000000004             0.982898  "
      ]
     },
     "execution_count": 45,
     "metadata": {},
     "output_type": "execute_result"
    }
   ],
   "source": [
    "### Normalizing data\n",
    "min_values = np.min(data,axis=0)\n",
    "max_values = np.max(data,axis=0)\n",
    "data, _ = normalize_data(data)\n",
    "data.index=pd.to_datetime(data.index)\n",
    "data.head()"
   ]
  },
  {
   "cell_type": "code",
   "execution_count": 46,
   "metadata": {},
   "outputs": [
    {
     "data": {
      "text/plain": [
       "casos_3304557          14868.000000\n",
       "p_rt1_3304557              1.000000\n",
       "p_inc100k_3304557        228.779000\n",
       "temp_min_3304557          26.428571\n",
       "temp_max_3304557          37.000000\n",
       "umid_min_3304557          85.986071\n",
       "pressao_min_3304557     1027.428571\n",
       "dtype: float64"
      ]
     },
     "execution_count": 46,
     "metadata": {},
     "output_type": "execute_result"
    }
   ],
   "source": [
    "max_values"
   ]
  },
  {
   "cell_type": "code",
   "execution_count": 47,
   "metadata": {},
   "outputs": [
    {
     "data": {
      "text/plain": [
       "casos_3304557           17.000000\n",
       "p_rt1_3304557            0.000000\n",
       "p_inc100k_3304557        0.261585\n",
       "temp_min_3304557        14.285714\n",
       "temp_max_3304557        17.714286\n",
       "umid_min_3304557        20.428571\n",
       "pressao_min_3304557    752.714286\n",
       "dtype: float64"
      ]
     },
     "execution_count": 47,
     "metadata": {},
     "output_type": "execute_result"
    }
   ],
   "source": [
    "min_values"
   ]
  },
  {
   "cell_type": "code",
   "execution_count": 48,
   "metadata": {},
   "outputs": [
    {
     "data": {
      "text/plain": [
       "casos_3304557          0.001143\n",
       "p_rt1_3304557          0.000000\n",
       "p_inc100k_3304557      0.001143\n",
       "temp_min_3304557       0.540541\n",
       "temp_max_3304557       0.478764\n",
       "umid_min_3304557       0.237580\n",
       "pressao_min_3304557    0.732620\n",
       "dtype: float64"
      ]
     },
     "execution_count": 48,
     "metadata": {},
     "output_type": "execute_result"
    }
   ],
   "source": [
    "np.min(data,axis=0)"
   ]
  },
  {
   "cell_type": "code",
   "execution_count": 49,
   "metadata": {},
   "outputs": [
    {
     "data": {
      "text/plain": [
       "17.0"
      ]
     },
     "execution_count": 49,
     "metadata": {},
     "output_type": "execute_result"
    }
   ],
   "source": [
    "np.min(data,axis=0).iloc[0]*max_values.iloc[0]"
   ]
  },
  {
   "cell_type": "code",
   "execution_count": 50,
   "metadata": {},
   "outputs": [],
   "source": [
    "data.index = timestamps"
   ]
  },
  {
   "cell_type": "code",
   "execution_count": 15,
   "metadata": {},
   "outputs": [
    {
     "data": {
      "text/plain": [
       "DatetimeIndex(['2010-01-03', '2010-01-10', '2010-01-17', '2010-01-24',\n",
       "               '2010-01-31', '2010-02-07', '2010-02-14', '2010-02-21',\n",
       "               '2010-02-28', '2010-03-07',\n",
       "               ...\n",
       "               '2019-03-10', '2019-03-17', '2019-03-24', '2019-03-31',\n",
       "               '2019-04-07', '2019-04-14', '2019-04-21', '2019-04-28',\n",
       "               '2019-05-05', '2019-05-12'],\n",
       "              dtype='datetime64[ns]', length=488, freq=None)"
      ]
     },
     "execution_count": 15,
     "metadata": {},
     "output_type": "execute_result"
    }
   ],
   "source": [
    "data.index"
   ]
  },
  {
   "cell_type": "code",
   "execution_count": 84,
   "metadata": {},
   "outputs": [
    {
     "name": "stdout",
     "output_type": "stream",
     "text": [
      "234\n"
     ]
    }
   ],
   "source": [
    "predict_n=2\n",
    "Y_column=0\n",
    "look_back=10\n",
    "ratio=0.5\n",
    "### Splitting train/test sets\n",
    "X_train, y_train, X_test, y_test = split_data(data, look_back, ratio, predict_n, Y_column)\n",
    "#timestamps_train = "
   ]
  },
  {
   "cell_type": "markdown",
   "metadata": {},
   "source": [
    "We are looking back 10 weeks to get our training data:"
   ]
  },
  {
   "cell_type": "code",
   "execution_count": 85,
   "metadata": {},
   "outputs": [
    {
     "data": {
      "text/plain": [
       "(234, 10, 7)"
      ]
     },
     "execution_count": 85,
     "metadata": {},
     "output_type": "execute_result"
    }
   ],
   "source": [
    "X_train.shape"
   ]
  },
  {
   "cell_type": "code",
   "execution_count": 86,
   "metadata": {},
   "outputs": [
    {
     "data": {
      "text/plain": [
       "(243, 10, 7)"
      ]
     },
     "execution_count": 86,
     "metadata": {},
     "output_type": "execute_result"
    }
   ],
   "source": [
    "X_test.shape"
   ]
  },
  {
   "cell_type": "code",
   "execution_count": 87,
   "metadata": {},
   "outputs": [
    {
     "data": {
      "text/plain": [
       "(234, 2)"
      ]
     },
     "execution_count": 87,
     "metadata": {},
     "output_type": "execute_result"
    }
   ],
   "source": [
    "y_train.shape"
   ]
  },
  {
   "cell_type": "code",
   "execution_count": 88,
   "metadata": {},
   "outputs": [
    {
     "data": {
      "text/plain": [
       "(243, 2)"
      ]
     },
     "execution_count": 88,
     "metadata": {},
     "output_type": "execute_result"
    }
   ],
   "source": [
    "y_test.shape"
   ]
  },
  {
   "cell_type": "markdown",
   "metadata": {},
   "source": [
    "## LSTM model\n",
    "An LSTM model can be retrieved from `lstm.py`."
   ]
  },
  {
   "cell_type": "code",
   "execution_count": 89,
   "metadata": {},
   "outputs": [
    {
     "name": "stdout",
     "output_type": "stream",
     "text": [
      "Compilation Time :  0.02746891975402832\n",
      "_________________________________________________________________\n",
      "Layer (type)                 Output Shape              Param #   \n",
      "=================================================================\n",
      "input_5 (InputLayer)         (39, 10, 7)               0         \n",
      "_________________________________________________________________\n",
      "lstm_13 (LSTM)               (39, 10, 4)               192       \n",
      "_________________________________________________________________\n",
      "dropout_13 (Dropout)         (39, 10, 4)               0         \n",
      "_________________________________________________________________\n",
      "lstm_14 (LSTM)               (39, 10, 4)               144       \n",
      "_________________________________________________________________\n",
      "dropout_14 (Dropout)         (39, 10, 4)               0         \n",
      "_________________________________________________________________\n",
      "lstm_15 (LSTM)               (39, 4)                   144       \n",
      "_________________________________________________________________\n",
      "dropout_15 (Dropout)         (39, 4)                   0         \n",
      "_________________________________________________________________\n",
      "dense_5 (Dense)              (39, 2)                   10        \n",
      "=================================================================\n",
      "Total params: 490\n",
      "Trainable params: 490\n",
      "Non-trainable params: 0\n",
      "_________________________________________________________________\n",
      "None\n"
     ]
    }
   ],
   "source": [
    "hidden=4\n",
    "features=7\n",
    "predict_n = 2\n",
    "look_back=10\n",
    "batch_size=39\n",
    "model = build_model(hidden, features, predict_n, look_back, batch_size)"
   ]
  },
  {
   "cell_type": "markdown",
   "metadata": {},
   "source": [
    "### Training model"
   ]
  },
  {
   "cell_type": "code",
   "execution_count": 90,
   "metadata": {},
   "outputs": [
    {
     "name": "stderr",
     "output_type": "stream",
     "text": [
      "../infodenguepredict/models/deeplearning/lstm.py:115: UserWarning: The `nb_epoch` argument in `fit` has been renamed `epochs`.\n",
      "  callbacks=[TB_callback, EarlyStopping(patience=15)]\n"
     ]
    },
    {
     "name": "stdout",
     "output_type": "stream",
     "text": [
      "Train on 198 samples, validate on 36 samples\n",
      "Epoch 1/20\n",
      "198/198 [==============================] - 10s 49ms/step - loss: 0.0230 - acc: 0.5341 - mean_absolute_percentage_error: 600.2182 - mean_squared_error: 0.0390 - val_loss: 0.0064 - val_acc: 0.4900 - val_mean_absolute_percentage_error: 1646.7830 - val_mean_squared_error: 0.0071\n",
      "Epoch 2/20\n",
      "198/198 [==============================] - 11s 55ms/step - loss: 0.0204 - acc: 0.4957 - mean_absolute_percentage_error: 602.0374 - mean_squared_error: 0.0354 - val_loss: 0.0038 - val_acc: 0.4893 - val_mean_absolute_percentage_error: 1084.6437 - val_mean_squared_error: 0.0042\n",
      "Epoch 3/20\n",
      "198/198 [==============================] - 7s 33ms/step - loss: 0.0156 - acc: 0.4794 - mean_absolute_percentage_error: 431.9559 - mean_squared_error: 0.0280 - val_loss: 0.0027 - val_acc: 0.4972 - val_mean_absolute_percentage_error: 827.0857 - val_mean_squared_error: 0.0030\n",
      "Epoch 4/20\n",
      "198/198 [==============================] - 6s 32ms/step - loss: 0.0123 - acc: 0.4878 - mean_absolute_percentage_error: 318.9476 - mean_squared_error: 0.0222 - val_loss: 0.0013 - val_acc: 0.4979 - val_mean_absolute_percentage_error: 508.6687 - val_mean_squared_error: 0.0014\n",
      "Epoch 5/20\n",
      "198/198 [==============================] - 7s 36ms/step - loss: 0.0098 - acc: 0.4961 - mean_absolute_percentage_error: 275.8248 - mean_squared_error: 0.0179 - val_loss: 0.0012 - val_acc: 0.5050 - val_mean_absolute_percentage_error: 517.7521 - val_mean_squared_error: 0.0013\n",
      "Epoch 6/20\n",
      "198/198 [==============================] - 6s 31ms/step - loss: 0.0082 - acc: 0.5247 - mean_absolute_percentage_error: 204.3445 - mean_squared_error: 0.0153 - val_loss: 5.2765e-04 - val_acc: 0.5036 - val_mean_absolute_percentage_error: 314.5346 - val_mean_squared_error: 5.6069e-04\n",
      "Epoch 7/20\n",
      "198/198 [==============================] - 11s 53ms/step - loss: 0.0075 - acc: 0.5018 - mean_absolute_percentage_error: 201.5647 - mean_squared_error: 0.0141 - val_loss: 9.3920e-04 - val_acc: 0.5021 - val_mean_absolute_percentage_error: 440.7017 - val_mean_squared_error: 0.0010\n",
      "Epoch 8/20\n",
      "198/198 [==============================] - 9s 46ms/step - loss: 0.0067 - acc: 0.4881 - mean_absolute_percentage_error: 181.2977 - mean_squared_error: 0.0128 - val_loss: 5.7470e-04 - val_acc: 0.5235 - val_mean_absolute_percentage_error: 320.1053 - val_mean_squared_error: 6.1473e-04\n",
      "Epoch 9/20\n",
      "198/198 [==============================] - 9s 43ms/step - loss: 0.0065 - acc: 0.5118 - mean_absolute_percentage_error: 171.7973 - mean_squared_error: 0.0124 - val_loss: 0.0011 - val_acc: 0.4972 - val_mean_absolute_percentage_error: 476.9088 - val_mean_squared_error: 0.0012\n",
      "Epoch 10/20\n",
      "198/198 [==============================] - 6s 30ms/step - loss: 0.0060 - acc: 0.5084 - mean_absolute_percentage_error: 163.6919 - mean_squared_error: 0.0114 - val_loss: 0.0010 - val_acc: 0.5328 - val_mean_absolute_percentage_error: 483.9536 - val_mean_squared_error: 0.0011\n",
      "Epoch 11/20\n",
      "198/198 [==============================] - 5s 27ms/step - loss: 0.0058 - acc: 0.4860 - mean_absolute_percentage_error: 168.6788 - mean_squared_error: 0.0111 - val_loss: 0.0011 - val_acc: 0.4957 - val_mean_absolute_percentage_error: 516.3037 - val_mean_squared_error: 0.0012\n",
      "Epoch 12/20\n",
      "198/198 [==============================] - 8s 40ms/step - loss: 0.0058 - acc: 0.5172 - mean_absolute_percentage_error: 153.9117 - mean_squared_error: 0.0112 - val_loss: 6.0159e-04 - val_acc: 0.5071 - val_mean_absolute_percentage_error: 313.3249 - val_mean_squared_error: 6.4628e-04\n",
      "Epoch 13/20\n",
      "198/198 [==============================] - 8s 41ms/step - loss: 0.0057 - acc: 0.5219 - mean_absolute_percentage_error: 160.8790 - mean_squared_error: 0.0108 - val_loss: 6.6539e-04 - val_acc: 0.4943 - val_mean_absolute_percentage_error: 336.8498 - val_mean_squared_error: 7.1430e-04\n",
      "Epoch 14/20\n",
      "198/198 [==============================] - 6s 31ms/step - loss: 0.0058 - acc: 0.4997 - mean_absolute_percentage_error: 167.8010 - mean_squared_error: 0.0111 - val_loss: 4.8758e-04 - val_acc: 0.5171 - val_mean_absolute_percentage_error: 265.3155 - val_mean_squared_error: 5.2313e-04\n",
      "Epoch 15/20\n",
      "198/198 [==============================] - 6s 29ms/step - loss: 0.0053 - acc: 0.5188 - mean_absolute_percentage_error: 140.7871 - mean_squared_error: 0.0104 - val_loss: 6.8949e-04 - val_acc: 0.5100 - val_mean_absolute_percentage_error: 349.2852 - val_mean_squared_error: 7.3979e-04\n",
      "Epoch 16/20\n",
      "198/198 [==============================] - 5s 27ms/step - loss: 0.0054 - acc: 0.4895 - mean_absolute_percentage_error: 146.1212 - mean_squared_error: 0.0106 - val_loss: 6.0587e-04 - val_acc: 0.5164 - val_mean_absolute_percentage_error: 301.2921 - val_mean_squared_error: 6.5282e-04\n",
      "Epoch 17/20\n",
      "198/198 [==============================] - 8s 41ms/step - loss: 0.0056 - acc: 0.5027 - mean_absolute_percentage_error: 157.5277 - mean_squared_error: 0.0106 - val_loss: 0.0011 - val_acc: 0.5036 - val_mean_absolute_percentage_error: 445.8678 - val_mean_squared_error: 0.0012\n",
      "Epoch 18/20\n",
      "198/198 [==============================] - 6s 32ms/step - loss: 0.0056 - acc: 0.5299 - mean_absolute_percentage_error: 152.6088 - mean_squared_error: 0.0106 - val_loss: 6.1444e-04 - val_acc: 0.5313 - val_mean_absolute_percentage_error: 310.4943 - val_mean_squared_error: 6.5925e-04\n",
      "Epoch 19/20\n",
      "198/198 [==============================] - 6s 33ms/step - loss: 0.0054 - acc: 0.5171 - mean_absolute_percentage_error: 146.5262 - mean_squared_error: 0.0104 - val_loss: 3.8403e-04 - val_acc: 0.4957 - val_mean_absolute_percentage_error: 229.2944 - val_mean_squared_error: 4.1163e-04\n",
      "Epoch 20/20\n",
      "198/198 [==============================] - 7s 37ms/step - loss: 0.0055 - acc: 0.5387 - mean_absolute_percentage_error: 146.2227 - mean_squared_error: 0.0105 - val_loss: 7.9106e-04 - val_acc: 0.5114 - val_mean_absolute_percentage_error: 350.1797 - val_mean_squared_error: 8.5593e-04\n"
     ]
    }
   ],
   "source": [
    "hist = train(model, X_train, y_train, batch_size=1, epochs=20, geocode=3304557, overwrite=True)"
   ]
  },
  {
   "cell_type": "markdown",
   "metadata": {},
   "source": [
    "#### Training history"
   ]
  },
  {
   "cell_type": "code",
   "execution_count": 91,
   "metadata": {},
   "outputs": [
    {
     "data": {
      "image/png": "[encoded data removed]",
      "text/plain": [
       "<Figure size 432x288 with 1 Axes>"
      ]
     },
     "metadata": {
      "needs_background": "light"
     },
     "output_type": "display_data"
    }
   ],
   "source": [
    "plot_training_history(hist)"
   ]
  },
  {
   "cell_type": "markdown",
   "metadata": {},
   "source": [
    "#### Plotting predictions "
   ]
  },
  {
   "cell_type": "code",
   "execution_count": 92,
   "metadata": {},
   "outputs": [
    {
     "name": "stdout",
     "output_type": "stream",
     "text": [
      "The autoreload extension is already loaded. To reload it, use:\n",
      "  %reload_ext autoreload\n"
     ]
    }
   ],
   "source": [
    "%load_ext autoreload\n",
    "%autoreload 2\n",
    "import numpy as np\n",
    "import pandas as pd\n",
    "import matplotlib.pyplot as plt\n",
    "#import os\n",
    "#os.chdir(\"..\")\n",
    "\n",
    "import sys\n",
    "sys.path.append('../')\n",
    "from infodenguepredict.models.deeplearning.lstm import *\n",
    "from infodenguepredict.metrics.metrics import *\n",
    "#plot_predicted_vs_data, loss_and_metrics, evaluate, calculate_metrics, train_evaluate_model, \n",
    "#from infodenguepredict.models.deeplearning.preprocessing import *\n",
    "#from infodenguepredict.models.deeplearning.lstm import lstm.build_model\n",
    "#try:\n",
    "#    from infodenguepredict.models.deeplearning.lstm import *\n",
    "#except Exception as e:\n",
    "#    print(e)\n",
    "#from infodengue import get_temperature_data, get_alerta_table, get_tweet_data, combined_data, get_cluster_data\n",
    "import pickle\n",
    "import getpass, os\n",
    "from keras.layers.core import Dense, Activation, Dropout\n",
    "from keras.layers.recurrent import LSTM\n",
    "from keras.models import Sequential\n",
    "from keras.utils.vis_utils import plot_model\n",
    "from keras.callbacks import TensorBoard, EarlyStopping\n",
    "from keras import backend as K\n",
    "from sklearn.metrics import *\n",
    "import pandas as pd\n",
    "from time import time"
   ]
  },
  {
   "cell_type": "code",
   "execution_count": 93,
   "metadata": {},
   "outputs": [],
   "source": [
    "#Xdata = np.concatenate((X_train,X_test))\n",
    "#n_predictions=10\n",
    "#a = predict_with_dropout(model,Xdata,n_predictions,batch_size=1)\n",
    "#Xdata.shape"
   ]
  },
  {
   "cell_type": "code",
   "execution_count": 95,
   "metadata": {},
   "outputs": [
    {
     "name": "stdout",
     "output_type": "stream",
     "text": [
      "Compilation Time :  0.02675604820251465\n",
      "_________________________________________________________________\n",
      "Layer (type)                 Output Shape              Param #   \n",
      "=================================================================\n",
      "input_7 (InputLayer)         (477, 10, 7)              0         \n",
      "_________________________________________________________________\n",
      "lstm_19 (LSTM)               (477, 10, 4)              192       \n",
      "_________________________________________________________________\n",
      "dropout_19 (Dropout)         (477, 10, 4)              0         \n",
      "_________________________________________________________________\n",
      "lstm_20 (LSTM)               (477, 10, 4)              144       \n",
      "_________________________________________________________________\n",
      "dropout_20 (Dropout)         (477, 10, 4)              0         \n",
      "_________________________________________________________________\n",
      "lstm_21 (LSTM)               (477, 4)                  144       \n",
      "_________________________________________________________________\n",
      "dropout_21 (Dropout)         (477, 4)                  0         \n",
      "_________________________________________________________________\n",
      "dense_7 (Dense)              (477, 2)                  10        \n",
      "=================================================================\n",
      "Total params: 490\n",
      "Trainable params: 490\n",
      "Non-trainable params: 0\n",
      "_________________________________________________________________\n",
      "None\n"
     ]
    },
    {
     "name": "stderr",
     "output_type": "stream",
     "text": [
      "\n",
      "  0%|          | 0/10 [00:00<?, ?it/s]\u001b[A\n",
      " 10%|█         | 1/10 [00:01<00:09,  1.08s/it]\u001b[A\n",
      " 70%|███████   | 7/10 [00:01<00:02,  1.31it/s]\u001b[A\n",
      "100%|██████████| 10/10 [00:01<00:00,  7.79it/s]\u001b[A"
     ]
    }
   ],
   "source": [
    "n_shots=10\n",
    "#batch_size=478\n",
    "hidden=4\n",
    "features=7\n",
    "predict_n=2\n",
    "look_back=10\n",
    "batch_size=477\n",
    "Xdata = np.concatenate((X_train,X_test))\n",
    "predicted = predict_with_dropout(model,Xdata,n_shots,hidden,features,predict_n,look_back,\\\n",
    "                         batch_size)\n",
    "Ydata = np.concatenate((y_train,y_test))\n",
    "index = data.index\n"
   ]
  },
  {
   "cell_type": "code",
   "execution_count": 96,
   "metadata": {},
   "outputs": [
    {
     "data": {
      "text/plain": [
       "(10, 477, 2)"
      ]
     },
     "execution_count": 96,
     "metadata": {},
     "output_type": "execute_result"
    }
   ],
   "source": [
    "predicted.shape"
   ]
  },
  {
   "cell_type": "markdown",
   "metadata": {},
   "source": [
    "### Generating confidence intervals"
   ]
  },
  {
   "cell_type": "code",
   "execution_count": 209,
   "metadata": {},
   "outputs": [
    {
     "name": "stdout",
     "output_type": "stream",
     "text": [
      "The autoreload extension is already loaded. To reload it, use:\n",
      "  %reload_ext autoreload\n"
     ]
    }
   ],
   "source": [
    "%load_ext autoreload\n",
    "%autoreload 2\n",
    "import numpy as np\n",
    "import pandas as pd\n",
    "import matplotlib.pyplot as plt\n",
    "#import os\n",
    "#os.chdir(\"..\")\n",
    "\n",
    "import sys\n",
    "sys.path.append('../')\n",
    "from infodenguepredict.models.deeplearning.lstm import *\n",
    "from infodenguepredict.metrics.metrics import *\n",
    "#plot_predicted_vs_data, loss_and_metrics, evaluate, calculate_metrics, train_evaluate_model, \n",
    "#from infodenguepredict.models.deeplearning.preprocessing import *\n",
    "#from infodenguepredict.models.deeplearning.lstm import lstm.build_model\n",
    "#try:\n",
    "#    from infodenguepredict.models.deeplearning.lstm import *\n",
    "#except Exception as e:\n",
    "#    print(e)\n",
    "#from infodengue import get_temperature_data, get_alerta_table, get_tweet_data, combined_data, get_cluster_data\n",
    "import pickle\n",
    "import getpass, os\n",
    "from keras.layers.core import Dense, Activation, Dropout\n",
    "from keras.layers.recurrent import LSTM\n",
    "from keras.models import Sequential\n",
    "from keras.utils.vis_utils import plot_model\n",
    "from keras.callbacks import TensorBoard, EarlyStopping\n",
    "from keras import backend as K\n",
    "from sklearn.metrics import *\n",
    "import pandas as pd\n",
    "from time import time"
   ]
  },
  {
   "cell_type": "code",
   "execution_count": 210,
   "metadata": {},
   "outputs": [
    {
     "data": {
      "text/plain": [
       "488"
      ]
     },
     "execution_count": 210,
     "metadata": {},
     "output_type": "execute_result"
    }
   ],
   "source": [
    "len(data.index)"
   ]
  },
  {
   "cell_type": "code",
   "execution_count": 211,
   "metadata": {},
   "outputs": [
    {
     "data": {
      "text/plain": [
       "(10, 477, 2)"
      ]
     },
     "execution_count": 211,
     "metadata": {},
     "output_type": "execute_result"
    }
   ],
   "source": [
    "predicted.shape"
   ]
  },
  {
   "cell_type": "code",
   "execution_count": 212,
   "metadata": {},
   "outputs": [
    {
     "data": {
      "text/plain": [
       "(477, 2)"
      ]
     },
     "execution_count": 212,
     "metadata": {},
     "output_type": "execute_result"
    }
   ],
   "source": [
    "Ydata.shape"
   ]
  },
  {
   "cell_type": "code",
   "execution_count": 213,
   "metadata": {},
   "outputs": [
    {
     "data": {
      "text/plain": [
       "array([[3.4824733e-03, 4.7960603e-03],\n",
       "       [0.0000000e+00, 0.0000000e+00],\n",
       "       [4.8642041e-04, 3.3466058e-04],\n",
       "       [0.0000000e+00, 0.0000000e+00],\n",
       "       [0.0000000e+00, 0.0000000e+00],\n",
       "       [1.0085307e-06, 3.9773330e-04],\n",
       "       [2.1826211e-04, 1.4392423e-04],\n",
       "       [8.3797611e-05, 7.4094431e-05],\n",
       "       [6.5555465e-03, 7.4497429e-03],\n",
       "       [2.3783476e-03, 2.3851763e-03]], dtype=float32)"
      ]
     },
     "execution_count": 213,
     "metadata": {},
     "output_type": "execute_result"
    }
   ],
   "source": [
    "(predicted[:,0]-predicted[:,1])**2"
   ]
  },
  {
   "cell_type": "code",
   "execution_count": 214,
   "metadata": {},
   "outputs": [
    {
     "name": "stdout",
     "output_type": "stream",
     "text": [
      "CPU times: user 31.8 ms, sys: 0 ns, total: 31.8 ms\n",
      "Wall time: 31.5 ms\n"
     ]
    },
    {
     "data": {
      "image/png": "[encoded data removed]",
      "text/plain": [
       "<Figure size 432x288 with 1 Axes>"
      ]
     },
     "metadata": {
      "needs_background": "light"
     },
     "output_type": "display_data"
    },
    {
     "data": {
      "image/png": "[encoded data removed]",
      "text/plain": [
       "<Figure size 432x288 with 1 Axes>"
      ]
     },
     "metadata": {
      "needs_background": "light"
     },
     "output_type": "display_data"
    },
    {
     "data": {
      "text/plain": [
       "<Figure size 432x288 with 0 Axes>"
      ]
     },
     "metadata": {},
     "output_type": "display_data"
    }
   ],
   "source": [
    "%%time\n",
    "#y_pred_train = model.predict(X_train,batch_size=1)\n",
    "#y_pred_test = model.predict(X_test,batch_size=1)\n",
    "#predicted = np.concatenate((y_pred_train,y_pred_test))\n",
    "#Xdata = np.concatenate((X_train,X_test))\n",
    "#predicted = predict_with_dropout(model,Xdata,n_predictions,batch_size=1)\n",
    "#Ydata = np.concatenate((y_train,y_test))\n",
    "#index = data.index\n",
    "#index = data.index[:]\n",
    "label=\"Rio de Janeiro\"\n",
    "predict_n=2\n",
    "factor=cluster_rj.loc[:,'casos_3304557'].max()\n",
    "#split_point = int(len(indice)*0.5)\n",
    "ratio = 0.5\n",
    "look_back =10\n",
    "#plot_n = 2\n",
    "color_preds = [\"red\",\"green\"]\n",
    "for plot_n, color_pred in enumerate(color_preds):\n",
    "    plot_predicted_vs_data(predicted, Ydata, index, label, ratio, factor,look_back,\n",
    "                          predict_n,plot_n,color_pred)\n",
    "    plt.figure()"
   ]
  },
  {
   "cell_type": "code",
   "execution_count": 215,
   "metadata": {},
   "outputs": [
    {
     "data": {
      "text/plain": [
       "14868"
      ]
     },
     "execution_count": 215,
     "metadata": {},
     "output_type": "execute_result"
    }
   ],
   "source": [
    "factor"
   ]
  },
  {
   "cell_type": "code",
   "execution_count": 216,
   "metadata": {},
   "outputs": [],
   "source": [
    "y_pred = np.percentile(predicted, 50, axis=0)"
   ]
  },
  {
   "cell_type": "code",
   "execution_count": 217,
   "metadata": {},
   "outputs": [
    {
     "data": {
      "text/plain": [
       "array([[ 5.02128154e-04,  7.22194836e-03],\n",
       "       [-0.00000000e+00, -0.00000000e+00],\n",
       "       [ 6.91786781e-03,  8.33415985e-03],\n",
       "       [-0.00000000e+00,  3.03291902e-03],\n",
       "       [-0.00000000e+00, -0.00000000e+00],\n",
       "       [ 1.09170079e-02,  1.76739804e-02],\n",
       "       [ 1.46888047e-02,  2.18352228e-02],\n",
       "       [ 2.08273344e-02,  2.19901688e-02],\n",
       "       [ 9.79475677e-04,  4.59128991e-03],\n",
       "       [ 1.54534765e-02,  2.36148424e-02],\n",
       "       [ 5.18170372e-03,  4.33922559e-03],\n",
       "       [-0.00000000e+00, -0.00000000e+00],\n",
       "       [-0.00000000e+00, -0.00000000e+00],\n",
       "       [ 1.32582262e-02,  1.93226896e-02],\n",
       "       [ 2.80825049e-03,  4.01268527e-03],\n",
       "       [-0.00000000e+00,  8.31518322e-04],\n",
       "       [ 6.53419271e-03,  1.41873099e-02],\n",
       "       [ 7.47338682e-03,  1.53142028e-02],\n",
       "       [ 3.30774859e-03,  1.59248412e-02],\n",
       "       [-0.00000000e+00, -0.00000000e+00],\n",
       "       [-0.00000000e+00, -0.00000000e+00],\n",
       "       [-0.00000000e+00, -0.00000000e+00],\n",
       "       [-0.00000000e+00, -0.00000000e+00],\n",
       "       [-0.00000000e+00,  2.31629983e-03],\n",
       "       [ 4.32424620e-03,  1.08454674e-02],\n",
       "       [-0.00000000e+00, -0.00000000e+00],\n",
       "       [-0.00000000e+00, -0.00000000e+00],\n",
       "       [-0.00000000e+00, -0.00000000e+00],\n",
       "       [-0.00000000e+00, -0.00000000e+00],\n",
       "       [-0.00000000e+00, -0.00000000e+00],\n",
       "       [-0.00000000e+00, -0.00000000e+00],\n",
       "       [-0.00000000e+00, -0.00000000e+00],\n",
       "       [-0.00000000e+00, -0.00000000e+00],\n",
       "       [-0.00000000e+00, -0.00000000e+00],\n",
       "       [ 3.06963921e-04,  5.52423671e-03],\n",
       "       [-0.00000000e+00, -0.00000000e+00],\n",
       "       [ 4.47707921e-02,  4.44914401e-02],\n",
       "       [-0.00000000e+00, -0.00000000e+00],\n",
       "       [ 5.67479804e-03,  7.28363916e-03],\n",
       "       [ 3.77764888e-02,  5.18732928e-02],\n",
       "       [-0.00000000e+00, -0.00000000e+00],\n",
       "       [ 4.08046134e-02,  5.04149087e-02],\n",
       "       [ 3.59466039e-02,  3.77660412e-02],\n",
       "       [ 3.74225713e-02,  4.68702167e-02],\n",
       "       [ 2.44174115e-02,  3.13017629e-02],\n",
       "       [ 1.06527098e-02,  1.74417011e-02],\n",
       "       [ 3.50358821e-02,  4.53771837e-02],\n",
       "       [ 7.60033987e-02,  8.51288438e-02],\n",
       "       [ 5.61772361e-02,  6.45123739e-02],\n",
       "       [ 1.28600471e-01,  1.34613626e-01],\n",
       "       [ 1.73904590e-01,  1.82809763e-01],\n",
       "       [ 1.31333515e-01,  1.40710227e-01],\n",
       "       [ 1.72330797e-01,  1.79769218e-01],\n",
       "       [ 1.22447673e-01,  1.28546845e-01],\n",
       "       [ 1.72378667e-01,  1.78940140e-01],\n",
       "       [ 3.88730764e-01,  3.92040014e-01],\n",
       "       [ 5.28830558e-01,  5.41398615e-01],\n",
       "       [ 4.47222069e-01,  4.26669568e-01],\n",
       "       [ 2.82963365e-01,  2.80396119e-01],\n",
       "       [ 2.84492955e-01,  2.91674167e-01],\n",
       "       [ 3.04185852e-01,  3.09179425e-01],\n",
       "       [ 3.40368688e-01,  3.35950851e-01],\n",
       "       [ 2.38568082e-01,  2.25848749e-01],\n",
       "       [ 1.30197391e-01,  1.32437102e-01],\n",
       "       [ 1.06468059e-01,  1.11102872e-01],\n",
       "       [ 8.87469202e-02,  9.37678292e-02],\n",
       "       [ 3.36515978e-02,  4.17807400e-02],\n",
       "       [ 3.48091237e-02,  4.14797068e-02],\n",
       "       [ 2.84404755e-02,  3.11788432e-02],\n",
       "       [ 9.60670412e-04,  7.58449733e-03],\n",
       "       [ 6.80807978e-04,  4.00802493e-03],\n",
       "       [-0.00000000e+00, -0.00000000e+00],\n",
       "       [-0.00000000e+00, -0.00000000e+00],\n",
       "       [-0.00000000e+00, -0.00000000e+00],\n",
       "       [-0.00000000e+00, -0.00000000e+00],\n",
       "       [-0.00000000e+00, -0.00000000e+00],\n",
       "       [-0.00000000e+00, -0.00000000e+00],\n",
       "       [-0.00000000e+00, -0.00000000e+00],\n",
       "       [-0.00000000e+00, -0.00000000e+00],\n",
       "       [-0.00000000e+00, -0.00000000e+00],\n",
       "       [-0.00000000e+00, -0.00000000e+00],\n",
       "       [-0.00000000e+00, -0.00000000e+00],\n",
       "       [ 2.15148702e-02,  2.90543512e-02],\n",
       "       [ 3.61209735e-03,  9.76905599e-03],\n",
       "       [ 5.50995767e-03,  1.40772611e-02],\n",
       "       [ 3.86860669e-02,  4.28141728e-02],\n",
       "       [ 3.41568030e-02,  4.10896614e-02],\n",
       "       [ 9.84138250e-03,  1.80278346e-02],\n",
       "       [ 4.29695100e-02,  4.87722419e-02],\n",
       "       [ 3.95391211e-02,  4.21620421e-02],\n",
       "       [ 5.33163697e-02,  5.38012460e-02],\n",
       "       [ 3.85815650e-02,  4.63329293e-02],\n",
       "       [ 8.61920416e-02,  9.48033072e-02],\n",
       "       [ 1.01952091e-01,  1.04688592e-01],\n",
       "       [ 1.02721754e-01,  1.05027683e-01],\n",
       "       [ 7.31919259e-02,  8.25521573e-02],\n",
       "       [ 1.11077968e-01,  1.16779175e-01],\n",
       "       [ 1.05924178e-01,  1.13161530e-01],\n",
       "       [ 1.40531749e-01,  1.45954192e-01],\n",
       "       [ 1.70017026e-01,  1.76680766e-01],\n",
       "       [ 2.12081745e-01,  2.14169666e-01],\n",
       "       [ 2.61918604e-01,  2.64293402e-01],\n",
       "       [ 2.51874626e-01,  2.57254630e-01],\n",
       "       [ 3.56280357e-01,  3.52643296e-01],\n",
       "       [ 3.32613736e-01,  3.26219663e-01],\n",
       "       [ 4.06979814e-01,  4.05434608e-01],\n",
       "       [ 5.26722044e-01,  5.24371654e-01],\n",
       "       [ 6.10172421e-01,  6.04108691e-01],\n",
       "       [ 4.77689207e-01,  4.82781723e-01],\n",
       "       [ 5.11828005e-01,  5.33355266e-01],\n",
       "       [ 7.08517641e-01,  6.97617203e-01],\n",
       "       [ 4.86930698e-01,  4.98338625e-01],\n",
       "       [ 5.24125904e-01,  4.98901427e-01],\n",
       "       [ 6.40733391e-01,  6.50904179e-01],\n",
       "       [ 5.68841964e-01,  5.52665755e-01],\n",
       "       [ 4.33193833e-01,  4.00558814e-01],\n",
       "       [ 3.33010420e-01,  3.35359469e-01],\n",
       "       [ 3.71451989e-01,  3.54033008e-01],\n",
       "       [ 2.39223197e-01,  2.35415727e-01],\n",
       "       [ 2.01697826e-01,  1.96530178e-01],\n",
       "       [ 8.24919678e-02,  8.19900036e-02],\n",
       "       [ 8.46234523e-02,  8.50541405e-02],\n",
       "       [ 7.32039995e-02,  7.47197382e-02],\n",
       "       [ 1.92540698e-02,  2.19268464e-02],\n",
       "       [ 2.14573480e-02,  2.56616101e-02],\n",
       "       [-0.00000000e+00,  1.13643706e-03],\n",
       "       [ 4.45928425e-04,  4.46079299e-03],\n",
       "       [-0.00000000e+00, -0.00000000e+00],\n",
       "       [-0.00000000e+00, -0.00000000e+00],\n",
       "       [-0.00000000e+00, -0.00000000e+00],\n",
       "       [-0.00000000e+00, -0.00000000e+00],\n",
       "       [ 3.04040685e-03,  7.02667609e-03],\n",
       "       [ 1.41179189e-03, -0.00000000e+00],\n",
       "       [-0.00000000e+00, -0.00000000e+00],\n",
       "       [ 1.47670545e-02,  2.35465281e-02],\n",
       "       [ 7.90141150e-03,  1.36668049e-02],\n",
       "       [-0.00000000e+00, -0.00000000e+00],\n",
       "       [ 2.83356756e-03, -0.00000000e+00],\n",
       "       [-0.00000000e+00, -0.00000000e+00],\n",
       "       [ 3.29541303e-02,  4.16975133e-02],\n",
       "       [-0.00000000e+00, -0.00000000e+00],\n",
       "       [ 1.23469122e-02,  1.79580860e-02],\n",
       "       [ 8.84072110e-03,  1.86124593e-02],\n",
       "       [-0.00000000e+00, -0.00000000e+00],\n",
       "       [-0.00000000e+00,  1.88481808e-03],\n",
       "       [ 4.45809811e-02,  5.09495921e-02],\n",
       "       [ 2.92897820e-02,  3.88232358e-02],\n",
       "       [ 4.31683362e-02,  5.17985746e-02],\n",
       "       [ 5.69732301e-02,  6.48130570e-02],\n",
       "       [ 4.64456342e-02,  5.42794280e-02],\n",
       "       [ 9.41103026e-02,  1.03501827e-01],\n",
       "       [ 1.07585605e-01,  1.15037519e-01],\n",
       "       [ 8.53194110e-02,  9.33300443e-02],\n",
       "       [ 1.42188542e-01,  1.49623409e-01],\n",
       "       [ 1.76291771e-01,  1.82683080e-01],\n",
       "       [ 2.57293448e-01,  2.69682392e-01],\n",
       "       [ 3.49521860e-01,  3.59062552e-01],\n",
       "       [ 2.67587394e-01,  2.74207383e-01],\n",
       "       [ 4.14989993e-01,  4.18370754e-01],\n",
       "       [ 3.59341234e-01,  3.47682357e-01],\n",
       "       [ 3.81455675e-01,  3.83289769e-01],\n",
       "       [ 5.07142797e-01,  4.90557134e-01],\n",
       "       [ 3.62577230e-01,  3.66441727e-01],\n",
       "       [ 2.64238223e-01,  2.62473211e-01],\n",
       "       [ 1.55329421e-01,  1.57750659e-01],\n",
       "       [ 1.89346902e-01,  1.83671370e-01],\n",
       "       [ 1.25488788e-01,  1.27246510e-01],\n",
       "       [ 1.47713810e-01,  1.51238322e-01],\n",
       "       [ 1.02844439e-01,  1.08560644e-01],\n",
       "       [ 7.03103133e-02,  7.21563920e-02],\n",
       "       [ 5.07127196e-02,  5.47323376e-02],\n",
       "       [-0.00000000e+00,  1.05138868e-04],\n",
       "       [ 1.16821527e-02,  1.88363567e-02],\n",
       "       [ 3.33760306e-03,  8.67708027e-03],\n",
       "       [ 1.19191483e-02,  1.99230649e-02],\n",
       "       [-0.00000000e+00, -0.00000000e+00],\n",
       "       [ 3.48631293e-04,  4.70697880e-03],\n",
       "       [ 1.11278296e-02,  8.95467401e-03],\n",
       "       [-0.00000000e+00, -0.00000000e+00],\n",
       "       [ 9.37915221e-03,  1.40285157e-02],\n",
       "       [-0.00000000e+00,  2.29666382e-03],\n",
       "       [-0.00000000e+00, -0.00000000e+00],\n",
       "       [-0.00000000e+00, -0.00000000e+00],\n",
       "       [-0.00000000e+00, -0.00000000e+00],\n",
       "       [-0.00000000e+00, -0.00000000e+00],\n",
       "       [-0.00000000e+00, -0.00000000e+00],\n",
       "       [-0.00000000e+00,  4.51589003e-03],\n",
       "       [-0.00000000e+00, -0.00000000e+00],\n",
       "       [-0.00000000e+00,  2.05133483e-03],\n",
       "       [-0.00000000e+00, -0.00000000e+00],\n",
       "       [ 2.75848955e-02,  3.56175229e-02],\n",
       "       [-0.00000000e+00, -0.00000000e+00],\n",
       "       [-0.00000000e+00, -0.00000000e+00],\n",
       "       [ 5.15922159e-03,  1.42889507e-02],\n",
       "       [-0.00000000e+00, -0.00000000e+00],\n",
       "       [-0.00000000e+00, -0.00000000e+00],\n",
       "       [ 7.35405087e-03,  1.37588196e-02],\n",
       "       [-0.00000000e+00, -0.00000000e+00],\n",
       "       [ 3.16531584e-02,  4.20471393e-02],\n",
       "       [-0.00000000e+00, -0.00000000e+00],\n",
       "       [-0.00000000e+00, -0.00000000e+00],\n",
       "       [ 3.95359844e-03,  7.79336691e-03],\n",
       "       [-0.00000000e+00, -0.00000000e+00],\n",
       "       [ 1.51248127e-02,  1.55640244e-02],\n",
       "       [-0.00000000e+00, -0.00000000e+00],\n",
       "       [ 1.19779445e-02,  1.52358636e-02],\n",
       "       [ 1.57306716e-03, -0.00000000e+00],\n",
       "       [ 8.04910436e-03,  6.14708662e-03],\n",
       "       [-0.00000000e+00, -0.00000000e+00],\n",
       "       [-0.00000000e+00, -0.00000000e+00],\n",
       "       [-0.00000000e+00, -0.00000000e+00],\n",
       "       [-0.00000000e+00, -0.00000000e+00],\n",
       "       [-0.00000000e+00,  3.35628539e-03],\n",
       "       [-0.00000000e+00, -0.00000000e+00],\n",
       "       [ 1.12890080e-02,  1.37550533e-02],\n",
       "       [-0.00000000e+00, -0.00000000e+00],\n",
       "       [-0.00000000e+00, -0.00000000e+00],\n",
       "       [-0.00000000e+00, -0.00000000e+00],\n",
       "       [ 3.77941877e-04,  5.17116114e-03],\n",
       "       [-0.00000000e+00, -0.00000000e+00],\n",
       "       [-0.00000000e+00, -0.00000000e+00],\n",
       "       [ 5.40805981e-03,  1.50598586e-03],\n",
       "       [-0.00000000e+00, -0.00000000e+00],\n",
       "       [-0.00000000e+00, -0.00000000e+00],\n",
       "       [ 5.15658408e-04,  8.77436250e-03],\n",
       "       [-0.00000000e+00, -0.00000000e+00],\n",
       "       [-0.00000000e+00, -0.00000000e+00],\n",
       "       [-0.00000000e+00, -0.00000000e+00],\n",
       "       [-0.00000000e+00, -0.00000000e+00],\n",
       "       [-0.00000000e+00, -0.00000000e+00],\n",
       "       [ 1.73712447e-02,  1.83755271e-02],\n",
       "       [-0.00000000e+00, -0.00000000e+00],\n",
       "       [-0.00000000e+00, -0.00000000e+00],\n",
       "       [-0.00000000e+00, -0.00000000e+00],\n",
       "       [ 3.57821919e-02,  3.53769176e-02],\n",
       "       [ 3.81257385e-04,  4.55864891e-03],\n",
       "       [-0.00000000e+00, -0.00000000e+00],\n",
       "       [-0.00000000e+00, -0.00000000e+00],\n",
       "       [-0.00000000e+00, -0.00000000e+00],\n",
       "       [-0.00000000e+00, -0.00000000e+00],\n",
       "       [-0.00000000e+00, -0.00000000e+00],\n",
       "       [ 1.57987699e-03,  5.43555990e-03],\n",
       "       [ 1.63936839e-02,  2.51736939e-02],\n",
       "       [ 3.54198366e-03,  9.92878899e-03],\n",
       "       [-0.00000000e+00, -0.00000000e+00],\n",
       "       [-0.00000000e+00, -0.00000000e+00],\n",
       "       [ 1.78653337e-02,  2.34509371e-02],\n",
       "       [ 3.00915912e-03,  6.85286149e-03],\n",
       "       [-0.00000000e+00, -0.00000000e+00],\n",
       "       [-0.00000000e+00, -0.00000000e+00],\n",
       "       [-0.00000000e+00, -0.00000000e+00],\n",
       "       [-0.00000000e+00, -0.00000000e+00],\n",
       "       [-0.00000000e+00, -0.00000000e+00],\n",
       "       [ 1.18221715e-03,  1.56562030e-03],\n",
       "       [ 3.31828967e-02,  3.12894322e-02],\n",
       "       [ 5.98580390e-03,  1.53029040e-02],\n",
       "       [-0.00000000e+00,  1.34255737e-04],\n",
       "       [ 2.32399777e-02,  2.95754001e-02],\n",
       "       [ 1.84943266e-02,  2.83939317e-02],\n",
       "       [ 3.10318992e-02,  3.96842211e-02],\n",
       "       [ 3.50726731e-02,  4.08537313e-02],\n",
       "       [-0.00000000e+00,  7.99372792e-05],\n",
       "       [ 7.13541731e-03,  1.81547329e-02],\n",
       "       [ 2.34114751e-02,  2.77734622e-02],\n",
       "       [ 1.13857351e-02,  1.55109502e-02],\n",
       "       [ 4.47759070e-02,  5.33725359e-02],\n",
       "       [ 6.87196963e-02,  7.68531561e-02],\n",
       "       [ 8.50350298e-02,  9.34245028e-02],\n",
       "       [ 8.83896910e-02,  9.75576565e-02],\n",
       "       [ 1.17380839e-01,  1.23911437e-01],\n",
       "       [ 1.30595304e-01,  1.39447771e-01],\n",
       "       [ 1.68403931e-01,  1.74167208e-01],\n",
       "       [ 1.75442174e-01,  1.78919420e-01],\n",
       "       [ 8.76739025e-02,  9.48270708e-02],\n",
       "       [ 1.01301547e-01,  1.06172051e-01],\n",
       "       [ 7.37857819e-02,  7.87117332e-02],\n",
       "       [ 2.38826722e-02,  2.40241624e-02],\n",
       "       [ 1.78403184e-02,  2.65980139e-02],\n",
       "       [ 4.56162170e-03,  1.10036954e-02],\n",
       "       [-0.00000000e+00, -0.00000000e+00],\n",
       "       [-0.00000000e+00, -0.00000000e+00],\n",
       "       [-0.00000000e+00, -0.00000000e+00],\n",
       "       [ 1.05859190e-02,  1.47341006e-02],\n",
       "       [-0.00000000e+00, -0.00000000e+00],\n",
       "       [-0.00000000e+00, -0.00000000e+00],\n",
       "       [-0.00000000e+00, -0.00000000e+00],\n",
       "       [ 7.85309821e-04,  3.65447253e-04],\n",
       "       [ 1.60409138e-03,  8.05738568e-03],\n",
       "       [-0.00000000e+00,  1.42854080e-03],\n",
       "       [ 7.23921135e-03,  1.31532438e-02],\n",
       "       [-0.00000000e+00,  3.21777537e-03],\n",
       "       [-0.00000000e+00, -0.00000000e+00],\n",
       "       [-0.00000000e+00,  1.55371800e-03],\n",
       "       [ 2.84437984e-02,  3.52166779e-02],\n",
       "       [-0.00000000e+00, -0.00000000e+00],\n",
       "       [-0.00000000e+00, -0.00000000e+00],\n",
       "       [-0.00000000e+00, -0.00000000e+00],\n",
       "       [-0.00000000e+00, -0.00000000e+00],\n",
       "       [ 6.97408244e-03,  3.42254341e-03],\n",
       "       [ 1.85733698e-02,  2.59125456e-02],\n",
       "       [ 4.75035124e-02,  5.53073660e-02],\n",
       "       [ 5.69989607e-02,  6.29772134e-02],\n",
       "       [ 3.88811603e-02,  4.65518311e-02],\n",
       "       [ 2.08060779e-02,  2.85981148e-02],\n",
       "       [ 5.54778948e-02,  6.25586994e-02],\n",
       "       [ 8.21108371e-02,  9.07876082e-02],\n",
       "       [ 7.25520551e-02,  8.02477971e-02],\n",
       "       [ 2.84845978e-02,  3.64663489e-02],\n",
       "       [ 7.03293458e-03,  1.18045360e-02],\n",
       "       [ 7.42223486e-03,  1.14586167e-02],\n",
       "       [ 1.88686550e-02,  2.80046649e-02],\n",
       "       [ 2.46673115e-02,  3.10235135e-02],\n",
       "       [ 5.68590313e-02,  6.33938126e-02],\n",
       "       [ 7.99449012e-02,  8.48688893e-02],\n",
       "       [ 5.89921623e-02,  6.82865754e-02],\n",
       "       [ 1.48199648e-01,  1.56607822e-01],\n",
       "       [ 8.90911818e-02,  9.50293764e-02],\n",
       "       [ 2.18292616e-01,  2.26113185e-01],\n",
       "       [ 2.16447800e-01,  2.22144261e-01],\n",
       "       [ 1.87204391e-01,  1.92817926e-01],\n",
       "       [ 1.30364895e-01,  1.36592381e-01],\n",
       "       [ 9.34755467e-02,  9.79866534e-02],\n",
       "       [ 8.84247497e-02,  9.37709846e-02],\n",
       "       [ 4.91348170e-02,  5.57756685e-02],\n",
       "       [ 3.18537131e-02,  3.47713083e-02],\n",
       "       [ 1.42831281e-02,  2.03983970e-02],\n",
       "       [ 6.03223965e-03,  4.58869338e-03],\n",
       "       [-0.00000000e+00, -0.00000000e+00],\n",
       "       [-0.00000000e+00, -0.00000000e+00],\n",
       "       [-0.00000000e+00, -0.00000000e+00],\n",
       "       [ 1.00200437e-02,  1.88906379e-02],\n",
       "       [-0.00000000e+00, -0.00000000e+00],\n",
       "       [-0.00000000e+00, -0.00000000e+00],\n",
       "       [-0.00000000e+00, -0.00000000e+00],\n",
       "       [ 1.03369914e-02,  2.66019925e-02],\n",
       "       [-0.00000000e+00, -0.00000000e+00],\n",
       "       [-0.00000000e+00, -0.00000000e+00],\n",
       "       [-0.00000000e+00, -0.00000000e+00],\n",
       "       [ 2.95709446e-03,  6.02889434e-03],\n",
       "       [ 2.81637162e-03,  1.05942488e-02],\n",
       "       [-0.00000000e+00, -0.00000000e+00],\n",
       "       [-0.00000000e+00, -0.00000000e+00],\n",
       "       [-0.00000000e+00, -0.00000000e+00],\n",
       "       [-0.00000000e+00, -0.00000000e+00],\n",
       "       [ 1.35413334e-02,  2.18840167e-02],\n",
       "       [-0.00000000e+00, -0.00000000e+00],\n",
       "       [ 1.03805549e-02,  1.42003708e-02],\n",
       "       [-0.00000000e+00, -0.00000000e+00],\n",
       "       [-0.00000000e+00, -0.00000000e+00],\n",
       "       [-0.00000000e+00, -0.00000000e+00],\n",
       "       [ 1.35014355e-02,  1.81381144e-02],\n",
       "       [ 1.07643902e-02,  1.40659474e-02],\n",
       "       [ 5.04827872e-03,  4.74269688e-03],\n",
       "       [-0.00000000e+00, -0.00000000e+00],\n",
       "       [ 4.42871377e-02,  5.35967946e-02],\n",
       "       [ 3.05067748e-04,  4.08362970e-03],\n",
       "       [ 7.78886676e-03,  1.48189738e-02],\n",
       "       [ 1.99092925e-02,  2.66232826e-02],\n",
       "       [ 1.42671764e-02,  2.33819559e-02],\n",
       "       [ 4.76799682e-02,  5.25207706e-02],\n",
       "       [ 2.36122273e-02,  3.43982354e-02],\n",
       "       [ 4.05179113e-02,  4.35865037e-02],\n",
       "       [ 2.13055015e-02,  3.08080390e-02],\n",
       "       [ 7.34631345e-03,  1.41824558e-02],\n",
       "       [ 7.67998025e-03,  1.35068782e-02],\n",
       "       [-0.00000000e+00, -0.00000000e+00],\n",
       "       [ 3.04483250e-03,  4.31796536e-03],\n",
       "       [-0.00000000e+00, -0.00000000e+00],\n",
       "       [-0.00000000e+00, -0.00000000e+00],\n",
       "       [-0.00000000e+00, -0.00000000e+00],\n",
       "       [ 1.58148147e-02,  1.94773376e-02],\n",
       "       [ 2.90027261e-03,  5.66500425e-03],\n",
       "       [-0.00000000e+00, -0.00000000e+00],\n",
       "       [-0.00000000e+00, -0.00000000e+00],\n",
       "       [-0.00000000e+00, -0.00000000e+00],\n",
       "       [ 5.40785491e-03,  1.46612599e-02],\n",
       "       [-0.00000000e+00, -0.00000000e+00],\n",
       "       [-0.00000000e+00, -0.00000000e+00],\n",
       "       [-0.00000000e+00, -0.00000000e+00],\n",
       "       [-0.00000000e+00, -0.00000000e+00],\n",
       "       [-0.00000000e+00, -0.00000000e+00],\n",
       "       [-0.00000000e+00, -0.00000000e+00],\n",
       "       [-0.00000000e+00, -0.00000000e+00],\n",
       "       [-0.00000000e+00,  1.79656595e-03],\n",
       "       [-0.00000000e+00, -0.00000000e+00],\n",
       "       [-0.00000000e+00,  3.14889476e-03],\n",
       "       [-0.00000000e+00, -0.00000000e+00],\n",
       "       [-0.00000000e+00, -0.00000000e+00],\n",
       "       [-0.00000000e+00, -0.00000000e+00],\n",
       "       [ 8.55586305e-03,  1.30688138e-02],\n",
       "       [-0.00000000e+00,  5.05937636e-03],\n",
       "       [-0.00000000e+00, -0.00000000e+00],\n",
       "       [ 1.90979205e-02,  2.04253197e-02],\n",
       "       [-0.00000000e+00, -0.00000000e+00],\n",
       "       [-0.00000000e+00, -0.00000000e+00],\n",
       "       [-0.00000000e+00, -0.00000000e+00],\n",
       "       [ 8.46285746e-03,  1.32092983e-02],\n",
       "       [-0.00000000e+00, -0.00000000e+00],\n",
       "       [-0.00000000e+00, -0.00000000e+00],\n",
       "       [-0.00000000e+00,  1.70509890e-03],\n",
       "       [-0.00000000e+00,  1.55866146e-05],\n",
       "       [-0.00000000e+00, -0.00000000e+00],\n",
       "       [-0.00000000e+00, -0.00000000e+00],\n",
       "       [-0.00000000e+00, -0.00000000e+00],\n",
       "       [-0.00000000e+00, -0.00000000e+00],\n",
       "       [-0.00000000e+00,  9.37633589e-03],\n",
       "       [ 3.63797694e-03,  4.58465889e-03],\n",
       "       [-0.00000000e+00, -0.00000000e+00],\n",
       "       [-0.00000000e+00,  9.87637788e-04],\n",
       "       [-0.00000000e+00, -0.00000000e+00],\n",
       "       [-0.00000000e+00, -0.00000000e+00],\n",
       "       [ 1.40219927e-04,  7.55488127e-03],\n",
       "       [-0.00000000e+00, -0.00000000e+00],\n",
       "       [ 2.33952031e-02,  2.90194973e-02],\n",
       "       [ 1.48299374e-02,  2.45483369e-02],\n",
       "       [ 2.88033858e-02,  3.55420299e-02],\n",
       "       [-0.00000000e+00,  1.41254440e-03],\n",
       "       [ 2.51722187e-02,  3.19914445e-02],\n",
       "       [ 2.59577110e-02,  3.37684751e-02],\n",
       "       [ 2.20135897e-02,  2.21838020e-02],\n",
       "       [ 2.98617855e-02,  4.09983210e-02],\n",
       "       [ 3.03839929e-02,  3.93791832e-02],\n",
       "       [ 4.98200804e-02,  5.20936921e-02],\n",
       "       [ 4.45659757e-02,  5.16887754e-02],\n",
       "       [ 2.66329609e-02,  3.46572809e-02],\n",
       "       [ 1.70784369e-02,  1.97341479e-02],\n",
       "       [ 3.48820910e-02,  4.13718931e-02],\n",
       "       [-0.00000000e+00,  2.18444690e-03],\n",
       "       [-0.00000000e+00, -0.00000000e+00],\n",
       "       [ 3.42829600e-02,  4.30121087e-02],\n",
       "       [ 9.36965644e-03,  1.93299763e-02],\n",
       "       [-0.00000000e+00,  2.27247924e-03],\n",
       "       [ 2.23162398e-02,  2.99122334e-02],\n",
       "       [-0.00000000e+00, -0.00000000e+00],\n",
       "       [ 1.25218779e-02,  1.67636313e-02],\n",
       "       [-0.00000000e+00,  1.67329237e-03],\n",
       "       [-0.00000000e+00, -0.00000000e+00],\n",
       "       [-0.00000000e+00, -0.00000000e+00],\n",
       "       [-0.00000000e+00, -0.00000000e+00],\n",
       "       [-0.00000000e+00, -0.00000000e+00],\n",
       "       [-0.00000000e+00, -0.00000000e+00],\n",
       "       [-0.00000000e+00, -0.00000000e+00],\n",
       "       [-0.00000000e+00, -0.00000000e+00],\n",
       "       [-0.00000000e+00, -0.00000000e+00],\n",
       "       [-0.00000000e+00, -0.00000000e+00],\n",
       "       [ 5.54970279e-03,  9.26504657e-03],\n",
       "       [-0.00000000e+00, -0.00000000e+00],\n",
       "       [ 1.49102099e-02,  2.04355158e-02],\n",
       "       [-0.00000000e+00, -0.00000000e+00],\n",
       "       [-0.00000000e+00, -0.00000000e+00],\n",
       "       [-0.00000000e+00, -0.00000000e+00],\n",
       "       [-0.00000000e+00, -0.00000000e+00],\n",
       "       [ 4.62852046e-03,  8.22489709e-03],\n",
       "       [-0.00000000e+00, -0.00000000e+00],\n",
       "       [-0.00000000e+00, -0.00000000e+00],\n",
       "       [-0.00000000e+00,  2.63198838e-03],\n",
       "       [-0.00000000e+00,  3.31718847e-03],\n",
       "       [ 3.91329601e-02,  4.47808430e-02],\n",
       "       [ 3.44586298e-02,  3.69996168e-02],\n",
       "       [ 1.27306581e-02,  2.34201923e-02],\n",
       "       [-0.00000000e+00, -0.00000000e+00],\n",
       "       [ 9.59912315e-03,  2.17827223e-02],\n",
       "       [ 3.34782600e-02,  4.40198984e-02],\n",
       "       [ 7.31742382e-03,  1.25781149e-02],\n",
       "       [-0.00000000e+00, -0.00000000e+00],\n",
       "       [-0.00000000e+00,  3.53535637e-03],\n",
       "       [ 2.35689804e-03,  1.12841167e-02],\n",
       "       [-0.00000000e+00, -0.00000000e+00],\n",
       "       [ 2.31497437e-02,  2.74770111e-02],\n",
       "       [-0.00000000e+00, -0.00000000e+00],\n",
       "       [ 4.77628447e-02,  5.63692432e-02],\n",
       "       [ 5.16201742e-02,  5.89681007e-02],\n",
       "       [ 6.23357370e-02,  7.14285634e-02],\n",
       "       [ 4.21774425e-02,  4.95155454e-02],\n",
       "       [ 9.31550115e-02,  1.00235835e-01],\n",
       "       [ 7.75900260e-02,  8.34012553e-02],\n",
       "       [ 7.11509213e-02,  7.81801306e-02]])"
      ]
     },
     "execution_count": 217,
     "metadata": {},
     "output_type": "execute_result"
    }
   ],
   "source": [
    "y_pred"
   ]
  },
  {
   "cell_type": "markdown",
   "metadata": {},
   "source": [
    "### Computing metrics"
   ]
  },
  {
   "cell_type": "code",
   "execution_count": 218,
   "metadata": {},
   "outputs": [
    {
     "data": {
      "text/plain": [
       "(477,)"
      ]
     },
     "execution_count": 218,
     "metadata": {},
     "output_type": "execute_result"
    }
   ],
   "source": [
    "y.shape"
   ]
  },
  {
   "cell_type": "code",
   "execution_count": 219,
   "metadata": {},
   "outputs": [
    {
     "data": {
      "text/plain": [
       "(477, 2)"
      ]
     },
     "execution_count": 219,
     "metadata": {},
     "output_type": "execute_result"
    }
   ],
   "source": [
    "Ydata.shape"
   ]
  },
  {
   "cell_type": "code",
   "execution_count": 220,
   "metadata": {},
   "outputs": [
    {
     "name": "stdout",
     "output_type": "stream",
     "text": [
      "Metric scores at t+1: \n"
     ]
    },
    {
     "data": {
      "text/html": [
       "<div>\n",
       "<style scoped>\n",
       "    .dataframe tbody tr th:only-of-type {\n",
       "        vertical-align: middle;\n",
       "    }\n",
       "\n",
       "    .dataframe tbody tr th {\n",
       "        vertical-align: top;\n",
       "    }\n",
       "\n",
       "    .dataframe thead th {\n",
       "        text-align: right;\n",
       "    }\n",
       "</style>\n",
       "<table border=\"1\" class=\"dataframe\">\n",
       "  <thead>\n",
       "    <tr style=\"text-align: right;\">\n",
       "      <th></th>\n",
       "      <th>explained_variance_score</th>\n",
       "      <th>mean_absolute_error</th>\n",
       "      <th>mean_squared_error</th>\n",
       "      <th>mean_squared_log_error</th>\n",
       "      <th>median_absolute_error</th>\n",
       "      <th>r2_score</th>\n",
       "    </tr>\n",
       "  </thead>\n",
       "  <tbody>\n",
       "    <tr>\n",
       "      <th>scores</th>\n",
       "      <td>0.885352</td>\n",
       "      <td>0.020181</td>\n",
       "      <td>0.002137</td>\n",
       "      <td>0.001009</td>\n",
       "      <td>0.008098</td>\n",
       "      <td>0.882655</td>\n",
       "    </tr>\n",
       "  </tbody>\n",
       "</table>\n",
       "</div>"
      ],
      "text/plain": [
       "        explained_variance_score  mean_absolute_error  mean_squared_error  \\\n",
       "scores                  0.885352             0.020181            0.002137   \n",
       "\n",
       "        mean_squared_log_error  median_absolute_error  r2_score  \n",
       "scores                0.001009               0.008098  0.882655  "
      ]
     },
     "execution_count": 220,
     "metadata": {},
     "output_type": "execute_result"
    }
   ],
   "source": [
    "metrics=[]\n",
    "for t, (y_true, y) in enumerate(zip(Ydata.T,y_pred.T)):\n",
    "    metrics.append(compute_metrics(y_true,y))\n",
    "print(\"Metric scores at t+1: \")\n",
    "metrics[0]"
   ]
  },
  {
   "cell_type": "code",
   "execution_count": 221,
   "metadata": {},
   "outputs": [
    {
     "name": "stdout",
     "output_type": "stream",
     "text": [
      "Metric scores at t+2: \n"
     ]
    },
    {
     "data": {
      "text/html": [
       "<div>\n",
       "<style scoped>\n",
       "    .dataframe tbody tr th:only-of-type {\n",
       "        vertical-align: middle;\n",
       "    }\n",
       "\n",
       "    .dataframe tbody tr th {\n",
       "        vertical-align: top;\n",
       "    }\n",
       "\n",
       "    .dataframe thead th {\n",
       "        text-align: right;\n",
       "    }\n",
       "</style>\n",
       "<table border=\"1\" class=\"dataframe\">\n",
       "  <thead>\n",
       "    <tr style=\"text-align: right;\">\n",
       "      <th></th>\n",
       "      <th>explained_variance_score</th>\n",
       "      <th>mean_absolute_error</th>\n",
       "      <th>mean_squared_error</th>\n",
       "      <th>mean_squared_log_error</th>\n",
       "      <th>median_absolute_error</th>\n",
       "      <th>r2_score</th>\n",
       "    </tr>\n",
       "  </thead>\n",
       "  <tbody>\n",
       "    <tr>\n",
       "      <th>scores</th>\n",
       "      <td>0.838758</td>\n",
       "      <td>0.024195</td>\n",
       "      <td>0.002954</td>\n",
       "      <td>0.001497</td>\n",
       "      <td>0.009349</td>\n",
       "      <td>0.83778</td>\n",
       "    </tr>\n",
       "  </tbody>\n",
       "</table>\n",
       "</div>"
      ],
      "text/plain": [
       "        explained_variance_score  mean_absolute_error  mean_squared_error  \\\n",
       "scores                  0.838758             0.024195            0.002954   \n",
       "\n",
       "        mean_squared_log_error  median_absolute_error  r2_score  \n",
       "scores                0.001497               0.009349   0.83778  "
      ]
     },
     "execution_count": 221,
     "metadata": {},
     "output_type": "execute_result"
    }
   ],
   "source": [
    "print(\"Metric scores at t+2: \")\n",
    "metrics[1]"
   ]
  },
  {
   "cell_type": "markdown",
   "metadata": {},
   "source": [
    "### Computing correlations"
   ]
  },
  {
   "cell_type": "code",
   "execution_count": 222,
   "metadata": {},
   "outputs": [
    {
     "data": {
      "text/plain": [
       "(477, 10, 7)"
      ]
     },
     "execution_count": 222,
     "metadata": {},
     "output_type": "execute_result"
    }
   ],
   "source": [
    "Xdata.shape"
   ]
  },
  {
   "cell_type": "code",
   "execution_count": 223,
   "metadata": {},
   "outputs": [
    {
     "data": {
      "text/plain": [
       "(477, 2)"
      ]
     },
     "execution_count": 223,
     "metadata": {},
     "output_type": "execute_result"
    }
   ],
   "source": [
    "y_pred.shape"
   ]
  },
  {
   "cell_type": "code",
   "execution_count": 231,
   "metadata": {},
   "outputs": [
    {
     "ename": "ValueError",
     "evalue": "operands could not be broadcast together with shapes (477,) (477,2) ",
     "output_type": "error",
     "traceback": [
      "\u001b[0;31m---------------------------------------------------------------------------\u001b[0m",
      "\u001b[0;31mValueError\u001b[0m                                Traceback (most recent call last)",
      "\u001b[0;32m<ipython-input-231-a0aab3cbf943>\u001b[0m in \u001b[0;36m<module>\u001b[0;34m\u001b[0m\n\u001b[1;32m      1\u001b[0m compute_residue_predictor_correlations(y_true,y_pred, X_predictors, predictors, look_back=10,\n\u001b[0;32m----> 2\u001b[0;31m                                            predict_n=2,predictor_back=1,as_dataframe=True)\n\u001b[0m",
      "\u001b[0;32m~/InfoDenguePredict/infodenguepredict/metrics/metrics.py\u001b[0m in \u001b[0;36mcompute_residue_predictor_correlations\u001b[0;34m(y_true, y_pred, X_predictors, predictors, look_back, predict_n, predictor_back, as_dataframe)\u001b[0m\n\u001b[1;32m     45\u001b[0m     \u001b[0mComputes\u001b[0m \u001b[0mcorrelations\u001b[0m \u001b[0mbetween\u001b[0m \u001b[0mpredictors\u001b[0m \u001b[0;32mand\u001b[0m \u001b[0mresidues\u001b[0m\u001b[0;34m\u001b[0m\u001b[0;34m\u001b[0m\u001b[0m\n\u001b[1;32m     46\u001b[0m     \"\"\"\n\u001b[0;32m---> 47\u001b[0;31m     \u001b[0mresidues\u001b[0m \u001b[0;34m=\u001b[0m \u001b[0my_true\u001b[0m \u001b[0;34m-\u001b[0m \u001b[0my_pred\u001b[0m\u001b[0;34m\u001b[0m\u001b[0;34m\u001b[0m\u001b[0m\n\u001b[0m\u001b[1;32m     48\u001b[0m     \u001b[0mcorr_scores\u001b[0m \u001b[0;34m=\u001b[0m \u001b[0;34m{\u001b[0m\u001b[0;34m}\u001b[0m\u001b[0;34m\u001b[0m\u001b[0;34m\u001b[0m\u001b[0m\n\u001b[1;32m     49\u001b[0m     \u001b[0;32mfor\u001b[0m \u001b[0mp\u001b[0m\u001b[0;34m,\u001b[0m\u001b[0mx\u001b[0m \u001b[0;32min\u001b[0m \u001b[0mzip\u001b[0m\u001b[0;34m(\u001b[0m\u001b[0mpredictors\u001b[0m\u001b[0;34m,\u001b[0m\u001b[0mX_predictors\u001b[0m\u001b[0;34m[\u001b[0m\u001b[0mlook_back\u001b[0m\u001b[0;34m-\u001b[0m\u001b[0mpredictor_back\u001b[0m\u001b[0;34m:\u001b[0m\u001b[0;34m-\u001b[0m\u001b[0mpredictor_back\u001b[0m\u001b[0;34m-\u001b[0m\u001b[0mpredict_n\u001b[0m\u001b[0;34m+\u001b[0m\u001b[0;36m1\u001b[0m\u001b[0;34m]\u001b[0m\u001b[0;34m.\u001b[0m\u001b[0mT\u001b[0m\u001b[0;34m)\u001b[0m\u001b[0;34m:\u001b[0m\u001b[0;34m\u001b[0m\u001b[0;34m\u001b[0m\u001b[0m\n",
      "\u001b[0;31mValueError\u001b[0m: operands could not be broadcast together with shapes (477,) (477,2) "
     ]
    }
   ],
   "source": [
    "compute_residue_predictor_correlations(y_true,y_pred, X_predictors, predictors, look_back=10,\n",
    "                                           predict_n=2,predictor_back=1,as_dataframe=True)"
   ]
  },
  {
   "cell_type": "code",
   "execution_count": 232,
   "metadata": {},
   "outputs": [
    {
     "data": {
      "text/plain": [
       "Index(['casos_3304557', 'p_rt1_3304557', 'p_inc100k_3304557',\n",
       "       'temp_min_3304557', 'temp_max_3304557', 'umid_min_3304557',\n",
       "       'pressao_min_3304557'],\n",
       "      dtype='object')"
      ]
     },
     "execution_count": 232,
     "metadata": {},
     "output_type": "execute_result"
    }
   ],
   "source": [
    "data.columns"
   ]
  },
  {
   "cell_type": "code",
   "execution_count": 207,
   "metadata": {},
   "outputs": [
    {
     "data": {
      "text/plain": [
       "(488, 7)"
      ]
     },
     "execution_count": 207,
     "metadata": {},
     "output_type": "execute_result"
    }
   ],
   "source": [
    "X_predictors.shape"
   ]
  },
  {
   "cell_type": "code",
   "execution_count": 239,
   "metadata": {},
   "outputs": [
    {
     "name": "stdout",
     "output_type": "stream",
     "text": [
      "Correlation scores at t+1: \n"
     ]
    },
    {
     "data": {
      "text/html": [
       "<div>\n",
       "<style scoped>\n",
       "    .dataframe tbody tr th:only-of-type {\n",
       "        vertical-align: middle;\n",
       "    }\n",
       "\n",
       "    .dataframe tbody tr th {\n",
       "        vertical-align: top;\n",
       "    }\n",
       "\n",
       "    .dataframe thead th {\n",
       "        text-align: right;\n",
       "    }\n",
       "</style>\n",
       "<table border=\"1\" class=\"dataframe\">\n",
       "  <thead>\n",
       "    <tr style=\"text-align: right;\">\n",
       "      <th></th>\n",
       "      <th>p_inc100k_3304557</th>\n",
       "      <th>p_rt1_3304557</th>\n",
       "      <th>pressao_min_3304557</th>\n",
       "      <th>temp_max_3304557</th>\n",
       "      <th>temp_min_3304557</th>\n",
       "      <th>umid_min_3304557</th>\n",
       "    </tr>\n",
       "  </thead>\n",
       "  <tbody>\n",
       "    <tr>\n",
       "      <th>correlations</th>\n",
       "      <td>0.104945</td>\n",
       "      <td>0.636855</td>\n",
       "      <td>-0.055338</td>\n",
       "      <td>-0.003427</td>\n",
       "      <td>0.635851</td>\n",
       "      <td>0.044472</td>\n",
       "    </tr>\n",
       "  </tbody>\n",
       "</table>\n",
       "</div>"
      ],
      "text/plain": [
       "              p_inc100k_3304557  p_rt1_3304557  pressao_min_3304557  \\\n",
       "correlations           0.104945       0.636855            -0.055338   \n",
       "\n",
       "              temp_max_3304557  temp_min_3304557  umid_min_3304557  \n",
       "correlations         -0.003427          0.635851          0.044472  "
      ]
     },
     "execution_count": 239,
     "metadata": {},
     "output_type": "execute_result"
    }
   ],
   "source": [
    "correlations=[]\n",
    "X_predictors = data.values\n",
    "predictors = data.columns[1:]\n",
    "look_back=10\n",
    "predict_n=2\n",
    "as_dataframe=True\n",
    "for t, (y_true, y) in enumerate(zip(Ydata.T,y_pred.T)):\n",
    "    predictor_back = t\n",
    "    correlations.append(compute_residue_predictor_correlations(y_true,y, X_predictors, predictors, look_back,\n",
    "                                           predict_n,predictor_back,as_dataframe))\n",
    "print(\"Correlation scores at t+1: \")\n",
    "correlations[0]"
   ]
  },
  {
   "cell_type": "code",
   "execution_count": 238,
   "metadata": {},
   "outputs": [
    {
     "data": {
      "text/plain": [
       "{'p_rt1_3304557': 0.39016488989084525,\n",
       " 'p_inc100k_3304557': 0.13151744923754433,\n",
       " 'temp_min_3304557': 0.38939790474079505,\n",
       " 'temp_max_3304557': 0.07380375043532028,\n",
       " 'umid_min_3304557': 0.09773211553427166,\n",
       " 'pressao_min_3304557': -0.058172798354581806}"
      ]
     },
     "execution_count": 238,
     "metadata": {},
     "output_type": "execute_result"
    }
   ],
   "source": [
    "correlations[1]"
   ]
  },
  {
   "cell_type": "code",
   "execution_count": 184,
   "metadata": {},
   "outputs": [
    {
     "ename": "SyntaxError",
     "evalue": "invalid syntax (<ipython-input-184-05dcfa966796>, line 5)",
     "output_type": "error",
     "traceback": [
      "\u001b[0;36m  File \u001b[0;32m\"<ipython-input-184-05dcfa966796>\"\u001b[0;36m, line \u001b[0;32m5\u001b[0m\n\u001b[0;31m    X_predictors =\u001b[0m\n\u001b[0m                   ^\u001b[0m\n\u001b[0;31mSyntaxError\u001b[0m\u001b[0;31m:\u001b[0m invalid syntax\n"
     ]
    }
   ],
   "source": [
    "predictors = ['casos_3304557', 'p_rt1_3304557', 'p_inc100k_3304557',\n",
    "       'temp_min_3304557', 'temp_max_3304557', 'umid_min_3304557',\n",
    "       'pressao_min_3304557']\n",
    "look_back=7\n",
    "X_predictors = \n",
    "compute_residue_predictor_correlations(Ydata,y_pred, Xdata, predictors, look_back,as_dataframe=True)"
   ]
  },
  {
   "cell_type": "markdown",
   "metadata": {},
   "source": [
    "## Nova Iguaçu\n",
    "\n",
    "Let us now train a model for Nova Iguaçu"
   ]
  },
  {
   "cell_type": "code",
   "execution_count": 60,
   "metadata": {},
   "outputs": [
    {
     "name": "stdout",
     "output_type": "stream",
     "text": [
      "Enter the database password: ········\n"
     ]
    }
   ],
   "source": [
    "os.environ['PSQL_USER']='dengue_ro'\n",
    "os.environ['PSQL_HOST']='localhost'\n",
    "os.environ['PSQL_DB']='dengue_ro'\n",
    "os.environ['PSQL_PASSWORD']=getpass.getpass(\"Enter the database password: \")"
   ]
  },
  {
   "cell_type": "markdown",
   "metadata": {},
   "source": [
    "#### Getting and normalizing  dengue data"
   ]
  },
  {
   "cell_type": "code",
   "execution_count": 61,
   "metadata": {},
   "outputs": [
    {
     "name": "stdout",
     "output_type": "stream",
     "text": [
      "Shape of data:  (282, 7)\n"
     ]
    },
    {
     "data": {
      "text/html": [
       "<div>\n",
       "<style scoped>\n",
       "    .dataframe tbody tr th:only-of-type {\n",
       "        vertical-align: middle;\n",
       "    }\n",
       "\n",
       "    .dataframe tbody tr th {\n",
       "        vertical-align: top;\n",
       "    }\n",
       "\n",
       "    .dataframe thead th {\n",
       "        text-align: right;\n",
       "    }\n",
       "</style>\n",
       "<table border=\"1\" class=\"dataframe\">\n",
       "  <thead>\n",
       "    <tr style=\"text-align: right;\">\n",
       "      <th></th>\n",
       "      <th>casos_3303500</th>\n",
       "      <th>p_rt1_3303500</th>\n",
       "      <th>p_inc100k_3303500</th>\n",
       "      <th>temp_min_3303500</th>\n",
       "      <th>temp_max_3303500</th>\n",
       "      <th>umid_min_3303500</th>\n",
       "      <th>pressao_min_3303500</th>\n",
       "    </tr>\n",
       "  </thead>\n",
       "  <tbody>\n",
       "    <tr>\n",
       "      <th>2012-01-01</th>\n",
       "      <td>0.129338</td>\n",
       "      <td>0.996510</td>\n",
       "      <td>0.129337</td>\n",
       "      <td>0.863720</td>\n",
       "      <td>0.780804</td>\n",
       "      <td>0.715183</td>\n",
       "      <td>0.982919</td>\n",
       "    </tr>\n",
       "    <tr>\n",
       "      <th>2012-01-08</th>\n",
       "      <td>0.201893</td>\n",
       "      <td>0.999718</td>\n",
       "      <td>0.201892</td>\n",
       "      <td>0.839779</td>\n",
       "      <td>0.782101</td>\n",
       "      <td>0.645548</td>\n",
       "      <td>0.986736</td>\n",
       "    </tr>\n",
       "    <tr>\n",
       "      <th>2012-01-15</th>\n",
       "      <td>0.160883</td>\n",
       "      <td>0.814445</td>\n",
       "      <td>0.160883</td>\n",
       "      <td>0.895028</td>\n",
       "      <td>0.856031</td>\n",
       "      <td>0.535959</td>\n",
       "      <td>0.988271</td>\n",
       "    </tr>\n",
       "    <tr>\n",
       "      <th>2012-01-22</th>\n",
       "      <td>0.274448</td>\n",
       "      <td>0.997989</td>\n",
       "      <td>0.274448</td>\n",
       "      <td>0.906077</td>\n",
       "      <td>0.871595</td>\n",
       "      <td>0.537671</td>\n",
       "      <td>0.987434</td>\n",
       "    </tr>\n",
       "    <tr>\n",
       "      <th>2012-01-29</th>\n",
       "      <td>0.315457</td>\n",
       "      <td>0.997224</td>\n",
       "      <td>0.315457</td>\n",
       "      <td>0.856354</td>\n",
       "      <td>0.809339</td>\n",
       "      <td>0.611301</td>\n",
       "      <td>0.987154</td>\n",
       "    </tr>\n",
       "  </tbody>\n",
       "</table>\n",
       "</div>"
      ],
      "text/plain": [
       "            casos_3303500  p_rt1_3303500  p_inc100k_3303500  temp_min_3303500  \\\n",
       "2012-01-01       0.129338       0.996510           0.129337          0.863720   \n",
       "2012-01-08       0.201893       0.999718           0.201892          0.839779   \n",
       "2012-01-15       0.160883       0.814445           0.160883          0.895028   \n",
       "2012-01-22       0.274448       0.997989           0.274448          0.906077   \n",
       "2012-01-29       0.315457       0.997224           0.315457          0.856354   \n",
       "\n",
       "            temp_max_3303500  umid_min_3303500  pressao_min_3303500  \n",
       "2012-01-01          0.780804          0.715183             0.982919  \n",
       "2012-01-08          0.782101          0.645548             0.986736  \n",
       "2012-01-15          0.856031          0.535959             0.988271  \n",
       "2012-01-22          0.871595          0.537671             0.987434  \n",
       "2012-01-29          0.809339          0.611301             0.987154  "
      ]
     },
     "execution_count": 61,
     "metadata": {},
     "output_type": "execute_result"
    }
   ],
   "source": [
    "geocodes = {\"rio\": 3304557, \"n_iguacu\": 3303500}\n",
    "features = ['casos_', 'p_rt1_', 'p_inc100k_',\n",
    "       'temp_min_', 'temp_max_', 'umid_min_',\n",
    "       'pressao_min_']\n",
    "usecols = [f + str(geocodes[\"n_iguacu\"]) for f in features]\n",
    "df, _ = get_cluster_data(geocodes[\"n_iguacu\"], clusters=[], data_types=[\"alerta\", \"weather\"], \\\n",
    "                 cols=None, save=False, doenca='dengue')\n",
    "data=df.loc[:,usecols]\n",
    "timestamps=data.index\n",
    "#data = df[usecols]\n",
    "### Normalizing data\n",
    "min_values = np.min(data,axis=0)\n",
    "max_values = np.max(data,axis=0)\n",
    "data, _ = normalize_data(data)\n",
    "data.index=timestamps\n",
    "print(\"Shape of data: \", data.shape)\n",
    "data.head()\n",
    "#df"
   ]
  },
  {
   "cell_type": "markdown",
   "metadata": {},
   "source": [
    "#### Splitting train/test sets"
   ]
  },
  {
   "cell_type": "code",
   "execution_count": 62,
   "metadata": {},
   "outputs": [
    {
     "name": "stdout",
     "output_type": "stream",
     "text": [
      "train size:  201\n",
      "X_train shape: (201, 10, 7)\t y_train shape: (201, 1)\n",
      "\n",
      "X_test shape: (71, 10, 7)\t y_test shape: (71, 1)\n",
      "\n"
     ]
    }
   ],
   "source": [
    "X_train, y_train, X_test, y_test = split_data(data, look_back=10, ratio=0.75, predict_n=1, Y_column=0)\n",
    "print(\"X_train shape: {}\\t y_train shape: {}\\n\".format(X_train.shape,y_train.shape))\n",
    "print(\"X_test shape: {}\\t y_test shape: {}\\n\".format(X_test.shape,y_test.shape))"
   ]
  },
  {
   "cell_type": "markdown",
   "metadata": {},
   "source": [
    "#### Running model"
   ]
  },
  {
   "cell_type": "code",
   "execution_count": 63,
   "metadata": {},
   "outputs": [
    {
     "name": "stdout",
     "output_type": "stream",
     "text": [
      "Compilation Time :  0.024903059005737305\n",
      "_________________________________________________________________\n",
      "Layer (type)                 Output Shape              Param #   \n",
      "=================================================================\n",
      "input_11 (InputLayer)        (67, 10, 7)               0         \n",
      "_________________________________________________________________\n",
      "lstm_31 (LSTM)               (67, 10, 4)               192       \n",
      "_________________________________________________________________\n",
      "dropout_31 (Dropout)         (67, 10, 4)               0         \n",
      "_________________________________________________________________\n",
      "lstm_32 (LSTM)               (67, 10, 4)               144       \n",
      "_________________________________________________________________\n",
      "dropout_32 (Dropout)         (67, 10, 4)               0         \n",
      "_________________________________________________________________\n",
      "lstm_33 (LSTM)               (67, 4)                   144       \n",
      "_________________________________________________________________\n",
      "dropout_33 (Dropout)         (67, 4)                   0         \n",
      "_________________________________________________________________\n",
      "dense_11 (Dense)             (67, 1)                   5         \n",
      "=================================================================\n",
      "Total params: 485\n",
      "Trainable params: 485\n",
      "Non-trainable params: 0\n",
      "_________________________________________________________________\n",
      "None\n"
     ]
    },
    {
     "name": "stderr",
     "output_type": "stream",
     "text": [
      "/home/rio/geomed/Analysis/lstm.py:173: UserWarning: The `nb_epoch` argument in `fit` has been renamed `epochs`.\n",
      "  callbacks=[TB_callback, es, cp]\n"
     ]
    },
    {
     "name": "stdout",
     "output_type": "stream",
     "text": [
      "Train on 170 samples, validate on 31 samples\n",
      "Epoch 1/20\n",
      "170/170 [==============================] - 8s 46ms/step - loss: 0.0299 - acc: 0.0059 - mean_absolute_percentage_error: 790620.7878 - mean_squared_error: 0.0529 - val_loss: 0.0108 - val_acc: 0.0000e+00 - val_mean_absolute_percentage_error: 268.6704 - val_mean_squared_error: 0.0147\n",
      "Epoch 2/20\n",
      "170/170 [==============================] - 5s 32ms/step - loss: 0.0255 - acc: 0.0059 - mean_absolute_percentage_error: 547584.9587 - mean_squared_error: 0.0460 - val_loss: 0.0101 - val_acc: 0.0000e+00 - val_mean_absolute_percentage_error: 159.8642 - val_mean_squared_error: 0.0141\n",
      "Epoch 3/20\n",
      "170/170 [==============================] - 6s 37ms/step - loss: 0.0186 - acc: 0.0059 - mean_absolute_percentage_error: 247072.2046 - mean_squared_error: 0.0349 - val_loss: 0.0105 - val_acc: 0.0000e+00 - val_mean_absolute_percentage_error: 168.2371 - val_mean_squared_error: 0.0151\n",
      "Epoch 4/20\n",
      "170/170 [==============================] - 4s 24ms/step - loss: 0.0158 - acc: 0.0069 - mean_absolute_percentage_error: 296579.5175 - mean_squared_error: 0.0300 - val_loss: 0.0098 - val_acc: 0.0000e+00 - val_mean_absolute_percentage_error: 131.3079 - val_mean_squared_error: 0.0147\n",
      "Epoch 5/20\n",
      "170/170 [==============================] - 7s 39ms/step - loss: 0.0133 - acc: 0.0069 - mean_absolute_percentage_error: 180064.2673 - mean_squared_error: 0.0255 - val_loss: 0.0079 - val_acc: 0.0000e+00 - val_mean_absolute_percentage_error: 100.1567 - val_mean_squared_error: 0.0119\n",
      "Epoch 6/20\n",
      "170/170 [==============================] - 8s 48ms/step - loss: 0.0116 - acc: 0.0089 - mean_absolute_percentage_error: 211415.2503 - mean_squared_error: 0.0226 - val_loss: 0.0078 - val_acc: 0.0000e+00 - val_mean_absolute_percentage_error: 87.8171 - val_mean_squared_error: 0.0121\n",
      "Epoch 7/20\n",
      "170/170 [==============================] - 5s 31ms/step - loss: 0.0106 - acc: 0.0092 - mean_absolute_percentage_error: 301621.5825 - mean_squared_error: 0.0206 - val_loss: 0.0056 - val_acc: 0.0000e+00 - val_mean_absolute_percentage_error: 99.5479 - val_mean_squared_error: 0.0086\n",
      "Epoch 8/20\n",
      "170/170 [==============================] - 7s 42ms/step - loss: 0.0101 - acc: 0.0083 - mean_absolute_percentage_error: 195771.8253 - mean_squared_error: 0.0201 - val_loss: 0.0079 - val_acc: 0.0000e+00 - val_mean_absolute_percentage_error: 114.0185 - val_mean_squared_error: 0.0130\n",
      "Epoch 9/20\n",
      "170/170 [==============================] - 8s 45ms/step - loss: 0.0095 - acc: 0.0101 - mean_absolute_percentage_error: 150063.7425 - mean_squared_error: 0.0189 - val_loss: 0.0064 - val_acc: 0.0000e+00 - val_mean_absolute_percentage_error: 78.7991 - val_mean_squared_error: 0.0095\n",
      "Epoch 10/20\n",
      "170/170 [==============================] - 5s 31ms/step - loss: 0.0095 - acc: 0.0093 - mean_absolute_percentage_error: 271078.9131 - mean_squared_error: 0.0189 - val_loss: 0.0058 - val_acc: 0.0000e+00 - val_mean_absolute_percentage_error: 79.0541 - val_mean_squared_error: 0.0091\n",
      "Epoch 11/20\n",
      "170/170 [==============================] - 7s 43ms/step - loss: 0.0091 - acc: 0.0095 - mean_absolute_percentage_error: 182977.7113 - mean_squared_error: 0.0181 - val_loss: 0.0058 - val_acc: 0.0000e+00 - val_mean_absolute_percentage_error: 73.7375 - val_mean_squared_error: 0.0086\n",
      "Epoch 12/20\n",
      "170/170 [==============================] - 8s 49ms/step - loss: 0.0086 - acc: 0.0081 - mean_absolute_percentage_error: 205519.3837 - mean_squared_error: 0.0174 - val_loss: 0.0062 - val_acc: 0.0000e+00 - val_mean_absolute_percentage_error: 74.1279 - val_mean_squared_error: 0.0092\n",
      "Epoch 13/20\n",
      "170/170 [==============================] - 4s 26ms/step - loss: 0.0086 - acc: 0.0090 - mean_absolute_percentage_error: 206444.5603 - mean_squared_error: 0.0172 - val_loss: 0.0059 - val_acc: 0.0000e+00 - val_mean_absolute_percentage_error: 78.7665 - val_mean_squared_error: 0.0090\n",
      "Epoch 14/20\n",
      "170/170 [==============================] - 7s 43ms/step - loss: 0.0085 - acc: 0.0097 - mean_absolute_percentage_error: 189241.8691 - mean_squared_error: 0.0173 - val_loss: 0.0069 - val_acc: 0.0000e+00 - val_mean_absolute_percentage_error: 86.2477 - val_mean_squared_error: 0.0113\n",
      "Epoch 15/20\n",
      "170/170 [==============================] - 6s 36ms/step - loss: 0.0086 - acc: 0.0095 - mean_absolute_percentage_error: 271350.0797 - mean_squared_error: 0.0172 - val_loss: 0.0055 - val_acc: 0.0000e+00 - val_mean_absolute_percentage_error: 82.1337 - val_mean_squared_error: 0.0086\n",
      "Epoch 16/20\n",
      "170/170 [==============================] - 4s 26ms/step - loss: 0.0085 - acc: 0.0095 - mean_absolute_percentage_error: 154236.2091 - mean_squared_error: 0.0172 - val_loss: 0.0064 - val_acc: 0.0000e+00 - val_mean_absolute_percentage_error: 92.0426 - val_mean_squared_error: 0.0107\n",
      "Epoch 17/20\n",
      "170/170 [==============================] - 7s 42ms/step - loss: 0.0083 - acc: 0.0083 - mean_absolute_percentage_error: 214376.7579 - mean_squared_error: 0.0168 - val_loss: 0.0065 - val_acc: 0.0000e+00 - val_mean_absolute_percentage_error: 79.7383 - val_mean_squared_error: 0.0105\n",
      "Epoch 18/20\n",
      "170/170 [==============================] - 5s 32ms/step - loss: 0.0081 - acc: 0.0096 - mean_absolute_percentage_error: 134739.7201 - mean_squared_error: 0.0162 - val_loss: 0.0065 - val_acc: 0.0000e+00 - val_mean_absolute_percentage_error: 80.6366 - val_mean_squared_error: 0.0104\n",
      "Epoch 19/20\n",
      "170/170 [==============================] - 6s 33ms/step - loss: 0.0079 - acc: 0.0096 - mean_absolute_percentage_error: 219401.1965 - mean_squared_error: 0.0162 - val_loss: 0.0074 - val_acc: 0.0000e+00 - val_mean_absolute_percentage_error: 98.4899 - val_mean_squared_error: 0.0127\n",
      "Epoch 20/20\n",
      "170/170 [==============================] - 7s 40ms/step - loss: 0.0078 - acc: 0.0097 - mean_absolute_percentage_error: 104832.2795 - mean_squared_error: 0.0158 - val_loss: 0.0063 - val_acc: 0.0000e+00 - val_mean_absolute_percentage_error: 82.4946 - val_mean_squared_error: 0.0102\n"
     ]
    }
   ],
   "source": [
    "batch_size=67\n",
    "model = build_model(hidden=4, features=7, predict_n=1, look_back=10, batch_size=batch_size)\n",
    "hist = train(model, X_train, y_train, batch_size=1, epochs=20, geocode=geocodes[\"n_iguacu\"], overwrite=True)"
   ]
  },
  {
   "cell_type": "markdown",
   "metadata": {},
   "source": [
    "#### Plotting results \n",
    "Note that we reload and recompile the trained model."
   ]
  },
  {
   "cell_type": "code",
   "execution_count": 68,
   "metadata": {},
   "outputs": [
    {
     "name": "stdout",
     "output_type": "stream",
     "text": [
      "Compilation Time :  0.02573227882385254\n",
      "_________________________________________________________________\n",
      "Layer (type)                 Output Shape              Param #   \n",
      "=================================================================\n",
      "input_14 (InputLayer)        (1, 10, 7)                0         \n",
      "_________________________________________________________________\n",
      "lstm_40 (LSTM)               (1, 10, 4)                192       \n",
      "_________________________________________________________________\n",
      "dropout_40 (Dropout)         (1, 10, 4)                0         \n",
      "_________________________________________________________________\n",
      "lstm_41 (LSTM)               (1, 10, 4)                144       \n",
      "_________________________________________________________________\n",
      "dropout_41 (Dropout)         (1, 10, 4)                0         \n",
      "_________________________________________________________________\n",
      "lstm_42 (LSTM)               (1, 4)                    144       \n",
      "_________________________________________________________________\n",
      "dropout_42 (Dropout)         (1, 4)                    0         \n",
      "_________________________________________________________________\n",
      "dense_14 (Dense)             (1, 1)                    5         \n",
      "=================================================================\n",
      "Total params: 485\n",
      "Trainable params: 485\n",
      "Non-trainable params: 0\n",
      "_________________________________________________________________\n",
      "None\n"
     ]
    },
    {
     "data": {
      "image/png": "[encoded data removed]",
      "text/plain": [
       "<Figure size 1152x576 with 1 Axes>"
      ]
     },
     "metadata": {
      "needs_background": "light"
     },
     "output_type": "display_data"
    }
   ],
   "source": [
    "### formatting data and loading model\n",
    "X, y = np.concatenate((X_train,X_test), axis=0), np.concatenate((y_train,y_test),axis=0)*max_values.iloc[0]\n",
    "\n",
    "timestamps = data.index[:len(X)]\n",
    "predictions = make_predictions_batch(X, model, hidden=4, features=7, predict_n = 1, look_back=10,\\\n",
    "                                          batch_size=1,n_pred = 100)*max_values.iloc[0]\n",
    "\n",
    "### Plotting\n",
    "plot=\"median\"\n",
    "confidence=95\n",
    "data_kw={\"label\": \"data\",\"color\":\"black\"}\n",
    "pred_kw = {\"color\":\"red\"}\n",
    "fill_kw={\"color\":\"blue\",\"alpha\":0.3,\"label\": \"{} confidence interval\".format(confidence)}\n",
    "title_kw={\"label\": \"Predictions for Nova Iguaçu\",\"fontsize\":20}\n",
    "xlabel_kw = {\"xlabel\": \"time\",\"fontsize\":14}\n",
    "ylabel_kw={\"ylabel\":\"Incidence\",\"fontsize\":14}\n",
    "axvline_kw={\"x\": timestamps[len(X_train)], \"linestyle\": \"dashdot\", \"ymin\":0.05,\"ymax\":1, \"color\": \"g\", \"label\":\"train/test split\"}\n",
    "grid_params={}\n",
    "\n",
    "fig, ax = plt.subplots(figsize=(16,8))\n",
    "plot_quantiles(ax,timestamps, predictions[:,:,0],y[:,0],plot,confidence,data_kw,pred_kw,fill_kw,\\\n",
    "               title_kw,xlabel_kw,ylabel_kw,axvline_kw)\n",
    "### saving figure\n",
    "fig.savefig(\"../figures/LSTM_{}_dropout.png\".format(geocodes[\"n_iguacu\"]))"
   ]
  },
  {
   "cell_type": "code",
   "execution_count": null,
   "metadata": {},
   "outputs": [],
   "source": [
    "y = np.array([1,2])\n",
    "x = np.array([[1,2],[]])"
   ]
  }
 ],
 "metadata": {
  "kernelspec": {
   "display_name": "Python 3",
   "language": "python",
   "name": "python3"
  },
  "language_info": {
   "codemirror_mode": {
    "name": "ipython",
    "version": 3
   },
   "file_extension": ".py",
   "mimetype": "text/x-python",
   "name": "python",
   "nbconvert_exporter": "python",
   "pygments_lexer": "ipython3",
   "version": "3.7.3"
  },
  "varInspector": {
   "cols": {
    "lenName": 16,
    "lenType": 16,
    "lenVar": 40
   },
   "kernels_config": {
    "python": {
     "delete_cmd_postfix": "",
     "delete_cmd_prefix": "del ",
     "library": "var_list.py",
     "varRefreshCmd": "print(var_dic_list())"
    },
    "r": {
     "delete_cmd_postfix": ") ",
     "delete_cmd_prefix": "rm(",
     "library": "var_list.r",
     "varRefreshCmd": "cat(var_dic_list()) "
    }
   },
   "types_to_exclude": [
    "module",
    "function",
    "builtin_function_or_method",
    "instance",
    "_Feature"
   ],
   "window_display": false
  }
 },
 "nbformat": 4,
 "nbformat_minor": 2
}
